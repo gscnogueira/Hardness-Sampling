{
 "cells": [
  {
   "cell_type": "markdown",
   "id": "ae7feac5-43e1-4bbb-acb7-e9644d47e562",
   "metadata": {},
   "source": [
    "# Runtime Analysis"
   ]
  },
  {
   "cell_type": "code",
   "execution_count": 50,
   "id": "b8875dda-48e4-41d4-975a-6fa7aabaae7b",
   "metadata": {},
   "outputs": [],
   "source": [
    "import os\n",
    "\n",
    "import pandas as pd\n",
    "import matplotlib.pyplot as plt"
   ]
  },
  {
   "cell_type": "code",
   "execution_count": 1,
   "id": "c9bc18fe-a5f4-4574-961c-d8c8fdcbe7c5",
   "metadata": {},
   "outputs": [],
   "source": [
    "RESULTS_DIR = '../results/v2'"
   ]
  },
  {
   "cell_type": "markdown",
   "id": "c5945848-b5d0-4311-b35a-e35359d4dfee",
   "metadata": {},
   "source": [
    "Juntando todos os resultados para o datset iris, junto com o classificador NB"
   ]
  },
  {
   "cell_type": "code",
   "execution_count": 116,
   "id": "ac283497-1515-4d0a-8bfb-3fd77d5537ab",
   "metadata": {},
   "outputs": [
    {
     "data": {
      "text/plain": [
       "24"
      ]
     },
     "execution_count": 116,
     "metadata": {},
     "output_type": "execute_result"
    }
   ],
   "source": [
    "file_list = !ls $RESULTS_DIR | grep iris | grep Gaussian\n",
    "len(file_list)"
   ]
  },
  {
   "cell_type": "code",
   "execution_count": 117,
   "id": "19dd53f3-2c66-44f9-bad6-31b5be0688b2",
   "metadata": {},
   "outputs": [],
   "source": [
    "df = pd.concat(pd.read_csv(os.path.join(RESULTS_DIR, f), parse_dates=['time'])\n",
    "               for f in file_list)"
   ]
  },
  {
   "cell_type": "markdown",
   "id": "ad0b8414-6112-4b54-a937-b57fa85b74b2",
   "metadata": {},
   "source": [
    "Descobrindo qual dos métodos demora mais tempo"
   ]
  },
  {
   "cell_type": "code",
   "execution_count": 118,
   "id": "46050019-83d5-4c25-8534-1ea1d477f0bd",
   "metadata": {},
   "outputs": [],
   "source": [
    "avg_query_time = df.groupby(\"method\").apply(lambda x: x.time.diff().max())"
   ]
  },
  {
   "cell_type": "code",
   "execution_count": 119,
   "id": "86bce216-1158-479d-85cc-4cf03b7e89b7",
   "metadata": {},
   "outputs": [
    {
     "data": {
      "text/plain": [
       "method\n",
       "margin_sampling                         1.000000\n",
       "random_sampling                         1.383324\n",
       "training_utility_sampling               1.476990\n",
       "density_weighted_sampling               1.733622\n",
       "disjunct_size_sampling                 12.789388\n",
       "harmfulness_sampling                   14.245804\n",
       "usefulness_sampling                    15.991337\n",
       "minority_value_sampling                17.473200\n",
       "f3_sampling                            17.798592\n",
       "f2_sampling                            17.976178\n",
       "f1_sampling                            19.223606\n",
       "tree_depth_unpruned_sampling           20.413644\n",
       "k_disagreeing_neighbors_sampling       27.616134\n",
       "local_set_cardinality_sampling         33.513265\n",
       "class_balance_sampling                 39.100704\n",
       "class_likelihood_sampling              39.966432\n",
       "class_likeliood_diff_sampling          40.367623\n",
       "borderline_points_sampling             40.475365\n",
       "ls_radius_sampling                     45.455333\n",
       "f4_sampling                            57.169464\n",
       "disjunct_class_percentage_sampling     57.567948\n",
       "intra_extra_ratio_sampling             67.240390\n",
       "expected_error_reduction              115.584732\n",
       "tree_depth_pruned_sampling            289.346508\n",
       "dtype: float64"
      ]
     },
     "execution_count": 119,
     "metadata": {},
     "output_type": "execute_result"
    }
   ],
   "source": [
    "(avg_query_time/avg_query_time.min()).sort_values()"
   ]
  },
  {
   "cell_type": "markdown",
   "id": "a15fc58f-1e56-467b-83be-7d0f8781598d",
   "metadata": {},
   "source": [
    "$TD_u$ é cerca de "
   ]
  },
  {
   "cell_type": "code",
   "execution_count": null,
   "id": "86a840a6-c593-46bc-af2f-7a7b90a62d23",
   "metadata": {},
   "outputs": [],
   "source": []
  }
 ],
 "metadata": {
  "kernelspec": {
   "display_name": "Python 3 (ipykernel)",
   "language": "python",
   "name": "python3"
  },
  "language_info": {
   "codemirror_mode": {
    "name": "ipython",
    "version": 3
   },
   "file_extension": ".py",
   "mimetype": "text/x-python",
   "name": "python",
   "nbconvert_exporter": "python",
   "pygments_lexer": "ipython3",
   "version": "3.8.19"
  }
 },
 "nbformat": 4,
 "nbformat_minor": 5
}

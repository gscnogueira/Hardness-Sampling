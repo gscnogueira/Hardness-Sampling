{
 "cells": [
  {
   "cell_type": "markdown",
   "id": "2695f29f-4876-4864-919f-59ccbcc6a9d1",
   "metadata": {},
   "source": [
    "# Análise dos resultados (V3) - BRACIS 2025"
   ]
  },
  {
   "cell_type": "markdown",
   "id": "e6e95d74-ac55-4019-b953-25feb7218613",
   "metadata": {},
   "source": [
    "## Configurando o Ambiente\n",
    "---"
   ]
  },
  {
   "cell_type": "markdown",
   "id": "72e1e1d8-93dc-4b58-bb25-aa9a7ca222ed",
   "metadata": {},
   "source": [
    "### Importação de Módulos"
   ]
  },
  {
   "cell_type": "code",
   "execution_count": 128,
   "id": "e29113fc-e33d-46df-a920-d7b153ebb279",
   "metadata": {},
   "outputs": [],
   "source": [
    "!pip install -q scikit_posthocs"
   ]
  },
  {
   "cell_type": "code",
   "execution_count": 1,
   "id": "b59a3eac-0f83-4836-896e-6480caa2b745",
   "metadata": {},
   "outputs": [],
   "source": [
    "import os\n",
    "import pandas as pd\n",
    "import numpy as np\n",
    "import matplotlib.pyplot as plt\n",
    "import ipywidgets as w\n",
    "import colorcet as cc\n",
    "import seaborn as sns\n",
    "from scipy import stats\n",
    "import scikit_posthocs as sp"
   ]
  },
  {
   "cell_type": "markdown",
   "id": "b01cd955-3ba6-43e6-a053-28ed5b2c7db1",
   "metadata": {},
   "source": [
    "O módulo `utils.py` contém definições a respeito das configurações dos experimentos:"
   ]
  },
  {
   "cell_type": "code",
   "execution_count": 3,
   "id": "5ff5130d-fee7-4eea-a2b6-d9922f47c0e8",
   "metadata": {},
   "outputs": [],
   "source": [
    "%load_ext autoreload\n",
    "%autoreload 2\n",
    "import utils"
   ]
  },
  {
   "cell_type": "code",
   "execution_count": 2,
   "id": "26f99f3c-d659-48b1-8d3b-0f4898981df4",
   "metadata": {},
   "outputs": [],
   "source": [
    "plt.rcParams.update({\n",
    "    # \"text.usetex\": True,\n",
    "    # \"font.family\": \"Helvetica\"\n",
    "})"
   ]
  },
  {
   "cell_type": "markdown",
   "id": "a8d9bf43-5591-4776-ac94-46806cfd906a",
   "metadata": {},
   "source": [
    "## Carregando Resultados\n",
    "---"
   ]
  },
  {
   "cell_type": "code",
   "execution_count": 6,
   "id": "9ad84aca-9920-4af8-a992-00a0e22090ce",
   "metadata": {},
   "outputs": [],
   "source": [
    "def get_results_info(file_list: list) -> pd.DataFrame:\n",
    "    \n",
    "    results_info = pd.DataFrame(file_list, columns=[\"file\"])\n",
    "    results_info[[\"dataset\", \"split\", \"learner\", \"method\"]] = results_info.file.str.split(\"_\", n=3, expand=True)\n",
    "    results_info['file'] = results_info.file.map(lambda x: os.path.join(utils.RESULTS_V2_PATH, x))\n",
    "    results_info['method'] = results_info.method.apply(lambda x: x.split('.')[0])\n",
    "    \n",
    "    return results_info\n",
    "\n",
    "def get_results_df(results_info) -> pd.DataFrame:\n",
    "    df = pd.concat(pd.read_csv(f) for f in  results_info.file)\n",
    "\n",
    "    df['time'] = pd.to_datetime(df.time)\n",
    "    \n",
    "    return df\n",
    "    "
   ]
  },
  {
   "cell_type": "code",
   "execution_count": 73,
   "id": "9353f163-2b2b-4d3a-9367-5a9f24d85d72",
   "metadata": {},
   "outputs": [
    {
     "name": "stdout",
     "output_type": "stream",
     "text": [
      "CPU times: user 9.87 s, sys: 350 ms, total: 10.2 s\n",
      "Wall time: 10.2 s\n"
     ]
    }
   ],
   "source": [
    "%%time\n",
    "csv_files = !ls  $utils.RESULTS_V2_PATH\n",
    "results_info = get_results_info(csv_files)\n",
    "results_df = get_results_df(results_info)\n",
    "\n",
    "results_df = results_df[results_df.classifier == \"SVC\"]"
   ]
  },
  {
   "cell_type": "markdown",
   "id": "493120d5-462b-4049-be15-a34286d96d48",
   "metadata": {},
   "source": [
    "Removendo os 10 piores datasets:"
   ]
  },
  {
   "cell_type": "code",
   "execution_count": 74,
   "id": "11f79274-8922-4830-b9f7-35e6b459fb36",
   "metadata": {},
   "outputs": [],
   "source": [
    "datasets_to_rm = results_df.groupby('dataset').kappa.mean().sort_values().head(15).index"
   ]
  },
  {
   "cell_type": "code",
   "execution_count": 89,
   "id": "1e5bd762-14ba-40f0-8a0a-1de5d8d83cad",
   "metadata": {},
   "outputs": [
    {
     "data": {
      "text/plain": [
       "{'autoUniv-au1-1000',\n",
       " 'autoUniv-au6-cd1-400',\n",
       " 'autoUniv-au7-300-drift-au7-cpd1-800',\n",
       " 'autoUniv-au7-cpd1-500',\n",
       " 'climate-simulation-craches',\n",
       " 'eeg-eye-state',\n",
       " 'first-order-theorem',\n",
       " 'habermans-survival',\n",
       " 'hill-valley-without-noise',\n",
       " 'indian-liver-patient',\n",
       " 'ozone-eighthr',\n",
       " 'tic-tac-toe',\n",
       " 'turkiye-student',\n",
       " 'volcanoes-d1',\n",
       " 'volcanoes-e1'}"
      ]
     },
     "execution_count": 89,
     "metadata": {},
     "output_type": "execute_result"
    }
   ],
   "source": [
    "set(datasets_to_rm)"
   ]
  },
  {
   "cell_type": "code",
   "execution_count": 75,
   "id": "e553527b-4f70-412a-b9a3-aec9ad00b7fd",
   "metadata": {},
   "outputs": [],
   "source": [
    "results_df = results_df[~results_df.dataset.isin(datasets_to_rm)]"
   ]
  },
  {
   "cell_type": "code",
   "execution_count": 57,
   "id": "e9dfc086-06a0-4f80-8f1e-f495cda77ee2",
   "metadata": {},
   "outputs": [],
   "source": [
    "# Definindo as cores para os plots:\n",
    "n_methods = results_info.method.nunique()\n",
    "color_list = sns.color_palette(cc.glasbey_dark ,n_colors=n_methods)\n",
    "COLOR_DICT = dict(zip(results_info.method.unique().tolist(), color_list))\n",
    "COLOR_DICT[\"random_sampling\"] = \"firebrick\""
   ]
  },
  {
   "cell_type": "code",
   "execution_count": 58,
   "id": "721a670e-6006-4e8a-b435-034e57359a5f",
   "metadata": {},
   "outputs": [],
   "source": [
    "performance_df = results_df.groupby(['dataset', 'method','query']).kappa.mean().reset_index()"
   ]
  },
  {
   "cell_type": "code",
   "execution_count": 60,
   "id": "62c11836-58ac-4e13-b8a9-0d5f9cd76e52",
   "metadata": {
    "jupyter": {
     "source_hidden": true
    }
   },
   "outputs": [],
   "source": [
    "def plot_learning_curves(performance_df, dataset):\n",
    "    fig, ax = plt.subplots()\n",
    "    \n",
    "    ax.grid(True)\n",
    "    ax.set_ylim(-1.1,1.1)\n",
    "    ax.set_xlim(0,110)\n",
    "    ax.set_title(dataset)\n",
    "    \n",
    "    auc_dict = dict()\n",
    "    dataset_performance = performance_df[performance_df.dataset == dataset]\n",
    "\n",
    "    # Plota curvas\n",
    "    for method, curve in dataset_performance.groupby('method').kappa:\n",
    "        auc_dict[utils.ABREV_DICT[method]] = np.trapz(curve)\n",
    "        ax.plot(curve.values,\n",
    "                utils.get_style(method), \n",
    "                linewidth=0.5 if utils.get_hm_type(method) != 'classic' else 1.5,\n",
    "                color=COLOR_DICT[method],\n",
    "                label=utils.ABREV_DICT[method],\n",
    "                markevery=(0.3, 0.2))\n",
    "        \n",
    "\n",
    "    # Ordena legenda por AUC\n",
    "    handles, labels = plt.gca().get_legend_handles_labels( )\n",
    "    labels, handles = zip(*sorted(zip(labels, handles), key=lambda t: auc_dict[t[0]], reverse=True))\n",
    "\n",
    "    ax.legend(handles, labels, loc='upper right',\n",
    "              bbox_to_anchor=(1.1, 1.0), ncols=1, prop={'size':7}, framealpha=1)"
   ]
  },
  {
   "cell_type": "code",
   "execution_count": 61,
   "id": "58e1af7b-0273-4d44-a14c-b9700717a2c8",
   "metadata": {},
   "outputs": [
    {
     "data": {
      "application/vnd.jupyter.widget-view+json": {
       "model_id": "99c51863ece4438c957896a31fe28174",
       "version_major": 2,
       "version_minor": 0
      },
      "text/plain": [
       "interactive(children=(SelectionSlider(description='dataset', options=('abalone-3class', 'artificial-characters…"
      ]
     },
     "metadata": {},
     "output_type": "display_data"
    },
    {
     "data": {
      "text/plain": [
       "<function __main__.plot_learning_curves(performance_df, dataset)>"
      ]
     },
     "execution_count": 61,
     "metadata": {},
     "output_type": "execute_result"
    }
   ],
   "source": [
    "w.interact(plot_learning_curves,\n",
    "           performance_df=w.fixed(performance_df),\n",
    "           dataset=w.SelectionSlider(options=performance_df.dataset.unique()))"
   ]
  },
  {
   "cell_type": "markdown",
   "id": "2cf421d4-840a-4cc3-8857-435ba41c7814",
   "metadata": {},
   "source": [
    "## Análise Geral\n",
    "----"
   ]
  },
  {
   "cell_type": "code",
   "execution_count": 76,
   "id": "4b7d92c3-605d-42dd-bb92-00efb311d8a7",
   "metadata": {
    "scrolled": true
   },
   "outputs": [],
   "source": [
    "alp_D_df = (results_df.groupby([\"classifier\", \"dataset\", \"method\", \"fold\"])[\"kappa\"]\n",
    "                    .apply(np.trapz)\n",
    "                    .rename(\"ALP\")\n",
    "                    .reset_index())"
   ]
  },
  {
   "cell_type": "code",
   "execution_count": 77,
   "id": "8583cfe8-018f-44a7-89e5-ebd0931c9134",
   "metadata": {},
   "outputs": [],
   "source": [
    "AUC_table = alp_D_df.groupby(['dataset', 'method']).ALP.mean().reset_index()\n",
    "AUC_table['type'] = AUC_table.method.apply(utils.get_hm_type)"
   ]
  },
  {
   "cell_type": "markdown",
   "id": "8d41ccdb-80b5-4c71-a2a3-1c52e5d85e6e",
   "metadata": {},
   "source": [
    "### "
   ]
  },
  {
   "cell_type": "markdown",
   "id": "cff530b6-b7ae-4481-8a9f-862afcc5697d",
   "metadata": {},
   "source": [
    "#### Análise por Dataset"
   ]
  },
  {
   "cell_type": "code",
   "execution_count": 78,
   "id": "0dbd56d2-3c57-43a1-b934-9ed7ca59364c",
   "metadata": {},
   "outputs": [],
   "source": [
    "# Seleciona melhor método clássico por dataset\n",
    "max_classic_idx = AUC_table[AUC_table['type'] == 'classic'].groupby('dataset').ALP.idxmax()\n",
    "max_classic_df = AUC_table.iloc[max_classic_idx].set_index('dataset')\n",
    "\n",
    "# Seleciona melhor método HardS por dataset\n",
    "max_hard_idx = AUC_table[~AUC_table['type'].isin(['classic','baseline'])].groupby('dataset').ALP.idxmax()\n",
    "max_hard_df = AUC_table.iloc[max_hard_idx].set_index('dataset')\n",
    "\n",
    "# Seleciona desempenho do Rnd nos datasets\n",
    "rnd_score_df = AUC_table[AUC_table['type'] == 'baseline'].set_index('dataset')\n",
    "\n",
    "diff_to_classs =  (max_hard_df.ALP - max_classic_df.ALP) / max_classic_df.ALP *100\n",
    "diff_to_rnd =  (max_hard_df.ALP  - rnd_score_df.ALP) / rnd_score_df.ALP *100\n",
    "\n",
    "dataset_report = pd.concat([\n",
    "    max_hard_df.method.rename('best_hard'),\n",
    "    max_classic_df.method.rename('best_cls'),\n",
    "    diff_to_classs.rename('cls_diff'),\n",
    "    diff_to_rnd.rename('rnd_diff'),\n",
    "], axis=1)\n"
   ]
  },
  {
   "cell_type": "code",
   "execution_count": 79,
   "id": "3abf3481-2989-4be4-8bfe-54421aa425a2",
   "metadata": {
    "scrolled": true
   },
   "outputs": [
    {
     "data": {
      "text/html": [
       "<style type=\"text/css\">\n",
       "#T_b4596_row1_col3, #T_b4596_row11_col3, #T_b4596_row12_col3, #T_b4596_row17_col2, #T_b4596_row20_col2, #T_b4596_row22_col2, #T_b4596_row22_col3, #T_b4596_row24_col2, #T_b4596_row24_col3, #T_b4596_row30_col3, #T_b4596_row42_col3, #T_b4596_row50_col3, #T_b4596_row53_col2, #T_b4596_row53_col3, #T_b4596_row62_col3 {\n",
       "  color: red;\n",
       "}\n",
       "</style>\n",
       "<table id=\"T_b4596\">\n",
       "  <thead>\n",
       "    <tr>\n",
       "      <th class=\"blank level0\" >&nbsp;</th>\n",
       "      <th id=\"T_b4596_level0_col0\" class=\"col_heading level0 col0\" >best_hard</th>\n",
       "      <th id=\"T_b4596_level0_col1\" class=\"col_heading level0 col1\" >best_cls</th>\n",
       "      <th id=\"T_b4596_level0_col2\" class=\"col_heading level0 col2\" >cls_diff</th>\n",
       "      <th id=\"T_b4596_level0_col3\" class=\"col_heading level0 col3\" >rnd_diff</th>\n",
       "    </tr>\n",
       "    <tr>\n",
       "      <th class=\"index_name level0\" >dataset</th>\n",
       "      <th class=\"blank col0\" >&nbsp;</th>\n",
       "      <th class=\"blank col1\" >&nbsp;</th>\n",
       "      <th class=\"blank col2\" >&nbsp;</th>\n",
       "      <th class=\"blank col3\" >&nbsp;</th>\n",
       "    </tr>\n",
       "  </thead>\n",
       "  <tbody>\n",
       "    <tr>\n",
       "      <th id=\"T_b4596_level0_row0\" class=\"row_heading level0 row0\" >abalone-3class</th>\n",
       "      <td id=\"T_b4596_row0_col0\" class=\"data row0 col0\" >kDN</td>\n",
       "      <td id=\"T_b4596_row0_col1\" class=\"data row0 col1\" >EER</td>\n",
       "      <td id=\"T_b4596_row0_col2\" class=\"data row0 col2\" >13.67</td>\n",
       "      <td id=\"T_b4596_row0_col3\" class=\"data row0 col3\" >11.45</td>\n",
       "    </tr>\n",
       "    <tr>\n",
       "      <th id=\"T_b4596_level0_row1\" class=\"row_heading level0 row1\" >artificial-characters</th>\n",
       "      <td id=\"T_b4596_row1_col0\" class=\"data row1 col0\" >CLD</td>\n",
       "      <td id=\"T_b4596_row1_col1\" class=\"data row1 col1\" >MS</td>\n",
       "      <td id=\"T_b4596_row1_col2\" class=\"data row1 col2\" >10.36</td>\n",
       "      <td id=\"T_b4596_row1_col3\" class=\"data row1 col3\" >-1.24</td>\n",
       "    </tr>\n",
       "    <tr>\n",
       "      <th id=\"T_b4596_level0_row2\" class=\"row_heading level0 row2\" >autoUniv-au7-700</th>\n",
       "      <td id=\"T_b4596_row2_col0\" class=\"data row2 col0\" >N1I</td>\n",
       "      <td id=\"T_b4596_row2_col1\" class=\"data row2 col1\" >EER</td>\n",
       "      <td id=\"T_b4596_row2_col2\" class=\"data row2 col2\" >24.65</td>\n",
       "      <td id=\"T_b4596_row2_col3\" class=\"data row2 col3\" >23.14</td>\n",
       "    </tr>\n",
       "    <tr>\n",
       "      <th id=\"T_b4596_level0_row3\" class=\"row_heading level0 row3\" >balance-scale</th>\n",
       "      <td id=\"T_b4596_row3_col0\" class=\"data row3 col0\" >CLD</td>\n",
       "      <td id=\"T_b4596_row3_col1\" class=\"data row3 col1\" >MS</td>\n",
       "      <td id=\"T_b4596_row3_col2\" class=\"data row3 col2\" >10.59</td>\n",
       "      <td id=\"T_b4596_row3_col3\" class=\"data row3 col3\" >1.56</td>\n",
       "    </tr>\n",
       "    <tr>\n",
       "      <th id=\"T_b4596_level0_row4\" class=\"row_heading level0 row4\" >banana</th>\n",
       "      <td id=\"T_b4596_row4_col0\" class=\"data row4 col0\" >DS</td>\n",
       "      <td id=\"T_b4596_row4_col1\" class=\"data row4 col1\" >MS</td>\n",
       "      <td id=\"T_b4596_row4_col2\" class=\"data row4 col2\" >22.73</td>\n",
       "      <td id=\"T_b4596_row4_col3\" class=\"data row4 col3\" >9.87</td>\n",
       "    </tr>\n",
       "    <tr>\n",
       "      <th id=\"T_b4596_level0_row5\" class=\"row_heading level0 row5\" >banknote-authentication</th>\n",
       "      <td id=\"T_b4596_row5_col0\" class=\"data row5 col0\" >LSR</td>\n",
       "      <td id=\"T_b4596_row5_col1\" class=\"data row5 col1\" >MS</td>\n",
       "      <td id=\"T_b4596_row5_col2\" class=\"data row5 col2\" >6.91</td>\n",
       "      <td id=\"T_b4596_row5_col3\" class=\"data row5 col3\" >6.71</td>\n",
       "    </tr>\n",
       "    <tr>\n",
       "      <th id=\"T_b4596_level0_row6\" class=\"row_heading level0 row6\" >bupa</th>\n",
       "      <td id=\"T_b4596_row6_col0\" class=\"data row6 col0\" >kDN</td>\n",
       "      <td id=\"T_b4596_row6_col1\" class=\"data row6 col1\" >ID</td>\n",
       "      <td id=\"T_b4596_row6_col2\" class=\"data row6 col2\" >10.39</td>\n",
       "      <td id=\"T_b4596_row6_col3\" class=\"data row6 col3\" >217.35</td>\n",
       "    </tr>\n",
       "    <tr>\n",
       "      <th id=\"T_b4596_level0_row7\" class=\"row_heading level0 row7\" >car-evaluation</th>\n",
       "      <td id=\"T_b4596_row7_col0\" class=\"data row7 col0\" >CLD</td>\n",
       "      <td id=\"T_b4596_row7_col1\" class=\"data row7 col1\" >MS</td>\n",
       "      <td id=\"T_b4596_row7_col2\" class=\"data row7 col2\" >34.69</td>\n",
       "      <td id=\"T_b4596_row7_col3\" class=\"data row7 col3\" >63.05</td>\n",
       "    </tr>\n",
       "    <tr>\n",
       "      <th id=\"T_b4596_level0_row8\" class=\"row_heading level0 row8\" >cardiotocography-3class</th>\n",
       "      <td id=\"T_b4596_row8_col0\" class=\"data row8 col0\" >TD$_U$</td>\n",
       "      <td id=\"T_b4596_row8_col1\" class=\"data row8 col1\" >MS</td>\n",
       "      <td id=\"T_b4596_row8_col2\" class=\"data row8 col2\" >26.42</td>\n",
       "      <td id=\"T_b4596_row8_col3\" class=\"data row8 col3\" >22.02</td>\n",
       "    </tr>\n",
       "    <tr>\n",
       "      <th id=\"T_b4596_level0_row9\" class=\"row_heading level0 row9\" >connectionist-mines-vs-rocks</th>\n",
       "      <td id=\"T_b4596_row9_col0\" class=\"data row9 col0\" >CLD</td>\n",
       "      <td id=\"T_b4596_row9_col1\" class=\"data row9 col1\" >MS</td>\n",
       "      <td id=\"T_b4596_row9_col2\" class=\"data row9 col2\" >6.74</td>\n",
       "      <td id=\"T_b4596_row9_col3\" class=\"data row9 col3\" >12.91</td>\n",
       "    </tr>\n",
       "    <tr>\n",
       "      <th id=\"T_b4596_level0_row10\" class=\"row_heading level0 row10\" >connectionist-vowel</th>\n",
       "      <td id=\"T_b4596_row10_col0\" class=\"data row10 col0\" >LSR</td>\n",
       "      <td id=\"T_b4596_row10_col1\" class=\"data row10 col1\" >MS</td>\n",
       "      <td id=\"T_b4596_row10_col2\" class=\"data row10 col2\" >19.79</td>\n",
       "      <td id=\"T_b4596_row10_col3\" class=\"data row10 col3\" >20.33</td>\n",
       "    </tr>\n",
       "    <tr>\n",
       "      <th id=\"T_b4596_level0_row11\" class=\"row_heading level0 row11\" >ecoli</th>\n",
       "      <td id=\"T_b4596_row11_col0\" class=\"data row11 col0\" >CL</td>\n",
       "      <td id=\"T_b4596_row11_col1\" class=\"data row11 col1\" >MS</td>\n",
       "      <td id=\"T_b4596_row11_col2\" class=\"data row11 col2\" >0.36</td>\n",
       "      <td id=\"T_b4596_row11_col3\" class=\"data row11 col3\" >-0.64</td>\n",
       "    </tr>\n",
       "    <tr>\n",
       "      <th id=\"T_b4596_level0_row12\" class=\"row_heading level0 row12\" >flare</th>\n",
       "      <td id=\"T_b4596_row12_col0\" class=\"data row12 col0\" >LSR</td>\n",
       "      <td id=\"T_b4596_row12_col1\" class=\"data row12 col1\" >EER</td>\n",
       "      <td id=\"T_b4596_row12_col2\" class=\"data row12 col2\" >54.95</td>\n",
       "      <td id=\"T_b4596_row12_col3\" class=\"data row12 col3\" >-11.24</td>\n",
       "    </tr>\n",
       "    <tr>\n",
       "      <th id=\"T_b4596_level0_row13\" class=\"row_heading level0 row13\" >glass</th>\n",
       "      <td id=\"T_b4596_row13_col0\" class=\"data row13 col0\" >LSCI</td>\n",
       "      <td id=\"T_b4596_row13_col1\" class=\"data row13 col1\" >MS</td>\n",
       "      <td id=\"T_b4596_row13_col2\" class=\"data row13 col2\" >12.72</td>\n",
       "      <td id=\"T_b4596_row13_col3\" class=\"data row13 col3\" >13.05</td>\n",
       "    </tr>\n",
       "    <tr>\n",
       "      <th id=\"T_b4596_level0_row14\" class=\"row_heading level0 row14\" >heart-disease-processed-cleveland</th>\n",
       "      <td id=\"T_b4596_row14_col0\" class=\"data row14 col0\" >DS</td>\n",
       "      <td id=\"T_b4596_row14_col1\" class=\"data row14 col1\" >MS</td>\n",
       "      <td id=\"T_b4596_row14_col2\" class=\"data row14 col2\" >14.52</td>\n",
       "      <td id=\"T_b4596_row14_col3\" class=\"data row14 col3\" >31.18</td>\n",
       "    </tr>\n",
       "    <tr>\n",
       "      <th id=\"T_b4596_level0_row15\" class=\"row_heading level0 row15\" >heart-disease-processed-hungarian</th>\n",
       "      <td id=\"T_b4596_row15_col0\" class=\"data row15 col0\" >CLD</td>\n",
       "      <td id=\"T_b4596_row15_col1\" class=\"data row15 col1\" >EER</td>\n",
       "      <td id=\"T_b4596_row15_col2\" class=\"data row15 col2\" >7.83</td>\n",
       "      <td id=\"T_b4596_row15_col3\" class=\"data row15 col3\" >1.43</td>\n",
       "    </tr>\n",
       "    <tr>\n",
       "      <th id=\"T_b4596_level0_row16\" class=\"row_heading level0 row16\" >heart-disease-processed-va</th>\n",
       "      <td id=\"T_b4596_row16_col0\" class=\"data row16 col0\" >CB</td>\n",
       "      <td id=\"T_b4596_row16_col1\" class=\"data row16 col1\" >TU</td>\n",
       "      <td id=\"T_b4596_row16_col2\" class=\"data row16 col2\" >12.86</td>\n",
       "      <td id=\"T_b4596_row16_col3\" class=\"data row16 col3\" >97.81</td>\n",
       "    </tr>\n",
       "    <tr>\n",
       "      <th id=\"T_b4596_level0_row17\" class=\"row_heading level0 row17\" >hepatitis</th>\n",
       "      <td id=\"T_b4596_row17_col0\" class=\"data row17 col0\" >N2I</td>\n",
       "      <td id=\"T_b4596_row17_col1\" class=\"data row17 col1\" >TU</td>\n",
       "      <td id=\"T_b4596_row17_col2\" class=\"data row17 col2\" >-11.35</td>\n",
       "      <td id=\"T_b4596_row17_col3\" class=\"data row17 col3\" >13.50</td>\n",
       "    </tr>\n",
       "    <tr>\n",
       "      <th id=\"T_b4596_level0_row18\" class=\"row_heading level0 row18\" >horse-colic-surgical</th>\n",
       "      <td id=\"T_b4596_row18_col0\" class=\"data row18 col0\" >DCP</td>\n",
       "      <td id=\"T_b4596_row18_col1\" class=\"data row18 col1\" >EER</td>\n",
       "      <td id=\"T_b4596_row18_col2\" class=\"data row18 col2\" >19.28</td>\n",
       "      <td id=\"T_b4596_row18_col3\" class=\"data row18 col3\" >14.47</td>\n",
       "    </tr>\n",
       "    <tr>\n",
       "      <th id=\"T_b4596_level0_row19\" class=\"row_heading level0 row19\" >ionosphere</th>\n",
       "      <td id=\"T_b4596_row19_col0\" class=\"data row19 col0\" >LSR</td>\n",
       "      <td id=\"T_b4596_row19_col1\" class=\"data row19 col1\" >MS</td>\n",
       "      <td id=\"T_b4596_row19_col2\" class=\"data row19 col2\" >5.25</td>\n",
       "      <td id=\"T_b4596_row19_col3\" class=\"data row19 col3\" >4.60</td>\n",
       "    </tr>\n",
       "    <tr>\n",
       "      <th id=\"T_b4596_level0_row20\" class=\"row_heading level0 row20\" >iris</th>\n",
       "      <td id=\"T_b4596_row20_col0\" class=\"data row20 col0\" >kDN</td>\n",
       "      <td id=\"T_b4596_row20_col1\" class=\"data row20 col1\" >MS</td>\n",
       "      <td id=\"T_b4596_row20_col2\" class=\"data row20 col2\" >-0.55</td>\n",
       "      <td id=\"T_b4596_row20_col3\" class=\"data row20 col3\" >1.71</td>\n",
       "    </tr>\n",
       "    <tr>\n",
       "      <th id=\"T_b4596_level0_row21\" class=\"row_heading level0 row21\" >kr-vs-kp</th>\n",
       "      <td id=\"T_b4596_row21_col0\" class=\"data row21 col0\" >TD$_U$</td>\n",
       "      <td id=\"T_b4596_row21_col1\" class=\"data row21 col1\" >EER</td>\n",
       "      <td id=\"T_b4596_row21_col2\" class=\"data row21 col2\" >50.86</td>\n",
       "      <td id=\"T_b4596_row21_col3\" class=\"data row21 col3\" >13.14</td>\n",
       "    </tr>\n",
       "    <tr>\n",
       "      <th id=\"T_b4596_level0_row22\" class=\"row_heading level0 row22\" >leaf</th>\n",
       "      <td id=\"T_b4596_row22_col0\" class=\"data row22 col0\" >kDN</td>\n",
       "      <td id=\"T_b4596_row22_col1\" class=\"data row22 col1\" >MS</td>\n",
       "      <td id=\"T_b4596_row22_col2\" class=\"data row22 col2\" >-1.06</td>\n",
       "      <td id=\"T_b4596_row22_col3\" class=\"data row22 col3\" >-0.35</td>\n",
       "    </tr>\n",
       "    <tr>\n",
       "      <th id=\"T_b4596_level0_row23\" class=\"row_heading level0 row23\" >lymphography</th>\n",
       "      <td id=\"T_b4596_row23_col0\" class=\"data row23 col0\" >U</td>\n",
       "      <td id=\"T_b4596_row23_col1\" class=\"data row23 col1\" >EER</td>\n",
       "      <td id=\"T_b4596_row23_col2\" class=\"data row23 col2\" >21.58</td>\n",
       "      <td id=\"T_b4596_row23_col3\" class=\"data row23 col3\" >14.44</td>\n",
       "    </tr>\n",
       "    <tr>\n",
       "      <th id=\"T_b4596_level0_row24\" class=\"row_heading level0 row24\" >magic</th>\n",
       "      <td id=\"T_b4596_row24_col0\" class=\"data row24 col0\" >CLD</td>\n",
       "      <td id=\"T_b4596_row24_col1\" class=\"data row24 col1\" >EER</td>\n",
       "      <td id=\"T_b4596_row24_col2\" class=\"data row24 col2\" >-22.74</td>\n",
       "      <td id=\"T_b4596_row24_col3\" class=\"data row24 col3\" >-28.59</td>\n",
       "    </tr>\n",
       "    <tr>\n",
       "      <th id=\"T_b4596_level0_row25\" class=\"row_heading level0 row25\" >mammographic-mass</th>\n",
       "      <td id=\"T_b4596_row25_col0\" class=\"data row25 col0\" >DS</td>\n",
       "      <td id=\"T_b4596_row25_col1\" class=\"data row25 col1\" >TU</td>\n",
       "      <td id=\"T_b4596_row25_col2\" class=\"data row25 col2\" >9.82</td>\n",
       "      <td id=\"T_b4596_row25_col3\" class=\"data row25 col3\" >11.96</td>\n",
       "    </tr>\n",
       "    <tr>\n",
       "      <th id=\"T_b4596_level0_row26\" class=\"row_heading level0 row26\" >mfeat-fourier</th>\n",
       "      <td id=\"T_b4596_row26_col0\" class=\"data row26 col0\" >F4I</td>\n",
       "      <td id=\"T_b4596_row26_col1\" class=\"data row26 col1\" >MS</td>\n",
       "      <td id=\"T_b4596_row26_col2\" class=\"data row26 col2\" >44.91</td>\n",
       "      <td id=\"T_b4596_row26_col3\" class=\"data row26 col3\" >1.79</td>\n",
       "    </tr>\n",
       "    <tr>\n",
       "      <th id=\"T_b4596_level0_row27\" class=\"row_heading level0 row27\" >molecular-splice-junction</th>\n",
       "      <td id=\"T_b4596_row27_col0\" class=\"data row27 col0\" >TD$_U$</td>\n",
       "      <td id=\"T_b4596_row27_col1\" class=\"data row27 col1\" >MS</td>\n",
       "      <td id=\"T_b4596_row27_col2\" class=\"data row27 col2\" >64.17</td>\n",
       "      <td id=\"T_b4596_row27_col3\" class=\"data row27 col3\" >268.19</td>\n",
       "    </tr>\n",
       "    <tr>\n",
       "      <th id=\"T_b4596_level0_row28\" class=\"row_heading level0 row28\" >monks1</th>\n",
       "      <td id=\"T_b4596_row28_col0\" class=\"data row28 col0\" >kDN</td>\n",
       "      <td id=\"T_b4596_row28_col1\" class=\"data row28 col1\" >MS</td>\n",
       "      <td id=\"T_b4596_row28_col2\" class=\"data row28 col2\" >11.73</td>\n",
       "      <td id=\"T_b4596_row28_col3\" class=\"data row28 col3\" >22.71</td>\n",
       "    </tr>\n",
       "    <tr>\n",
       "      <th id=\"T_b4596_level0_row29\" class=\"row_heading level0 row29\" >monks3</th>\n",
       "      <td id=\"T_b4596_row29_col0\" class=\"data row29 col0\" >kDN</td>\n",
       "      <td id=\"T_b4596_row29_col1\" class=\"data row29 col1\" >MS</td>\n",
       "      <td id=\"T_b4596_row29_col2\" class=\"data row29 col2\" >8.70</td>\n",
       "      <td id=\"T_b4596_row29_col3\" class=\"data row29 col3\" >21.00</td>\n",
       "    </tr>\n",
       "    <tr>\n",
       "      <th id=\"T_b4596_level0_row30\" class=\"row_heading level0 row30\" >movement-libras</th>\n",
       "      <td id=\"T_b4596_row30_col0\" class=\"data row30 col0\" >kDN</td>\n",
       "      <td id=\"T_b4596_row30_col1\" class=\"data row30 col1\" >MS</td>\n",
       "      <td id=\"T_b4596_row30_col2\" class=\"data row30 col2\" >5.80</td>\n",
       "      <td id=\"T_b4596_row30_col3\" class=\"data row30 col3\" >-0.51</td>\n",
       "    </tr>\n",
       "    <tr>\n",
       "      <th id=\"T_b4596_level0_row31\" class=\"row_heading level0 row31\" >mushroom</th>\n",
       "      <td id=\"T_b4596_row31_col0\" class=\"data row31 col0\" >TD$_U$</td>\n",
       "      <td id=\"T_b4596_row31_col1\" class=\"data row31 col1\" >MS</td>\n",
       "      <td id=\"T_b4596_row31_col2\" class=\"data row31 col2\" >5.78</td>\n",
       "      <td id=\"T_b4596_row31_col3\" class=\"data row31 col3\" >10.20</td>\n",
       "    </tr>\n",
       "    <tr>\n",
       "      <th id=\"T_b4596_level0_row32\" class=\"row_heading level0 row32\" >musk</th>\n",
       "      <td id=\"T_b4596_row32_col0\" class=\"data row32 col0\" >LSR</td>\n",
       "      <td id=\"T_b4596_row32_col1\" class=\"data row32 col1\" >TU</td>\n",
       "      <td id=\"T_b4596_row32_col2\" class=\"data row32 col2\" >191.05</td>\n",
       "      <td id=\"T_b4596_row32_col3\" class=\"data row32 col3\" >60.99</td>\n",
       "    </tr>\n",
       "    <tr>\n",
       "      <th id=\"T_b4596_level0_row33\" class=\"row_heading level0 row33\" >nursery</th>\n",
       "      <td id=\"T_b4596_row33_col0\" class=\"data row33 col0\" >H</td>\n",
       "      <td id=\"T_b4596_row33_col1\" class=\"data row33 col1\" >MS</td>\n",
       "      <td id=\"T_b4596_row33_col2\" class=\"data row33 col2\" >47.84</td>\n",
       "      <td id=\"T_b4596_row33_col3\" class=\"data row33 col3\" >9.01</td>\n",
       "    </tr>\n",
       "    <tr>\n",
       "      <th id=\"T_b4596_level0_row34\" class=\"row_heading level0 row34\" >optdigits</th>\n",
       "      <td id=\"T_b4596_row34_col0\" class=\"data row34 col0\" >LSCI</td>\n",
       "      <td id=\"T_b4596_row34_col1\" class=\"data row34 col1\" >MS</td>\n",
       "      <td id=\"T_b4596_row34_col2\" class=\"data row34 col2\" >15.50</td>\n",
       "      <td id=\"T_b4596_row34_col3\" class=\"data row34 col3\" >13.32</td>\n",
       "    </tr>\n",
       "    <tr>\n",
       "      <th id=\"T_b4596_level0_row35\" class=\"row_heading level0 row35\" >page-blocks</th>\n",
       "      <td id=\"T_b4596_row35_col0\" class=\"data row35 col0\" >LSR</td>\n",
       "      <td id=\"T_b4596_row35_col1\" class=\"data row35 col1\" >MS</td>\n",
       "      <td id=\"T_b4596_row35_col2\" class=\"data row35 col2\" >3.58</td>\n",
       "      <td id=\"T_b4596_row35_col3\" class=\"data row35 col3\" >218.98</td>\n",
       "    </tr>\n",
       "    <tr>\n",
       "      <th id=\"T_b4596_level0_row36\" class=\"row_heading level0 row36\" >parkinsons</th>\n",
       "      <td id=\"T_b4596_row36_col0\" class=\"data row36 col0\" >CLD</td>\n",
       "      <td id=\"T_b4596_row36_col1\" class=\"data row36 col1\" >MS</td>\n",
       "      <td id=\"T_b4596_row36_col2\" class=\"data row36 col2\" >5.05</td>\n",
       "      <td id=\"T_b4596_row36_col3\" class=\"data row36 col3\" >8.90</td>\n",
       "    </tr>\n",
       "    <tr>\n",
       "      <th id=\"T_b4596_level0_row37\" class=\"row_heading level0 row37\" >pendigits</th>\n",
       "      <td id=\"T_b4596_row37_col0\" class=\"data row37 col0\" >N1I</td>\n",
       "      <td id=\"T_b4596_row37_col1\" class=\"data row37 col1\" >MS</td>\n",
       "      <td id=\"T_b4596_row37_col2\" class=\"data row37 col2\" >7.60</td>\n",
       "      <td id=\"T_b4596_row37_col3\" class=\"data row37 col3\" >10.26</td>\n",
       "    </tr>\n",
       "    <tr>\n",
       "      <th id=\"T_b4596_level0_row38\" class=\"row_heading level0 row38\" >phoneme</th>\n",
       "      <td id=\"T_b4596_row38_col0\" class=\"data row38 col0\" >N2I</td>\n",
       "      <td id=\"T_b4596_row38_col1\" class=\"data row38 col1\" >EER</td>\n",
       "      <td id=\"T_b4596_row38_col2\" class=\"data row38 col2\" >30.49</td>\n",
       "      <td id=\"T_b4596_row38_col3\" class=\"data row38 col3\" >79.00</td>\n",
       "    </tr>\n",
       "    <tr>\n",
       "      <th id=\"T_b4596_level0_row39\" class=\"row_heading level0 row39\" >pima-indians-diabetes</th>\n",
       "      <td id=\"T_b4596_row39_col0\" class=\"data row39 col0\" >DS</td>\n",
       "      <td id=\"T_b4596_row39_col1\" class=\"data row39 col1\" >EER</td>\n",
       "      <td id=\"T_b4596_row39_col2\" class=\"data row39 col2\" >18.49</td>\n",
       "      <td id=\"T_b4596_row39_col3\" class=\"data row39 col3\" >27.65</td>\n",
       "    </tr>\n",
       "    <tr>\n",
       "      <th id=\"T_b4596_level0_row40\" class=\"row_heading level0 row40\" >qsar-biodegradation</th>\n",
       "      <td id=\"T_b4596_row40_col0\" class=\"data row40 col0\" >kDN</td>\n",
       "      <td id=\"T_b4596_row40_col1\" class=\"data row40 col1\" >EER</td>\n",
       "      <td id=\"T_b4596_row40_col2\" class=\"data row40 col2\" >30.50</td>\n",
       "      <td id=\"T_b4596_row40_col3\" class=\"data row40 col3\" >11.30</td>\n",
       "    </tr>\n",
       "    <tr>\n",
       "      <th id=\"T_b4596_level0_row41\" class=\"row_heading level0 row41\" >ringnorm</th>\n",
       "      <td id=\"T_b4596_row41_col0\" class=\"data row41 col0\" >CB</td>\n",
       "      <td id=\"T_b4596_row41_col1\" class=\"data row41 col1\" >TU</td>\n",
       "      <td id=\"T_b4596_row41_col2\" class=\"data row41 col2\" >12.66</td>\n",
       "      <td id=\"T_b4596_row41_col3\" class=\"data row41 col3\" >3.05</td>\n",
       "    </tr>\n",
       "    <tr>\n",
       "      <th id=\"T_b4596_level0_row42\" class=\"row_heading level0 row42\" >robot-failure-lp5</th>\n",
       "      <td id=\"T_b4596_row42_col0\" class=\"data row42 col0\" >F3I</td>\n",
       "      <td id=\"T_b4596_row42_col1\" class=\"data row42 col1\" >EER</td>\n",
       "      <td id=\"T_b4596_row42_col2\" class=\"data row42 col2\" >1.07</td>\n",
       "      <td id=\"T_b4596_row42_col3\" class=\"data row42 col3\" >-7.17</td>\n",
       "    </tr>\n",
       "    <tr>\n",
       "      <th id=\"T_b4596_level0_row43\" class=\"row_heading level0 row43\" >robot-nav-sensor-readings-2</th>\n",
       "      <td id=\"T_b4596_row43_col0\" class=\"data row43 col0\" >kDN</td>\n",
       "      <td id=\"T_b4596_row43_col1\" class=\"data row43 col1\" >MS</td>\n",
       "      <td id=\"T_b4596_row43_col2\" class=\"data row43 col2\" >5.16</td>\n",
       "      <td id=\"T_b4596_row43_col3\" class=\"data row43 col3\" >12.56</td>\n",
       "    </tr>\n",
       "    <tr>\n",
       "      <th id=\"T_b4596_level0_row44\" class=\"row_heading level0 row44\" >saheart</th>\n",
       "      <td id=\"T_b4596_row44_col0\" class=\"data row44 col0\" >U</td>\n",
       "      <td id=\"T_b4596_row44_col1\" class=\"data row44 col1\" >TU</td>\n",
       "      <td id=\"T_b4596_row44_col2\" class=\"data row44 col2\" >51.49</td>\n",
       "      <td id=\"T_b4596_row44_col3\" class=\"data row44 col3\" >103.37</td>\n",
       "    </tr>\n",
       "    <tr>\n",
       "      <th id=\"T_b4596_level0_row45\" class=\"row_heading level0 row45\" >seeds</th>\n",
       "      <td id=\"T_b4596_row45_col0\" class=\"data row45 col0\" >U</td>\n",
       "      <td id=\"T_b4596_row45_col1\" class=\"data row45 col1\" >TU</td>\n",
       "      <td id=\"T_b4596_row45_col2\" class=\"data row45 col2\" >2.02</td>\n",
       "      <td id=\"T_b4596_row45_col3\" class=\"data row45 col3\" >1.34</td>\n",
       "    </tr>\n",
       "    <tr>\n",
       "      <th id=\"T_b4596_level0_row46\" class=\"row_heading level0 row46\" >spambase</th>\n",
       "      <td id=\"T_b4596_row46_col0\" class=\"data row46 col0\" >LSR</td>\n",
       "      <td id=\"T_b4596_row46_col1\" class=\"data row46 col1\" >EER</td>\n",
       "      <td id=\"T_b4596_row46_col2\" class=\"data row46 col2\" >49.35</td>\n",
       "      <td id=\"T_b4596_row46_col3\" class=\"data row46 col3\" >7.40</td>\n",
       "    </tr>\n",
       "    <tr>\n",
       "      <th id=\"T_b4596_level0_row47\" class=\"row_heading level0 row47\" >spect-heart</th>\n",
       "      <td id=\"T_b4596_row47_col0\" class=\"data row47 col0\" >kDN</td>\n",
       "      <td id=\"T_b4596_row47_col1\" class=\"data row47 col1\" >TU</td>\n",
       "      <td id=\"T_b4596_row47_col2\" class=\"data row47 col2\" >12.57</td>\n",
       "      <td id=\"T_b4596_row47_col3\" class=\"data row47 col3\" >20.58</td>\n",
       "    </tr>\n",
       "    <tr>\n",
       "      <th id=\"T_b4596_level0_row48\" class=\"row_heading level0 row48\" >statlog-australian-credit</th>\n",
       "      <td id=\"T_b4596_row48_col0\" class=\"data row48 col0\" >LSCI</td>\n",
       "      <td id=\"T_b4596_row48_col1\" class=\"data row48 col1\" >MS</td>\n",
       "      <td id=\"T_b4596_row48_col2\" class=\"data row48 col2\" >16.82</td>\n",
       "      <td id=\"T_b4596_row48_col3\" class=\"data row48 col3\" >15.17</td>\n",
       "    </tr>\n",
       "    <tr>\n",
       "      <th id=\"T_b4596_level0_row49\" class=\"row_heading level0 row49\" >statlog-german-credit</th>\n",
       "      <td id=\"T_b4596_row49_col0\" class=\"data row49 col0\" >kDN</td>\n",
       "      <td id=\"T_b4596_row49_col1\" class=\"data row49 col1\" >TU</td>\n",
       "      <td id=\"T_b4596_row49_col2\" class=\"data row49 col2\" >71.45</td>\n",
       "      <td id=\"T_b4596_row49_col3\" class=\"data row49 col3\" >1099.76</td>\n",
       "    </tr>\n",
       "    <tr>\n",
       "      <th id=\"T_b4596_level0_row50\" class=\"row_heading level0 row50\" >statlog-heart</th>\n",
       "      <td id=\"T_b4596_row50_col0\" class=\"data row50 col0\" >CLD</td>\n",
       "      <td id=\"T_b4596_row50_col1\" class=\"data row50 col1\" >MS</td>\n",
       "      <td id=\"T_b4596_row50_col2\" class=\"data row50 col2\" >6.74</td>\n",
       "      <td id=\"T_b4596_row50_col3\" class=\"data row50 col3\" >-1.02</td>\n",
       "    </tr>\n",
       "    <tr>\n",
       "      <th id=\"T_b4596_level0_row51\" class=\"row_heading level0 row51\" >statlog-image-segmentation</th>\n",
       "      <td id=\"T_b4596_row51_col0\" class=\"data row51 col0\" >LSR</td>\n",
       "      <td id=\"T_b4596_row51_col1\" class=\"data row51 col1\" >MS</td>\n",
       "      <td id=\"T_b4596_row51_col2\" class=\"data row51 col2\" >3.79</td>\n",
       "      <td id=\"T_b4596_row51_col3\" class=\"data row51 col3\" >12.21</td>\n",
       "    </tr>\n",
       "    <tr>\n",
       "      <th id=\"T_b4596_level0_row52\" class=\"row_heading level0 row52\" >statlog-vehicle-silhouettes</th>\n",
       "      <td id=\"T_b4596_row52_col0\" class=\"data row52 col0\" >N1I</td>\n",
       "      <td id=\"T_b4596_row52_col1\" class=\"data row52 col1\" >EER</td>\n",
       "      <td id=\"T_b4596_row52_col2\" class=\"data row52 col2\" >14.95</td>\n",
       "      <td id=\"T_b4596_row52_col3\" class=\"data row52 col3\" >29.01</td>\n",
       "    </tr>\n",
       "    <tr>\n",
       "      <th id=\"T_b4596_level0_row53\" class=\"row_heading level0 row53\" >steel-plates-faults</th>\n",
       "      <td id=\"T_b4596_row53_col0\" class=\"data row53 col0\" >CLD</td>\n",
       "      <td id=\"T_b4596_row53_col1\" class=\"data row53 col1\" >MS</td>\n",
       "      <td id=\"T_b4596_row53_col2\" class=\"data row53 col2\" >-0.37</td>\n",
       "      <td id=\"T_b4596_row53_col3\" class=\"data row53 col3\" >-0.10</td>\n",
       "    </tr>\n",
       "    <tr>\n",
       "      <th id=\"T_b4596_level0_row54\" class=\"row_heading level0 row54\" >systhetic-control</th>\n",
       "      <td id=\"T_b4596_row54_col0\" class=\"data row54 col0\" >N1I</td>\n",
       "      <td id=\"T_b4596_row54_col1\" class=\"data row54 col1\" >MS</td>\n",
       "      <td id=\"T_b4596_row54_col2\" class=\"data row54 col2\" >68.43</td>\n",
       "      <td id=\"T_b4596_row54_col3\" class=\"data row54 col3\" >8.93</td>\n",
       "    </tr>\n",
       "    <tr>\n",
       "      <th id=\"T_b4596_level0_row55\" class=\"row_heading level0 row55\" >texture</th>\n",
       "      <td id=\"T_b4596_row55_col0\" class=\"data row55 col0\" >LSR</td>\n",
       "      <td id=\"T_b4596_row55_col1\" class=\"data row55 col1\" >MS</td>\n",
       "      <td id=\"T_b4596_row55_col2\" class=\"data row55 col2\" >13.03</td>\n",
       "      <td id=\"T_b4596_row55_col3\" class=\"data row55 col3\" >2.00</td>\n",
       "    </tr>\n",
       "    <tr>\n",
       "      <th id=\"T_b4596_level0_row56\" class=\"row_heading level0 row56\" >thyroid-ann</th>\n",
       "      <td id=\"T_b4596_row56_col0\" class=\"data row56 col0\" >N1I</td>\n",
       "      <td id=\"T_b4596_row56_col1\" class=\"data row56 col1\" >MS</td>\n",
       "      <td id=\"T_b4596_row56_col2\" class=\"data row56 col2\" >5.31</td>\n",
       "      <td id=\"T_b4596_row56_col3\" class=\"data row56 col3\" >825.36</td>\n",
       "    </tr>\n",
       "    <tr>\n",
       "      <th id=\"T_b4596_level0_row57\" class=\"row_heading level0 row57\" >thyroid-hypothyroid</th>\n",
       "      <td id=\"T_b4596_row57_col0\" class=\"data row57 col0\" >DCP</td>\n",
       "      <td id=\"T_b4596_row57_col1\" class=\"data row57 col1\" >MS</td>\n",
       "      <td id=\"T_b4596_row57_col2\" class=\"data row57 col2\" >10.74</td>\n",
       "      <td id=\"T_b4596_row57_col3\" class=\"data row57 col3\" >158.01</td>\n",
       "    </tr>\n",
       "    <tr>\n",
       "      <th id=\"T_b4596_level0_row58\" class=\"row_heading level0 row58\" >thyroid-newthyroid</th>\n",
       "      <td id=\"T_b4596_row58_col0\" class=\"data row58 col0\" >U</td>\n",
       "      <td id=\"T_b4596_row58_col1\" class=\"data row58 col1\" >MS</td>\n",
       "      <td id=\"T_b4596_row58_col2\" class=\"data row58 col2\" >8.12</td>\n",
       "      <td id=\"T_b4596_row58_col3\" class=\"data row58 col3\" >13.72</td>\n",
       "    </tr>\n",
       "    <tr>\n",
       "      <th id=\"T_b4596_level0_row59\" class=\"row_heading level0 row59\" >thyroid-sick-euthyroid</th>\n",
       "      <td id=\"T_b4596_row59_col0\" class=\"data row59 col0\" >H</td>\n",
       "      <td id=\"T_b4596_row59_col1\" class=\"data row59 col1\" >MS</td>\n",
       "      <td id=\"T_b4596_row59_col2\" class=\"data row59 col2\" >63.89</td>\n",
       "      <td id=\"T_b4596_row59_col3\" class=\"data row59 col3\" >1103.90</td>\n",
       "    </tr>\n",
       "    <tr>\n",
       "      <th id=\"T_b4596_level0_row60\" class=\"row_heading level0 row60\" >twonorm</th>\n",
       "      <td id=\"T_b4596_row60_col0\" class=\"data row60 col0\" >N2I</td>\n",
       "      <td id=\"T_b4596_row60_col1\" class=\"data row60 col1\" >TU</td>\n",
       "      <td id=\"T_b4596_row60_col2\" class=\"data row60 col2\" >8.87</td>\n",
       "      <td id=\"T_b4596_row60_col3\" class=\"data row60 col3\" >1.79</td>\n",
       "    </tr>\n",
       "    <tr>\n",
       "      <th id=\"T_b4596_level0_row61\" class=\"row_heading level0 row61\" >user-knowledge</th>\n",
       "      <td id=\"T_b4596_row61_col0\" class=\"data row61 col0\" >DS</td>\n",
       "      <td id=\"T_b4596_row61_col1\" class=\"data row61 col1\" >MS</td>\n",
       "      <td id=\"T_b4596_row61_col2\" class=\"data row61 col2\" >17.53</td>\n",
       "      <td id=\"T_b4596_row61_col3\" class=\"data row61 col3\" >6.41</td>\n",
       "    </tr>\n",
       "    <tr>\n",
       "      <th id=\"T_b4596_level0_row62\" class=\"row_heading level0 row62\" >vertebra-column-2c</th>\n",
       "      <td id=\"T_b4596_row62_col0\" class=\"data row62 col0\" >CLD</td>\n",
       "      <td id=\"T_b4596_row62_col1\" class=\"data row62 col1\" >MS</td>\n",
       "      <td id=\"T_b4596_row62_col2\" class=\"data row62 col2\" >7.00</td>\n",
       "      <td id=\"T_b4596_row62_col3\" class=\"data row62 col3\" >-6.86</td>\n",
       "    </tr>\n",
       "    <tr>\n",
       "      <th id=\"T_b4596_level0_row63\" class=\"row_heading level0 row63\" >vertebra-column-3c</th>\n",
       "      <td id=\"T_b4596_row63_col0\" class=\"data row63 col0\" >kDN</td>\n",
       "      <td id=\"T_b4596_row63_col1\" class=\"data row63 col1\" >MS</td>\n",
       "      <td id=\"T_b4596_row63_col2\" class=\"data row63 col2\" >9.74</td>\n",
       "      <td id=\"T_b4596_row63_col3\" class=\"data row63 col3\" >14.31</td>\n",
       "    </tr>\n",
       "    <tr>\n",
       "      <th id=\"T_b4596_level0_row64\" class=\"row_heading level0 row64\" >volcanoes-a3</th>\n",
       "      <td id=\"T_b4596_row64_col0\" class=\"data row64 col0\" >CLD</td>\n",
       "      <td id=\"T_b4596_row64_col1\" class=\"data row64 col1\" >MS</td>\n",
       "      <td id=\"T_b4596_row64_col2\" class=\"data row64 col2\" >10.66</td>\n",
       "      <td id=\"T_b4596_row64_col3\" class=\"data row64 col3\" >397.91</td>\n",
       "    </tr>\n",
       "    <tr>\n",
       "      <th id=\"T_b4596_level0_row65\" class=\"row_heading level0 row65\" >volcanoes-b5</th>\n",
       "      <td id=\"T_b4596_row65_col0\" class=\"data row65 col0\" >CB</td>\n",
       "      <td id=\"T_b4596_row65_col1\" class=\"data row65 col1\" >MS</td>\n",
       "      <td id=\"T_b4596_row65_col2\" class=\"data row65 col2\" >17.98</td>\n",
       "      <td id=\"T_b4596_row65_col3\" class=\"data row65 col3\" >625.36</td>\n",
       "    </tr>\n",
       "    <tr>\n",
       "      <th id=\"T_b4596_level0_row66\" class=\"row_heading level0 row66\" >voting</th>\n",
       "      <td id=\"T_b4596_row66_col0\" class=\"data row66 col0\" >H</td>\n",
       "      <td id=\"T_b4596_row66_col1\" class=\"data row66 col1\" >TU</td>\n",
       "      <td id=\"T_b4596_row66_col2\" class=\"data row66 col2\" >16.17</td>\n",
       "      <td id=\"T_b4596_row66_col3\" class=\"data row66 col3\" >6.03</td>\n",
       "    </tr>\n",
       "    <tr>\n",
       "      <th id=\"T_b4596_level0_row67\" class=\"row_heading level0 row67\" >waveform-v2</th>\n",
       "      <td id=\"T_b4596_row67_col0\" class=\"data row67 col0\" >F2I</td>\n",
       "      <td id=\"T_b4596_row67_col1\" class=\"data row67 col1\" >MS</td>\n",
       "      <td id=\"T_b4596_row67_col2\" class=\"data row67 col2\" >21.84</td>\n",
       "      <td id=\"T_b4596_row67_col3\" class=\"data row67 col3\" >10.98</td>\n",
       "    </tr>\n",
       "    <tr>\n",
       "      <th id=\"T_b4596_level0_row68\" class=\"row_heading level0 row68\" >wdbc</th>\n",
       "      <td id=\"T_b4596_row68_col0\" class=\"data row68 col0\" >U</td>\n",
       "      <td id=\"T_b4596_row68_col1\" class=\"data row68 col1\" >TU</td>\n",
       "      <td id=\"T_b4596_row68_col2\" class=\"data row68 col2\" >19.73</td>\n",
       "      <td id=\"T_b4596_row68_col3\" class=\"data row68 col3\" >10.92</td>\n",
       "    </tr>\n",
       "    <tr>\n",
       "      <th id=\"T_b4596_level0_row69\" class=\"row_heading level0 row69\" >wholesale-channel</th>\n",
       "      <td id=\"T_b4596_row69_col0\" class=\"data row69 col0\" >kDN</td>\n",
       "      <td id=\"T_b4596_row69_col1\" class=\"data row69 col1\" >MS</td>\n",
       "      <td id=\"T_b4596_row69_col2\" class=\"data row69 col2\" >7.37</td>\n",
       "      <td id=\"T_b4596_row69_col3\" class=\"data row69 col3\" >9.05</td>\n",
       "    </tr>\n",
       "    <tr>\n",
       "      <th id=\"T_b4596_level0_row70\" class=\"row_heading level0 row70\" >wilt</th>\n",
       "      <td id=\"T_b4596_row70_col0\" class=\"data row70 col0\" >F3I</td>\n",
       "      <td id=\"T_b4596_row70_col1\" class=\"data row70 col1\" >MS</td>\n",
       "      <td id=\"T_b4596_row70_col2\" class=\"data row70 col2\" >19.60</td>\n",
       "      <td id=\"T_b4596_row70_col3\" class=\"data row70 col3\" >43487.19</td>\n",
       "    </tr>\n",
       "    <tr>\n",
       "      <th id=\"T_b4596_level0_row71\" class=\"row_heading level0 row71\" >wine</th>\n",
       "      <td id=\"T_b4596_row71_col0\" class=\"data row71 col0\" >F3I</td>\n",
       "      <td id=\"T_b4596_row71_col1\" class=\"data row71 col1\" >TU</td>\n",
       "      <td id=\"T_b4596_row71_col2\" class=\"data row71 col2\" >8.69</td>\n",
       "      <td id=\"T_b4596_row71_col3\" class=\"data row71 col3\" >2.48</td>\n",
       "    </tr>\n",
       "    <tr>\n",
       "      <th id=\"T_b4596_level0_row72\" class=\"row_heading level0 row72\" >wine-quality-red</th>\n",
       "      <td id=\"T_b4596_row72_col0\" class=\"data row72 col0\" >CLD</td>\n",
       "      <td id=\"T_b4596_row72_col1\" class=\"data row72 col1\" >MS</td>\n",
       "      <td id=\"T_b4596_row72_col2\" class=\"data row72 col2\" >14.25</td>\n",
       "      <td id=\"T_b4596_row72_col3\" class=\"data row72 col3\" >5.54</td>\n",
       "    </tr>\n",
       "    <tr>\n",
       "      <th id=\"T_b4596_level0_row73\" class=\"row_heading level0 row73\" >wine-quality-white-5class</th>\n",
       "      <td id=\"T_b4596_row73_col0\" class=\"data row73 col0\" >F4I</td>\n",
       "      <td id=\"T_b4596_row73_col1\" class=\"data row73 col1\" >MS</td>\n",
       "      <td id=\"T_b4596_row73_col2\" class=\"data row73 col2\" >40.58</td>\n",
       "      <td id=\"T_b4596_row73_col3\" class=\"data row73 col3\" >25.77</td>\n",
       "    </tr>\n",
       "    <tr>\n",
       "      <th id=\"T_b4596_level0_row74\" class=\"row_heading level0 row74\" >yeast-4class</th>\n",
       "      <td id=\"T_b4596_row74_col0\" class=\"data row74 col0\" >F4I</td>\n",
       "      <td id=\"T_b4596_row74_col1\" class=\"data row74 col1\" >EER</td>\n",
       "      <td id=\"T_b4596_row74_col2\" class=\"data row74 col2\" >19.56</td>\n",
       "      <td id=\"T_b4596_row74_col3\" class=\"data row74 col3\" >1.22</td>\n",
       "    </tr>\n",
       "  </tbody>\n",
       "</table>\n"
      ],
      "text/plain": [
       "<pandas.io.formats.style.Styler at 0x7b6c20e75730>"
      ]
     },
     "execution_count": 79,
     "metadata": {},
     "output_type": "execute_result"
    }
   ],
   "source": [
    "(\n",
    "    dataset_report.style\n",
    "    .format(precision=2)\n",
    "    .format(utils.ABREV_DICT.get, subset=['best_cls', 'best_hard'])\n",
    "    .applymap(lambda x:  'color: red' if x < 0 else '', subset=['cls_diff', 'rnd_diff'])\n",
    ")"
   ]
  },
  {
   "cell_type": "markdown",
   "id": "5d477325-5274-4caf-abc8-dfba6bf93460",
   "metadata": {},
   "source": [
    "Salvando tabela em LaTex:"
   ]
  },
  {
   "cell_type": "code",
   "execution_count": 80,
   "id": "105fcf41-34b7-45bd-8261-0d3e85cbef1a",
   "metadata": {},
   "outputs": [],
   "source": [
    "dataset_report.index = dataset_report.index.map(lambda x: x if len(x) <= 20 else x[:17]+'...')\n",
    "\n",
    "def latex_format(val):\n",
    "    if val < 0:\n",
    "        return r'\\textcolor{red}{' + f'{val:.2f}' + '}'\n",
    "    return f'{val:.2f}'\n",
    "    \n",
    "dataset_report.to_latex('dataset_report.tex',\n",
    "                        formatters={'best_hard': utils.ABREV_DICT.get,\n",
    "                                    'best_cls': utils.ABREV_DICT.get,\n",
    "                                    'cls_diff': latex_format,\n",
    "                                    'rnd_diff': latex_format },\n",
    "                        index_names=False,\n",
    "                        header=[\"HardS*\", \"Classic*\", \"CG (\\%)\", \"BG (\\%)\"])"
   ]
  },
  {
   "cell_type": "markdown",
   "id": "94c730b8-66a6-40d8-925e-5dfc47d10824",
   "metadata": {},
   "source": [
    "#### Testes Estatísticos"
   ]
  },
  {
   "cell_type": "markdown",
   "id": "3f0e9c73-7ed8-47f0-a9cd-1e8dd14a6e24",
   "metadata": {},
   "source": [
    "Verificando se existe alguma diferença estatísitca por meio do teste de Friedman:"
   ]
  },
  {
   "cell_type": "code",
   "execution_count": 81,
   "id": "a2b9c9e0-c89e-420a-94e9-b6eff37dfc02",
   "metadata": {},
   "outputs": [],
   "source": [
    "def apply_friedman_tests(observations :pd.DataFrame, alpha=.05) -> pd.DataFrame:\n",
    "    \n",
    "    N, M = observations.shape\n",
    "\n",
    "    observation_list = [observation for _, observation in observations.items()]\n",
    "    chisquare_result = stats.friedmanchisquare(*observation_list)\n",
    "    chi_stat = chisquare_result.statistic\n",
    "    chi_pvalue = chisquare_result.pvalue\n",
    "\n",
    "    # Utiliza o chi quadrado do friedman para derivar a estatísica menos conservadora de Iman e Davenport (1980)\n",
    "    F_stat = ((N-1)*chi_stat)/(N*(M-1) - chi_stat)\n",
    "\n",
    "    ## Graus de liberdade da distribuição F que distribui a F_stat no teste acima\n",
    "    dfn = M - 1\n",
    "    dfd = (M-1)*(N-1)\n",
    "    F_pvalue = stats.f.sf(F_stat, dfn, dfd)\n",
    "\n",
    "    index = [\"$\\chi^2_F$\", \"$F_F$\"]\n",
    "\n",
    "    df =  pd.DataFrame({\"Static Value\": [chi_stat, F_stat], \"$p$ value\": [chi_pvalue, F_pvalue]}, index=index)\n",
    "    \n",
    "    color_function = lambda x: f'background-color: {\"red\" if x >= alpha else \"green\"}'\n",
    "    \n",
    "    return df.style.applymap(color_function, subset=[\"$p$ value\"]).set_caption(fr\"Friedman Test ($\\alpha={alpha}$)\")"
   ]
  },
  {
   "cell_type": "code",
   "execution_count": 82,
   "id": "e22cff9b-9130-44b5-a618-ee4ca977c870",
   "metadata": {},
   "outputs": [
    {
     "data": {
      "text/html": [
       "<style type=\"text/css\">\n",
       "#T_64767_row0_col1, #T_64767_row1_col1 {\n",
       "  background-color: green;\n",
       "}\n",
       "</style>\n",
       "<table id=\"T_64767\">\n",
       "  <caption>Friedman Test ($\\alpha=0.05$)</caption>\n",
       "  <thead>\n",
       "    <tr>\n",
       "      <th class=\"blank level0\" >&nbsp;</th>\n",
       "      <th id=\"T_64767_level0_col0\" class=\"col_heading level0 col0\" >Static Value</th>\n",
       "      <th id=\"T_64767_level0_col1\" class=\"col_heading level0 col1\" >$p$ value</th>\n",
       "    </tr>\n",
       "  </thead>\n",
       "  <tbody>\n",
       "    <tr>\n",
       "      <th id=\"T_64767_level0_row0\" class=\"row_heading level0 row0\" >$\\chi^2_F$</th>\n",
       "      <td id=\"T_64767_row0_col0\" class=\"data row0 col0\" >1167.167161</td>\n",
       "      <td id=\"T_64767_row0_col1\" class=\"data row0 col1\" >0.000000</td>\n",
       "    </tr>\n",
       "    <tr>\n",
       "      <th id=\"T_64767_level0_row1\" class=\"row_heading level0 row1\" >$F_F$</th>\n",
       "      <td id=\"T_64767_row1_col0\" class=\"data row1 col0\" >58.531819</td>\n",
       "      <td id=\"T_64767_row1_col1\" class=\"data row1 col1\" >0.000000</td>\n",
       "    </tr>\n",
       "  </tbody>\n",
       "</table>\n"
      ],
      "text/plain": [
       "<pandas.io.formats.style.Styler at 0x7b6bf6413e20>"
      ]
     },
     "execution_count": 82,
     "metadata": {},
     "output_type": "execute_result"
    }
   ],
   "source": [
    "observations_df = alp_D_df.pivot(index=[\"dataset\", \"fold\"], columns=[\"method\"], values=\"ALP\")\n",
    "observations_df.columns = observations_df.columns.map(utils.ABREV_DICT)\n",
    "apply_friedman_tests(observations_df)"
   ]
  },
  {
   "cell_type": "markdown",
   "id": "2715ade9-1405-42e4-b882-4fe9887ac41d",
   "metadata": {},
   "source": [
    "Aplicando o teste de Nemenyi para calcular a _critical distance_ ($CD$):"
   ]
  },
  {
   "cell_type": "code",
   "execution_count": 83,
   "id": "4396f91f-3793-4efe-83ff-8e091a9a7da1",
   "metadata": {},
   "outputs": [
    {
     "data": {
      "text/latex": [
       "$\\displaystyle CD \\approx 1.88 \\, (\\alpha = 0.05)$"
      ],
      "text/plain": [
       "<IPython.core.display.Math object>"
      ]
     },
     "execution_count": 83,
     "metadata": {},
     "output_type": "execute_result"
    }
   ],
   "source": [
    "from autorank import autorank, plot_stats\n",
    "from IPython.display import Math\n",
    "autorank_result = autorank(observations_df, alpha=0.05)\n",
    "Math(f\"CD \\\\approx {autorank_result.cd:.2f} \\\\, (\\\\alpha = {autorank_result.alpha})\")"
   ]
  },
  {
   "cell_type": "markdown",
   "id": "8a0191ae-0c9e-4900-bdef-6bc4c5a2176e",
   "metadata": {},
   "source": [
    "Com base nisso podemos comparar os ranks médios:"
   ]
  },
  {
   "cell_type": "code",
   "execution_count": 84,
   "id": "ea048af1-e759-4c6a-a443-1cd7757e29f9",
   "metadata": {},
   "outputs": [],
   "source": [
    "\n",
    "def show_rank_diagram(clf):\n",
    "    duration_df_clf = duration_df.loc[clf]\n",
    "    \n",
    "    avg_duration_rank = duration_df_clf.rank(axis=1).mean().sort_values()\n",
    "    avg_duration_rank.index = avg_duration_rank.index.map(utils.ABREV_DICT.get)\n",
    "\n",
    "\n",
    "    sig_matrix = sp.posthoc_nemenyi_friedman(duration_df_clf)\n",
    "    sig_matrix.columns = sig_matrix.columns.map(utils.ABREV_DICT.get)\n",
    "    sig_matrix.index = sig_matrix.index.map(utils.ABREV_DICT.get)\n",
    "    \n",
    "    res = sp.critical_difference_diagram(avg_duration_rank, sig_matrix) \n",
    "    \n",
    "    plt.title('Runtime Ranks - ' + clf)\n"
   ]
  },
  {
   "cell_type": "code",
   "execution_count": 85,
   "id": "4519e934-bbe6-47d6-94a1-8b019699e5d7",
   "metadata": {},
   "outputs": [
    {
     "data": {
      "image/png": "[encoded data removed]",
      "text/plain": [
       "<Figure size 800x445 with 1 Axes>"
      ]
     },
     "metadata": {},
     "output_type": "display_data"
    }
   ],
   "source": [
    "ax = plot_stats(autorank_result, width=8) \n",
    "fig = plt.gcf()\n",
    "fig.savefig(\"nemenyi_auc.eps\", format='eps')"
   ]
  },
  {
   "cell_type": "markdown",
   "id": "782c0be0-e9ef-434e-9e09-e27ba7f33a90",
   "metadata": {},
   "source": [
    "Apesar das suspeitas que medidas tree-based são melhores para classificadores não baseados em arvore, só consigo dizer que TDu foi melhor que CART para SVM"
   ]
  },
  {
   "cell_type": "markdown",
   "id": "5d3295ff-1e2b-48db-b783-5aa1675375b6",
   "metadata": {},
   "source": [
    "## Análise por Iteração\n",
    "---"
   ]
  },
  {
   "cell_type": "code",
   "execution_count": 86,
   "id": "bb445f7a-0941-4914-ba6c-8c81a9b219ae",
   "metadata": {},
   "outputs": [],
   "source": [
    "def get_avg_ranks(results_df) -> pd.DataFrame:\n",
    "    # Afere o kappa médio para cada query registrada\n",
    "    avg_kappa = results_df.groupby([\"classifier\",\"method\", \"query\", \"dataset\"]).kappa.mean()\n",
    "\n",
    "    # Afere o rank de cada método para cada dataset\n",
    "    ranks_df = avg_kappa.to_frame(name=\"kappa\")\n",
    "    ranks_df['rank'] = ranks_df.groupby([\"query\", \"dataset\"]).kappa.rank(ascending=False)\n",
    "\n",
    "    # Calcula rank médio por query para cada \n",
    "    avg_ranks = ranks_df.groupby([\"classifier\", \"method\", \"query\"])[\"rank\"].mean()\n",
    "    return avg_ranks"
   ]
  },
  {
   "cell_type": "code",
   "execution_count": 87,
   "id": "fabee143-9b2f-4ab5-bf5f-563654bba0cf",
   "metadata": {},
   "outputs": [],
   "source": [
    "avg_ranks_df = get_avg_ranks(results_df)"
   ]
  },
  {
   "cell_type": "code",
   "execution_count": 88,
   "id": "bed7d224-e6c9-4f76-aaef-1c5d46fdf964",
   "metadata": {},
   "outputs": [
    {
     "data": {
      "image/png": "[encoded data removed]",
      "text/plain": [
       "<Figure size 600x500 with 1 Axes>"
      ]
     },
     "metadata": {},
     "output_type": "display_data"
    }
   ],
   "source": [
    "def plot_learning_curves(avg_ranks_df, classifier):\n",
    "\n",
    "    fig, ax = plt.subplots(figsize=(6,5))\n",
    "    ax.grid(True)\n",
    "    ax.invert_yaxis()\n",
    "    ax.set_xticks(np.arange(0,101,10))\n",
    "    # ax.set_title(classifier)\n",
    "    ax.set_xlabel(\"Queries ($i$)\")\n",
    "    ax.set_ylabel(r\"Avg. $\\bar\\kappa_i$ rank\")\n",
    "    \n",
    "\n",
    "    # Calcula rank médio por query para cada \n",
    "    clf_ranks = avg_ranks_df.loc[classifier]\n",
    "    auc_scores = {}\n",
    "    for method, data in clf_ranks.groupby(\"method\", sort=False):\n",
    "\n",
    "        # aplica média móvel nos dados:\n",
    "        smoothed_data = data.rolling(window=5, min_periods=1).mean()\n",
    "\n",
    "        auc_scores[utils.ABREV_DICT[method]] = np.trapz(smoothed_data)\n",
    "        \n",
    "        ax.plot(smoothed_data.values, utils.get_style(method),\n",
    "                label=utils.ABREV_DICT.get(method), color=COLOR_DICT[method], markevery=(0.3, 0.2),\n",
    "                linewidth=(0.5 if utils.get_hm_type(method) != 'classic' else 1.5) )\n",
    "        \n",
    "    handles, labels = plt.gca().get_legend_handles_labels()\n",
    "    label_to_handle = {l: h for l, h in zip(labels, handles)}\n",
    "\n",
    "    sorted_labels = sorted(auc_scores, key=auc_scores.get)\n",
    "    plt.legend([label_to_handle[label] for label in sorted_labels],\n",
    "               sorted_labels,\n",
    "               loc='upper right', bbox_to_anchor=(1.18, 1.01), ncols=1, prop={'size': 8}, framealpha=1)\n",
    "\n",
    "    return fig\n",
    "\n",
    "fig = plot_learning_curves(avg_ranks_df, classifier=\"SVC\")\n",
    "\n",
    "fig.savefig(f'ranking_curve_SVM.eps',format=\"eps\", bbox_inches='tight')"
   ]
  }
 ],
 "metadata": {
  "kernelspec": {
   "display_name": "Python 3 (ipykernel)",
   "language": "python",
   "name": "python3"
  },
  "language_info": {
   "codemirror_mode": {
    "name": "ipython",
    "version": 3
   },
   "file_extension": ".py",
   "mimetype": "text/x-python",
   "name": "python",
   "nbconvert_exporter": "python",
   "pygments_lexer": "ipython3",
   "version": "3.8.19"
  }
 },
 "nbformat": 4,
 "nbformat_minor": 5
}

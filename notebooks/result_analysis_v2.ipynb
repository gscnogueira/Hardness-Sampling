{
 "cells": [
  {
   "cell_type": "markdown",
   "id": "44f7f653-b750-4823-8d2c-9f240b4949cd",
   "metadata": {},
   "source": [
    "# Análise dos resultados (V2)"
   ]
  },
  {
   "cell_type": "code",
   "execution_count": 1,
   "id": "b59a3eac-0f83-4836-896e-6480caa2b745",
   "metadata": {},
   "outputs": [],
   "source": [
    "import os\n",
    "import pandas as pd\n",
    "import numpy as np\n",
    "import matplotlib.pyplot as plt\n",
    "import ipywidgets as w\n",
    "import colorcet as cc"
   ]
  },
  {
   "cell_type": "markdown",
   "id": "b01cd955-3ba6-43e6-a053-28ed5b2c7db1",
   "metadata": {},
   "source": [
    "Definições uteis para outras situações:"
   ]
  },
  {
   "cell_type": "code",
   "execution_count": 14,
   "id": "5ff5130d-fee7-4eea-a2b6-d9922f47c0e8",
   "metadata": {},
   "outputs": [
    {
     "name": "stdout",
     "output_type": "stream",
     "text": [
      "The autoreload extension is already loaded. To reload it, use:\n",
      "  %reload_ext autoreload\n"
     ]
    }
   ],
   "source": [
    "%load_ext autoreload\n",
    "%autoreload 2\n",
    "from utils import RESULTS_V2_PATH, DATASET_LIST, ABREV_DICT\n",
    "import utils"
   ]
  },
  {
   "cell_type": "markdown",
   "id": "047aa14f-21df-414e-8926-aa27da24b5fd",
   "metadata": {},
   "source": [
    "## Coletando resultados"
   ]
  },
  {
   "cell_type": "code",
   "execution_count": 15,
   "id": "1ad3b55d-b83c-4945-b0e9-ce9c300d7bd7",
   "metadata": {},
   "outputs": [],
   "source": [
    "csv_files = !ls  $RESULTS_V2_PATH"
   ]
  },
  {
   "cell_type": "code",
   "execution_count": 34,
   "id": "5f4d0c85-8e05-4685-add5-fc2b4ae6a01e",
   "metadata": {},
   "outputs": [
    {
     "data": {
      "text/html": [
       "<div>\n",
       "<style scoped>\n",
       "    .dataframe tbody tr th:only-of-type {\n",
       "        vertical-align: middle;\n",
       "    }\n",
       "\n",
       "    .dataframe tbody tr th {\n",
       "        vertical-align: top;\n",
       "    }\n",
       "\n",
       "    .dataframe thead th {\n",
       "        text-align: right;\n",
       "    }\n",
       "</style>\n",
       "<table border=\"1\" class=\"dataframe\">\n",
       "  <thead>\n",
       "    <tr style=\"text-align: right;\">\n",
       "      <th></th>\n",
       "      <th>file</th>\n",
       "      <th>dataset</th>\n",
       "      <th>split</th>\n",
       "      <th>learner</th>\n",
       "      <th>method</th>\n",
       "    </tr>\n",
       "  </thead>\n",
       "  <tbody>\n",
       "    <tr>\n",
       "      <th>0</th>\n",
       "      <td>../results/v2/abalone-3class_1x5_5NN_borderlin...</td>\n",
       "      <td>abalone-3class</td>\n",
       "      <td>1x5</td>\n",
       "      <td>5NN</td>\n",
       "      <td>borderline_points_sampling</td>\n",
       "    </tr>\n",
       "    <tr>\n",
       "      <th>1</th>\n",
       "      <td>../results/v2/abalone-3class_1x5_5NN_class_bal...</td>\n",
       "      <td>abalone-3class</td>\n",
       "      <td>1x5</td>\n",
       "      <td>5NN</td>\n",
       "      <td>class_balance_sampling</td>\n",
       "    </tr>\n",
       "    <tr>\n",
       "      <th>2</th>\n",
       "      <td>../results/v2/abalone-3class_1x5_5NN_class_lik...</td>\n",
       "      <td>abalone-3class</td>\n",
       "      <td>1x5</td>\n",
       "      <td>5NN</td>\n",
       "      <td>class_likelihood_sampling</td>\n",
       "    </tr>\n",
       "    <tr>\n",
       "      <th>3</th>\n",
       "      <td>../results/v2/abalone-3class_1x5_5NN_class_lik...</td>\n",
       "      <td>abalone-3class</td>\n",
       "      <td>1x5</td>\n",
       "      <td>5NN</td>\n",
       "      <td>class_likeliood_diff_sampling</td>\n",
       "    </tr>\n",
       "    <tr>\n",
       "      <th>4</th>\n",
       "      <td>../results/v2/abalone-3class_1x5_5NN_density_w...</td>\n",
       "      <td>abalone-3class</td>\n",
       "      <td>1x5</td>\n",
       "      <td>5NN</td>\n",
       "      <td>density_weighted_sampling</td>\n",
       "    </tr>\n",
       "  </tbody>\n",
       "</table>\n",
       "</div>"
      ],
      "text/plain": [
       "                                                file         dataset split  \\\n",
       "0  ../results/v2/abalone-3class_1x5_5NN_borderlin...  abalone-3class   1x5   \n",
       "1  ../results/v2/abalone-3class_1x5_5NN_class_bal...  abalone-3class   1x5   \n",
       "2  ../results/v2/abalone-3class_1x5_5NN_class_lik...  abalone-3class   1x5   \n",
       "3  ../results/v2/abalone-3class_1x5_5NN_class_lik...  abalone-3class   1x5   \n",
       "4  ../results/v2/abalone-3class_1x5_5NN_density_w...  abalone-3class   1x5   \n",
       "\n",
       "  learner                         method  \n",
       "0     5NN     borderline_points_sampling  \n",
       "1     5NN         class_balance_sampling  \n",
       "2     5NN      class_likelihood_sampling  \n",
       "3     5NN  class_likeliood_diff_sampling  \n",
       "4     5NN      density_weighted_sampling  "
      ]
     },
     "execution_count": 34,
     "metadata": {},
     "output_type": "execute_result"
    }
   ],
   "source": [
    "def get_results_info(file_list: list) -> pd.DataFrame:\n",
    "    \n",
    "    results_info = pd.DataFrame(file_list, columns=[\"file\"])\n",
    "    results_info[[\"dataset\", \"split\", \"learner\", \"method\"]] = results_info.file.str.split(\"_\", n=3, expand=True)\n",
    "    results_info['file'] = results_info.file.map(lambda x: os.path.join(RESULTS_V2_PATH, x))\n",
    "    results_info['method'] = results_info.method.apply(lambda x: x.split('.')[0])\n",
    "    \n",
    "    return results_info\n",
    "\n",
    "results_info = get_results_info(csv_files)\n",
    "results_info.head()"
   ]
  },
  {
   "cell_type": "markdown",
   "id": "2cf421d4-840a-4cc3-8857-435ba41c7814",
   "metadata": {},
   "source": [
    "## Análise de curvas de aprendizado"
   ]
  },
  {
   "cell_type": "code",
   "execution_count": 35,
   "id": "a0a9e586-bda5-4527-a272-d0929f3e9a84",
   "metadata": {},
   "outputs": [],
   "source": [
    "n_methods = results_info.method.nunique()\n",
    "COLOR_DICT = dict(zip(results_info.method.unique().tolist(), cc.glasbey_dark[:n_methods]))"
   ]
  },
  {
   "cell_type": "code",
   "execution_count": 36,
   "id": "607beb0c-95b4-441a-b393-94dd8173da61",
   "metadata": {},
   "outputs": [
    {
     "data": {
      "application/vnd.jupyter.widget-view+json": {
       "model_id": "132b74e9c18546c9880a9d5e5ddd8c56",
       "version_major": 2,
       "version_minor": 0
      },
      "text/plain": [
       "interactive(children=(SelectionSlider(description='dataset', options=('abalone-3class', 'artificial-characters…"
      ]
     },
     "metadata": {},
     "output_type": "display_data"
    },
    {
     "data": {
      "text/plain": [
       "<function __main__.plot_learning_curve(dataset, learner)>"
      ]
     },
     "execution_count": 36,
     "metadata": {},
     "output_type": "execute_result"
    }
   ],
   "source": [
    "def plot_learning_curve(dataset, learner):\n",
    "    \n",
    "    fig, ax = plt.subplots(figsize=(10, 8))\n",
    "    ax.grid(True)\n",
    "    ax.set_ylim(-1,1)\n",
    "    ax.set_title(f\"Average learning curves for AL methods\")\n",
    "    \n",
    "    \n",
    "    result_files = results_info[(results_info.learner == learner) & (results_info.dataset == dataset)].file.tolist()\n",
    "\n",
    "    results_df = pd.concat(pd.read_csv(f) for f in result_files)\n",
    "\n",
    "    auc_dict = {}\n",
    "    for method, data in results_df.groupby(\"method\"):\n",
    "        avg_scores =  data.groupby(\"query\").kappa.mean()\n",
    "        auc = (np.trapz(avg_scores, avg_scores.index))\n",
    "        auc_dict[method] = auc\n",
    "\n",
    "    ranked_method_list = sorted(auc_dict.items(), key=lambda x: x[1],reverse=True)\n",
    "\n",
    "    i=0\n",
    "    for method, _ in ranked_method_list:\n",
    "        avg_curve = results_df[results_df.method == method].groupby(\"query\").kappa.mean()\n",
    "        ax.plot(avg_curve, utils.get_style(method), linewidth=0.5, color=COLOR_DICT[method], label=ABREV_DICT[method],\n",
    "            markevery=(0.3, 0.2))\n",
    "        i+=1\n",
    "        \n",
    "    ax.legend(loc='upper right', bbox_to_anchor=(1.2, 1.02), ncols=1, prop={'size': 12}, framealpha=1)\n",
    "\n",
    "w.interact(plot_learning_curve,\n",
    "          dataset=w.SelectionSlider(options=utils.DATASET_LIST),\n",
    "          learner=w.ToggleButtons(options=utils.ABREV_MODEL.keys(), value=\"SVC\"))"
   ]
  },
  {
   "cell_type": "markdown",
   "id": "57411a6e-651f-4d38-982f-d5023e792371",
   "metadata": {},
   "source": [
    "## Curvas de Ranking"
   ]
  },
  {
   "cell_type": "code",
   "execution_count": 71,
   "id": "db91ec3c-26c1-4ea0-a262-b606fe021e7f",
   "metadata": {},
   "outputs": [],
   "source": [
    "def get_ranks(learner) -> pd.DataFrame:\n",
    "    df = pd.concat(pd.read_csv(f) for f in  results_info[(results_info.learner == learner)].file)\n",
    "\n",
    "    # Afere o kappa médio para cada query registrada\n",
    "    avg_ranks = df.groupby([\"method\", \"query\", \"dataset\"]).apply(lambda x: x.kappa.mean())\n",
    "    avg_ranks_df = avg_ranks.to_frame(name=\"kappa\")\n",
    "    \n",
    "    # Afere o rank de cada método para cada dataset\n",
    "    avg_ranks_df['rank'] = avg_ranks_df.groupby([\"query\", \"dataset\"]).kappa.rank(ascending=False)\n",
    "    \n",
    "    return avg_ranks_df\n"
   ]
  },
  {
   "cell_type": "code",
   "execution_count": 82,
   "id": "fb7dd8d7-c2e6-4ac6-bf4a-57bd8fdfa384",
   "metadata": {},
   "outputs": [],
   "source": [
    "result = get_ranks(\"SVC\")"
   ]
  },
  {
   "cell_type": "code",
   "execution_count": 83,
   "id": "0943c749-8a14-4d95-b0d5-6aa16ff871e5",
   "metadata": {},
   "outputs": [
    {
     "data": {
      "text/html": [
       "<div>\n",
       "<style scoped>\n",
       "    .dataframe tbody tr th:only-of-type {\n",
       "        vertical-align: middle;\n",
       "    }\n",
       "\n",
       "    .dataframe tbody tr th {\n",
       "        vertical-align: top;\n",
       "    }\n",
       "\n",
       "    .dataframe thead th {\n",
       "        text-align: right;\n",
       "    }\n",
       "</style>\n",
       "<table border=\"1\" class=\"dataframe\">\n",
       "  <thead>\n",
       "    <tr style=\"text-align: right;\">\n",
       "      <th></th>\n",
       "      <th>kappa</th>\n",
       "      <th>rank</th>\n",
       "    </tr>\n",
       "    <tr>\n",
       "      <th>method</th>\n",
       "      <th></th>\n",
       "      <th></th>\n",
       "    </tr>\n",
       "  </thead>\n",
       "  <tbody>\n",
       "    <tr>\n",
       "      <th>f2_sampling</th>\n",
       "      <td>0.175431</td>\n",
       "      <td>23.0</td>\n",
       "    </tr>\n",
       "    <tr>\n",
       "      <th>f3_sampling</th>\n",
       "      <td>0.193042</td>\n",
       "      <td>22.0</td>\n",
       "    </tr>\n",
       "    <tr>\n",
       "      <th>density_weighted_sampling</th>\n",
       "      <td>0.247796</td>\n",
       "      <td>21.0</td>\n",
       "    </tr>\n",
       "    <tr>\n",
       "      <th>training_utility_sampling</th>\n",
       "      <td>0.256907</td>\n",
       "      <td>20.0</td>\n",
       "    </tr>\n",
       "    <tr>\n",
       "      <th>class_likelihood_sampling</th>\n",
       "      <td>0.396816</td>\n",
       "      <td>19.0</td>\n",
       "    </tr>\n",
       "    <tr>\n",
       "      <th>harmfulness_sampling</th>\n",
       "      <td>0.489401</td>\n",
       "      <td>18.0</td>\n",
       "    </tr>\n",
       "    <tr>\n",
       "      <th>class_likeliood_diff_sampling</th>\n",
       "      <td>0.491159</td>\n",
       "      <td>17.0</td>\n",
       "    </tr>\n",
       "    <tr>\n",
       "      <th>f4_sampling</th>\n",
       "      <td>0.491837</td>\n",
       "      <td>16.0</td>\n",
       "    </tr>\n",
       "    <tr>\n",
       "      <th>tree_depth_unpruned_sampling</th>\n",
       "      <td>0.518447</td>\n",
       "      <td>15.0</td>\n",
       "    </tr>\n",
       "    <tr>\n",
       "      <th>ls_radius_sampling</th>\n",
       "      <td>0.526542</td>\n",
       "      <td>14.0</td>\n",
       "    </tr>\n",
       "    <tr>\n",
       "      <th>borderline_points_sampling</th>\n",
       "      <td>0.536080</td>\n",
       "      <td>13.0</td>\n",
       "    </tr>\n",
       "    <tr>\n",
       "      <th>tree_depth_pruned_sampling</th>\n",
       "      <td>0.542016</td>\n",
       "      <td>12.0</td>\n",
       "    </tr>\n",
       "    <tr>\n",
       "      <th>margin_sampling</th>\n",
       "      <td>0.556822</td>\n",
       "      <td>11.0</td>\n",
       "    </tr>\n",
       "    <tr>\n",
       "      <th>expected_error_reduction</th>\n",
       "      <td>0.572927</td>\n",
       "      <td>10.0</td>\n",
       "    </tr>\n",
       "    <tr>\n",
       "      <th>k_disagreeing_neighbors_sampling</th>\n",
       "      <td>0.598068</td>\n",
       "      <td>9.0</td>\n",
       "    </tr>\n",
       "    <tr>\n",
       "      <th>disjunct_class_percentage_sampling</th>\n",
       "      <td>0.614677</td>\n",
       "      <td>8.0</td>\n",
       "    </tr>\n",
       "    <tr>\n",
       "      <th>minority_value_sampling</th>\n",
       "      <td>0.630385</td>\n",
       "      <td>6.5</td>\n",
       "    </tr>\n",
       "    <tr>\n",
       "      <th>class_balance_sampling</th>\n",
       "      <td>0.630385</td>\n",
       "      <td>6.5</td>\n",
       "    </tr>\n",
       "    <tr>\n",
       "      <th>local_set_cardinality_sampling</th>\n",
       "      <td>0.646426</td>\n",
       "      <td>5.0</td>\n",
       "    </tr>\n",
       "    <tr>\n",
       "      <th>disjunct_size_sampling</th>\n",
       "      <td>0.681000</td>\n",
       "      <td>4.0</td>\n",
       "    </tr>\n",
       "    <tr>\n",
       "      <th>f1_sampling</th>\n",
       "      <td>0.687202</td>\n",
       "      <td>3.0</td>\n",
       "    </tr>\n",
       "    <tr>\n",
       "      <th>intra_extra_ratio_sampling</th>\n",
       "      <td>0.698632</td>\n",
       "      <td>2.0</td>\n",
       "    </tr>\n",
       "    <tr>\n",
       "      <th>random_sampling</th>\n",
       "      <td>0.716166</td>\n",
       "      <td>1.0</td>\n",
       "    </tr>\n",
       "  </tbody>\n",
       "</table>\n",
       "</div>"
      ],
      "text/plain": [
       "                                       kappa  rank\n",
       "method                                            \n",
       "f2_sampling                         0.175431  23.0\n",
       "f3_sampling                         0.193042  22.0\n",
       "density_weighted_sampling           0.247796  21.0\n",
       "training_utility_sampling           0.256907  20.0\n",
       "class_likelihood_sampling           0.396816  19.0\n",
       "harmfulness_sampling                0.489401  18.0\n",
       "class_likeliood_diff_sampling       0.491159  17.0\n",
       "f4_sampling                         0.491837  16.0\n",
       "tree_depth_unpruned_sampling        0.518447  15.0\n",
       "ls_radius_sampling                  0.526542  14.0\n",
       "borderline_points_sampling          0.536080  13.0\n",
       "tree_depth_pruned_sampling          0.542016  12.0\n",
       "margin_sampling                     0.556822  11.0\n",
       "expected_error_reduction            0.572927  10.0\n",
       "k_disagreeing_neighbors_sampling    0.598068   9.0\n",
       "disjunct_class_percentage_sampling  0.614677   8.0\n",
       "minority_value_sampling             0.630385   6.5\n",
       "class_balance_sampling              0.630385   6.5\n",
       "local_set_cardinality_sampling      0.646426   5.0\n",
       "disjunct_size_sampling              0.681000   4.0\n",
       "f1_sampling                         0.687202   3.0\n",
       "intra_extra_ratio_sampling          0.698632   2.0\n",
       "random_sampling                     0.716166   1.0"
      ]
     },
     "execution_count": 83,
     "metadata": {},
     "output_type": "execute_result"
    }
   ],
   "source": [
    "result.loc[:, 100, 'banana'].sort_values(by='kappa')"
   ]
  },
  {
   "cell_type": "code",
   "execution_count": 60,
   "id": "c776c5d4-7d3e-48d2-be19-82ef6064403e",
   "metadata": {},
   "outputs": [
    {
     "data": {
      "text/plain": [
       "pandas.core.series.Series"
      ]
     },
     "execution_count": 60,
     "metadata": {},
     "output_type": "execute_result"
    }
   ],
   "source": [
    "type(result)"
   ]
  }
 ],
 "metadata": {
  "kernelspec": {
   "display_name": "Python 3 (ipykernel)",
   "language": "python",
   "name": "python3"
  },
  "language_info": {
   "codemirror_mode": {
    "name": "ipython",
    "version": 3
   },
   "file_extension": ".py",
   "mimetype": "text/x-python",
   "name": "python",
   "nbconvert_exporter": "python",
   "pygments_lexer": "ipython3",
   "version": "3.8.10"
  }
 },
 "nbformat": 4,
 "nbformat_minor": 5
}

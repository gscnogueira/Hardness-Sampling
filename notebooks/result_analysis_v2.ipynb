{
 "cells": [
  {
   "cell_type": "markdown",
   "id": "44f7f653-b750-4823-8d2c-9f240b4949cd",
   "metadata": {},
   "source": [
    "# Análise dos resultados (V2)"
   ]
  },
  {
   "cell_type": "code",
   "execution_count": 8,
   "id": "b59a3eac-0f83-4836-896e-6480caa2b745",
   "metadata": {},
   "outputs": [],
   "source": [
    "import os\n",
    "import pandas as pd\n",
    "import numpy as np\n",
    "import matplotlib.pyplot as plt\n",
    "import ipywidgets as w\n",
    "import colorcet as cc"
   ]
  },
  {
   "cell_type": "markdown",
   "id": "b01cd955-3ba6-43e6-a053-28ed5b2c7db1",
   "metadata": {},
   "source": [
    "Definições uteis para outras situações:"
   ]
  },
  {
   "cell_type": "code",
   "execution_count": 2,
   "id": "5ff5130d-fee7-4eea-a2b6-d9922f47c0e8",
   "metadata": {},
   "outputs": [],
   "source": [
    "%load_ext autoreload\n",
    "%autoreload 2\n",
    "from utils import RESULTS_V2_PATH, DATASET_LIST, ABREV_DICT\n",
    "import utils"
   ]
  },
  {
   "cell_type": "markdown",
   "id": "047aa14f-21df-414e-8926-aa27da24b5fd",
   "metadata": {},
   "source": [
    "## Coletando resultados"
   ]
  },
  {
   "cell_type": "code",
   "execution_count": 3,
   "id": "1ad3b55d-b83c-4945-b0e9-ce9c300d7bd7",
   "metadata": {},
   "outputs": [],
   "source": [
    "csv_files = !ls  $RESULTS_V2_PATH"
   ]
  },
  {
   "cell_type": "code",
   "execution_count": 4,
   "id": "5f4d0c85-8e05-4685-add5-fc2b4ae6a01e",
   "metadata": {},
   "outputs": [
    {
     "data": {
      "text/html": [
       "<div>\n",
       "<style scoped>\n",
       "    .dataframe tbody tr th:only-of-type {\n",
       "        vertical-align: middle;\n",
       "    }\n",
       "\n",
       "    .dataframe tbody tr th {\n",
       "        vertical-align: top;\n",
       "    }\n",
       "\n",
       "    .dataframe thead th {\n",
       "        text-align: right;\n",
       "    }\n",
       "</style>\n",
       "<table border=\"1\" class=\"dataframe\">\n",
       "  <thead>\n",
       "    <tr style=\"text-align: right;\">\n",
       "      <th></th>\n",
       "      <th>file</th>\n",
       "      <th>dataset</th>\n",
       "      <th>split</th>\n",
       "      <th>learner</th>\n",
       "      <th>method</th>\n",
       "    </tr>\n",
       "  </thead>\n",
       "  <tbody>\n",
       "    <tr>\n",
       "      <th>0</th>\n",
       "      <td>../results/v2/abalone-3class_1x5_5NN_borderlin...</td>\n",
       "      <td>abalone-3class</td>\n",
       "      <td>1x5</td>\n",
       "      <td>5NN</td>\n",
       "      <td>borderline_points_sampling.csv</td>\n",
       "    </tr>\n",
       "    <tr>\n",
       "      <th>1</th>\n",
       "      <td>../results/v2/abalone-3class_1x5_5NN_class_bal...</td>\n",
       "      <td>abalone-3class</td>\n",
       "      <td>1x5</td>\n",
       "      <td>5NN</td>\n",
       "      <td>class_balance_sampling.csv</td>\n",
       "    </tr>\n",
       "    <tr>\n",
       "      <th>2</th>\n",
       "      <td>../results/v2/abalone-3class_1x5_5NN_class_lik...</td>\n",
       "      <td>abalone-3class</td>\n",
       "      <td>1x5</td>\n",
       "      <td>5NN</td>\n",
       "      <td>class_likelihood_sampling.csv</td>\n",
       "    </tr>\n",
       "    <tr>\n",
       "      <th>3</th>\n",
       "      <td>../results/v2/abalone-3class_1x5_5NN_class_lik...</td>\n",
       "      <td>abalone-3class</td>\n",
       "      <td>1x5</td>\n",
       "      <td>5NN</td>\n",
       "      <td>class_likeliood_diff_sampling.csv</td>\n",
       "    </tr>\n",
       "    <tr>\n",
       "      <th>4</th>\n",
       "      <td>../results/v2/abalone-3class_1x5_5NN_density_w...</td>\n",
       "      <td>abalone-3class</td>\n",
       "      <td>1x5</td>\n",
       "      <td>5NN</td>\n",
       "      <td>density_weighted_sampling.csv</td>\n",
       "    </tr>\n",
       "  </tbody>\n",
       "</table>\n",
       "</div>"
      ],
      "text/plain": [
       "                                                file         dataset split  \\\n",
       "0  ../results/v2/abalone-3class_1x5_5NN_borderlin...  abalone-3class   1x5   \n",
       "1  ../results/v2/abalone-3class_1x5_5NN_class_bal...  abalone-3class   1x5   \n",
       "2  ../results/v2/abalone-3class_1x5_5NN_class_lik...  abalone-3class   1x5   \n",
       "3  ../results/v2/abalone-3class_1x5_5NN_class_lik...  abalone-3class   1x5   \n",
       "4  ../results/v2/abalone-3class_1x5_5NN_density_w...  abalone-3class   1x5   \n",
       "\n",
       "  learner                             method  \n",
       "0     5NN     borderline_points_sampling.csv  \n",
       "1     5NN         class_balance_sampling.csv  \n",
       "2     5NN      class_likelihood_sampling.csv  \n",
       "3     5NN  class_likeliood_diff_sampling.csv  \n",
       "4     5NN      density_weighted_sampling.csv  "
      ]
     },
     "execution_count": 4,
     "metadata": {},
     "output_type": "execute_result"
    }
   ],
   "source": [
    "def get_results_info(file_list: list) -> pd.DataFrame:\n",
    "    \n",
    "    results_info = pd.DataFrame(file_list, columns=[\"file\"])\n",
    "    results_info[[\"dataset\", \"split\", \"learner\", \"method\"]] = results_info.file.str.split(\"_\", n=3, expand=True)\n",
    "    results_info['file'] = results_info.file.map(lambda x: os.path.join(RESULTS_V2_PATH, x))\n",
    "    return results_info\n",
    "\n",
    "results_info = get_results_info(csv_files)\n",
    "results_info.head()"
   ]
  },
  {
   "cell_type": "markdown",
   "id": "2cf421d4-840a-4cc3-8857-435ba41c7814",
   "metadata": {},
   "source": [
    "## Análise de curvas de aprendizado"
   ]
  },
  {
   "cell_type": "code",
   "execution_count": 9,
   "id": "076491b7-7587-4fcf-a394-3ce1f615efbd",
   "metadata": {},
   "outputs": [],
   "source": [
    "n_methods = results_info.method.nunique()\n",
    "COLOR_LIST = cc.glasbey_dark[:n_methods]"
   ]
  },
  {
   "cell_type": "code",
   "execution_count": 22,
   "id": "607beb0c-95b4-441a-b393-94dd8173da61",
   "metadata": {},
   "outputs": [
    {
     "data": {
      "application/vnd.jupyter.widget-view+json": {
       "model_id": "d264ccd6565d43b7a139b754bd6366de",
       "version_major": 2,
       "version_minor": 0
      },
      "text/plain": [
       "interactive(children=(SelectionSlider(description='dataset', options=('abalone-3class', 'artificial-characters…"
      ]
     },
     "metadata": {},
     "output_type": "display_data"
    },
    {
     "data": {
      "text/plain": [
       "<function __main__.plot_learning_curve(dataset, learner)>"
      ]
     },
     "execution_count": 22,
     "metadata": {},
     "output_type": "execute_result"
    }
   ],
   "source": [
    "def plot_learning_curve(dataset, learner):\n",
    "    \n",
    "    fig, ax = plt.subplots(figsize=(10, 8))\n",
    "    ax.grid(True)\n",
    "    ax.set_ylim(-1,1)\n",
    "    ax.set_title(f\"Average learning curves for AL methods\")\n",
    "    \n",
    "    \n",
    "    result_files = results_info[(results_info.learner == learner) & (results_info.dataset == dataset)].file.tolist()\n",
    "\n",
    "    results_df = pd.concat(pd.read_csv(f) for f in result_files)\n",
    "\n",
    "    auc_dict = {}\n",
    "    for method, data in results_df.groupby(\"method\"):\n",
    "        avg_scores =  data.groupby(\"query\").kappa.mean()\n",
    "        auc = (np.trapz(avg_scores, avg_scores.index))\n",
    "        auc_dict[method] = auc\n",
    "\n",
    "    ranked_method_list = sorted(auc_dict.items(), key=lambda x: x[1],reverse=True)\n",
    "\n",
    "    i=0\n",
    "    for method, _ in ranked_method_list:\n",
    "        avg_curve = results_df[results_df.method == method].groupby(\"query\").kappa.mean()\n",
    "        ax.plot(avg_curve, utils.get_style(method), linewidth=0.5, color=COLOR_LIST[i], label=ABREV_DICT[method],\n",
    "            markevery=(0.3, 0.2))\n",
    "        i+=1\n",
    "        \n",
    "    ax.legend(loc='upper right', bbox_to_anchor=(1.2, 1.02), ncols=1, prop={'size': 12}, framealpha=1)\n",
    "\n",
    "w.interact(plot_learning_curve,\n",
    "          dataset=w.SelectionSlider(options=utils.DATASET_LIST),\n",
    "          learner=w.ToggleButtons(options=utils.ABREV_MODEL.keys(), value=\"SVC\"))"
   ]
  },
  {
   "cell_type": "markdown",
   "id": "57411a6e-651f-4d38-982f-d5023e792371",
   "metadata": {},
   "source": [
    "## Curvas de Ranking"
   ]
  },
  {
   "cell_type": "code",
   "execution_count": 95,
   "id": "db91ec3c-26c1-4ea0-a262-b606fe021e7f",
   "metadata": {},
   "outputs": [
    {
     "name": "stdout",
     "output_type": "stream",
     "text": [
      "(610499, 8)\n"
     ]
    },
    {
     "data": {
      "text/plain": [
       "method                        query  dataset                            \n",
       "borderline_points_sampling    0      abalone-3class                         0.159848\n",
       "                                     artificial-characters                  0.127924\n",
       "                                     autoUniv-au1-1000                     -0.000566\n",
       "                                     autoUniv-au6-cd1-400                   0.012923\n",
       "                                     autoUniv-au7-300-drift-au7-cpd1-800    0.035120\n",
       "                                                                              ...   \n",
       "tree_depth_unpruned_sampling  100    pendigits                              0.872866\n",
       "                                     phoneme                                0.368654\n",
       "                                     pima-indians-diabetes                  0.390204\n",
       "                                     qsar-biodegradation                    0.575453\n",
       "                                     ringnorm                               0.934013\n",
       "Length: 122782, dtype: float64"
      ]
     },
     "execution_count": 95,
     "metadata": {},
     "output_type": "execute_result"
    }
   ],
   "source": [
    "def plot_ranking_curves(learner):\n",
    "    df = pd.concat(pd.read_csv(f) for f in  results_info[(results_info.learner == learner)].file)\n",
    "\n",
    "    print(df.shape)\n",
    "    avg_ranks_df = df.groupby([\"method\", \"query\", \"dataset\"]).apply(lambda x: x.kappa.mean())\n",
    "\n",
    "    return avg_ranks_df\n",
    "\n",
    "    avg_ranks_df['rank'] = avg_ranks_df.groupby(\"query\").kappa.rank(ascending=False)\n",
    "    return avg_ranks_df\n",
    "\n",
    "result = plot_ranking_curves(\"SVC\")\n",
    "result\n",
    "# result[result['query'] == 1].sort_values(by=\"rank\")"
   ]
  }
 ],
 "metadata": {
  "kernelspec": {
   "display_name": "Python 3 (ipykernel)",
   "language": "python",
   "name": "python3"
  },
  "language_info": {
   "codemirror_mode": {
    "name": "ipython",
    "version": 3
   },
   "file_extension": ".py",
   "mimetype": "text/x-python",
   "name": "python",
   "nbconvert_exporter": "python",
   "pygments_lexer": "ipython3",
   "version": "3.8.19"
  }
 },
 "nbformat": 4,
 "nbformat_minor": 5
}

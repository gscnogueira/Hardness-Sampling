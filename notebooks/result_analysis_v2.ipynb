{
 "cells": [
  {
   "cell_type": "markdown",
   "id": "44f7f653-b750-4823-8d2c-9f240b4949cd",
   "metadata": {},
   "source": [
    "# Análise dos resultados (V2)"
   ]
  },
  {
   "cell_type": "code",
   "execution_count": 1,
   "id": "b59a3eac-0f83-4836-896e-6480caa2b745",
   "metadata": {},
   "outputs": [],
   "source": [
    "import os\n",
    "import pandas as pd\n",
    "import numpy as np\n",
    "import matplotlib.pyplot as plt\n",
    "import ipywidgets as w\n",
    "import colorcet as cc"
   ]
  },
  {
   "cell_type": "markdown",
   "id": "b01cd955-3ba6-43e6-a053-28ed5b2c7db1",
   "metadata": {},
   "source": [
    "Definições uteis para outras situações:"
   ]
  },
  {
   "cell_type": "code",
   "execution_count": 83,
   "id": "5ff5130d-fee7-4eea-a2b6-d9922f47c0e8",
   "metadata": {},
   "outputs": [
    {
     "name": "stdout",
     "output_type": "stream",
     "text": [
      "The autoreload extension is already loaded. To reload it, use:\n",
      "  %reload_ext autoreload\n"
     ]
    }
   ],
   "source": [
    "%load_ext autoreload\n",
    "%autoreload 2\n",
    "from utils import RESULTS_V2_PATH, DATASET_LIST, ABREV_DICT\n",
    "import utils"
   ]
  },
  {
   "cell_type": "markdown",
   "id": "047aa14f-21df-414e-8926-aa27da24b5fd",
   "metadata": {},
   "source": [
    "## Coletando resultados"
   ]
  },
  {
   "cell_type": "code",
   "execution_count": 3,
   "id": "1ad3b55d-b83c-4945-b0e9-ce9c300d7bd7",
   "metadata": {},
   "outputs": [],
   "source": [
    "csv_files = !ls  $RESULTS_V2_PATH"
   ]
  },
  {
   "cell_type": "code",
   "execution_count": 4,
   "id": "5f4d0c85-8e05-4685-add5-fc2b4ae6a01e",
   "metadata": {},
   "outputs": [
    {
     "data": {
      "text/html": [
       "<div>\n",
       "<style scoped>\n",
       "    .dataframe tbody tr th:only-of-type {\n",
       "        vertical-align: middle;\n",
       "    }\n",
       "\n",
       "    .dataframe tbody tr th {\n",
       "        vertical-align: top;\n",
       "    }\n",
       "\n",
       "    .dataframe thead th {\n",
       "        text-align: right;\n",
       "    }\n",
       "</style>\n",
       "<table border=\"1\" class=\"dataframe\">\n",
       "  <thead>\n",
       "    <tr style=\"text-align: right;\">\n",
       "      <th></th>\n",
       "      <th>file</th>\n",
       "      <th>dataset</th>\n",
       "      <th>split</th>\n",
       "      <th>learner</th>\n",
       "      <th>method</th>\n",
       "    </tr>\n",
       "  </thead>\n",
       "  <tbody>\n",
       "    <tr>\n",
       "      <th>0</th>\n",
       "      <td>../results/v2/abalone-3class_1x5_5NN_borderlin...</td>\n",
       "      <td>abalone-3class</td>\n",
       "      <td>1x5</td>\n",
       "      <td>5NN</td>\n",
       "      <td>borderline_points_sampling</td>\n",
       "    </tr>\n",
       "    <tr>\n",
       "      <th>1</th>\n",
       "      <td>../results/v2/abalone-3class_1x5_5NN_class_bal...</td>\n",
       "      <td>abalone-3class</td>\n",
       "      <td>1x5</td>\n",
       "      <td>5NN</td>\n",
       "      <td>class_balance_sampling</td>\n",
       "    </tr>\n",
       "    <tr>\n",
       "      <th>2</th>\n",
       "      <td>../results/v2/abalone-3class_1x5_5NN_class_lik...</td>\n",
       "      <td>abalone-3class</td>\n",
       "      <td>1x5</td>\n",
       "      <td>5NN</td>\n",
       "      <td>class_likelihood_sampling</td>\n",
       "    </tr>\n",
       "    <tr>\n",
       "      <th>3</th>\n",
       "      <td>../results/v2/abalone-3class_1x5_5NN_class_lik...</td>\n",
       "      <td>abalone-3class</td>\n",
       "      <td>1x5</td>\n",
       "      <td>5NN</td>\n",
       "      <td>class_likeliood_diff_sampling</td>\n",
       "    </tr>\n",
       "    <tr>\n",
       "      <th>4</th>\n",
       "      <td>../results/v2/abalone-3class_1x5_5NN_density_w...</td>\n",
       "      <td>abalone-3class</td>\n",
       "      <td>1x5</td>\n",
       "      <td>5NN</td>\n",
       "      <td>density_weighted_sampling</td>\n",
       "    </tr>\n",
       "  </tbody>\n",
       "</table>\n",
       "</div>"
      ],
      "text/plain": [
       "                                                file         dataset split  \\\n",
       "0  ../results/v2/abalone-3class_1x5_5NN_borderlin...  abalone-3class   1x5   \n",
       "1  ../results/v2/abalone-3class_1x5_5NN_class_bal...  abalone-3class   1x5   \n",
       "2  ../results/v2/abalone-3class_1x5_5NN_class_lik...  abalone-3class   1x5   \n",
       "3  ../results/v2/abalone-3class_1x5_5NN_class_lik...  abalone-3class   1x5   \n",
       "4  ../results/v2/abalone-3class_1x5_5NN_density_w...  abalone-3class   1x5   \n",
       "\n",
       "  learner                         method  \n",
       "0     5NN     borderline_points_sampling  \n",
       "1     5NN         class_balance_sampling  \n",
       "2     5NN      class_likelihood_sampling  \n",
       "3     5NN  class_likeliood_diff_sampling  \n",
       "4     5NN      density_weighted_sampling  "
      ]
     },
     "execution_count": 4,
     "metadata": {},
     "output_type": "execute_result"
    }
   ],
   "source": [
    "def get_results_info(file_list: list) -> pd.DataFrame:\n",
    "    \n",
    "    results_info = pd.DataFrame(file_list, columns=[\"file\"])\n",
    "    results_info[[\"dataset\", \"split\", \"learner\", \"method\"]] = results_info.file.str.split(\"_\", n=3, expand=True)\n",
    "    results_info['file'] = results_info.file.map(lambda x: os.path.join(RESULTS_V2_PATH, x))\n",
    "    results_info['method'] = results_info.method.apply(lambda x: x.split('.')[0])\n",
    "    \n",
    "    return results_info\n",
    "\n",
    "results_info = get_results_info(csv_files)\n",
    "results_info.head()"
   ]
  },
  {
   "cell_type": "markdown",
   "id": "2cf421d4-840a-4cc3-8857-435ba41c7814",
   "metadata": {},
   "source": [
    "## Análise de curvas de aprendizado"
   ]
  },
  {
   "cell_type": "code",
   "execution_count": 78,
   "id": "a0a9e586-bda5-4527-a272-d0929f3e9a84",
   "metadata": {},
   "outputs": [],
   "source": [
    "import seaborn as sns\n",
    "\n",
    "n_methods = results_info.method.nunique()\n",
    "color_list = sns.color_palette(cc.glasbey_dark ,n_colors=n_methods)\n",
    "COLOR_DICT = dict(zip(results_info.method.unique().tolist(), color_list))\n",
    "COLOR_DICT[\"random_sampling\"] = \"firebrick\""
   ]
  },
  {
   "cell_type": "code",
   "execution_count": 100,
   "id": "607beb0c-95b4-441a-b393-94dd8173da61",
   "metadata": {},
   "outputs": [
    {
     "data": {
      "application/vnd.jupyter.widget-view+json": {
       "model_id": "081454b2547a4cc086212d9c2d03af4e",
       "version_major": 2,
       "version_minor": 0
      },
      "text/plain": [
       "interactive(children=(SelectionSlider(description='dataset', options=('abalone-3class', 'artificial-characters…"
      ]
     },
     "metadata": {},
     "output_type": "display_data"
    },
    {
     "data": {
      "text/plain": [
       "<function __main__.plot_learning_curve(dataset, learner)>"
      ]
     },
     "execution_count": 100,
     "metadata": {},
     "output_type": "execute_result"
    }
   ],
   "source": [
    "def plot_learning_curve(dataset, learner):\n",
    "    \n",
    "    fig, ax = plt.subplots()\n",
    "    ax.grid(True)\n",
    "    ax.set_ylim(-1,1)\n",
    "    ax.set_title(f\"Average learning curves for AL methods\")\n",
    "    \n",
    "    \n",
    "    result_files = results_info[(results_info.learner == learner) & (results_info.dataset == dataset)].file.tolist()\n",
    "\n",
    "    results_df = pd.concat(pd.read_csv(f) for f in result_files)\n",
    "\n",
    "    auc_dict = {}\n",
    "    for method, data in results_df.groupby(\"method\"):\n",
    "        avg_scores =  data.groupby(\"query\").kappa.mean()\n",
    "        auc = (np.trapz(avg_scores, avg_scores.index))\n",
    "        auc_dict[method] = auc\n",
    "\n",
    "    ranked_method_list = sorted(auc_dict.items(), key=lambda x: x[1],reverse=True)\n",
    "\n",
    "    i=0\n",
    "    for method, _ in ranked_method_list:\n",
    "        avg_curve = results_df[results_df.method == method].groupby(\"query\").kappa.mean()\n",
    "        ax.plot(avg_curve.rolling(window=5, min_periods=1).mean(),\n",
    "                utils.get_style(method), linewidth=0.5, color=COLOR_DICT[method], label=ABREV_DICT[method],\n",
    "            markevery=(0.3, 0.2))\n",
    "        i+=1\n",
    "        \n",
    "    ax.legend(loc='upper right', bbox_to_anchor=(1.2, 1.02), ncols=1, prop={'size':8}, framealpha=1)\n",
    "\n",
    "w.interact(plot_learning_curve,\n",
    "          dataset=w.SelectionSlider(options=utils.DATASET_LIST),\n",
    "          learner=w.ToggleButtons(options=utils.ABREV_MODEL.keys(), value=\"SVC\"))"
   ]
  },
  {
   "cell_type": "markdown",
   "id": "60b7082d-376e-429e-8a03-5706530eba99",
   "metadata": {},
   "source": [
    "## Coleta Resultados"
   ]
  },
  {
   "cell_type": "code",
   "execution_count": 132,
   "id": "fda36d31-6d9d-48a7-8944-bcfad9d132e5",
   "metadata": {},
   "outputs": [],
   "source": [
    "def get_results_df(results_info) -> pd.DataFrame:\n",
    "    df = pd.concat(pd.read_csv(f) for f in  results_info.file)\n",
    "    \n",
    "    return df\n",
    "    "
   ]
  },
  {
   "cell_type": "code",
   "execution_count": 133,
   "id": "3653e21a-3dd8-4a27-a09c-0e903ae65f71",
   "metadata": {},
   "outputs": [],
   "source": [
    "results_df = get_results_df(results_info)"
   ]
  },
  {
   "cell_type": "code",
   "execution_count": 136,
   "id": "d8df0bdf-69bd-4ea5-a212-808ce6976814",
   "metadata": {},
   "outputs": [
    {
     "data": {
      "text/html": [
       "<div>\n",
       "<style scoped>\n",
       "    .dataframe tbody tr th:only-of-type {\n",
       "        vertical-align: middle;\n",
       "    }\n",
       "\n",
       "    .dataframe tbody tr th {\n",
       "        vertical-align: top;\n",
       "    }\n",
       "\n",
       "    .dataframe thead th {\n",
       "        text-align: right;\n",
       "    }\n",
       "</style>\n",
       "<table border=\"1\" class=\"dataframe\">\n",
       "  <thead>\n",
       "    <tr style=\"text-align: right;\">\n",
       "      <th></th>\n",
       "      <th>time</th>\n",
       "      <th>dataset</th>\n",
       "      <th>classifier</th>\n",
       "      <th>method</th>\n",
       "      <th>run</th>\n",
       "      <th>fold</th>\n",
       "      <th>query</th>\n",
       "      <th>kappa</th>\n",
       "    </tr>\n",
       "  </thead>\n",
       "  <tbody>\n",
       "    <tr>\n",
       "      <th>0</th>\n",
       "      <td>2025-03-23 18:41:24.629248</td>\n",
       "      <td>abalone-3class</td>\n",
       "      <td>5NN</td>\n",
       "      <td>borderline_points_sampling</td>\n",
       "      <td>0</td>\n",
       "      <td>0</td>\n",
       "      <td>0</td>\n",
       "      <td>0.000000</td>\n",
       "    </tr>\n",
       "    <tr>\n",
       "      <th>1</th>\n",
       "      <td>2025-03-23 18:41:29.325717</td>\n",
       "      <td>abalone-3class</td>\n",
       "      <td>5NN</td>\n",
       "      <td>borderline_points_sampling</td>\n",
       "      <td>0</td>\n",
       "      <td>0</td>\n",
       "      <td>1</td>\n",
       "      <td>0.231167</td>\n",
       "    </tr>\n",
       "    <tr>\n",
       "      <th>2</th>\n",
       "      <td>2025-03-23 18:41:34.087002</td>\n",
       "      <td>abalone-3class</td>\n",
       "      <td>5NN</td>\n",
       "      <td>borderline_points_sampling</td>\n",
       "      <td>0</td>\n",
       "      <td>0</td>\n",
       "      <td>2</td>\n",
       "      <td>0.314495</td>\n",
       "    </tr>\n",
       "    <tr>\n",
       "      <th>3</th>\n",
       "      <td>2025-03-23 18:41:38.828586</td>\n",
       "      <td>abalone-3class</td>\n",
       "      <td>5NN</td>\n",
       "      <td>borderline_points_sampling</td>\n",
       "      <td>0</td>\n",
       "      <td>0</td>\n",
       "      <td>3</td>\n",
       "      <td>0.249614</td>\n",
       "    </tr>\n",
       "    <tr>\n",
       "      <th>4</th>\n",
       "      <td>2025-03-23 18:41:43.579852</td>\n",
       "      <td>abalone-3class</td>\n",
       "      <td>5NN</td>\n",
       "      <td>borderline_points_sampling</td>\n",
       "      <td>0</td>\n",
       "      <td>0</td>\n",
       "      <td>4</td>\n",
       "      <td>0.212956</td>\n",
       "    </tr>\n",
       "  </tbody>\n",
       "</table>\n",
       "</div>"
      ],
      "text/plain": [
       "                         time         dataset classifier  \\\n",
       "0  2025-03-23 18:41:24.629248  abalone-3class        5NN   \n",
       "1  2025-03-23 18:41:29.325717  abalone-3class        5NN   \n",
       "2  2025-03-23 18:41:34.087002  abalone-3class        5NN   \n",
       "3  2025-03-23 18:41:38.828586  abalone-3class        5NN   \n",
       "4  2025-03-23 18:41:43.579852  abalone-3class        5NN   \n",
       "\n",
       "                       method  run  fold  query     kappa  \n",
       "0  borderline_points_sampling    0     0      0  0.000000  \n",
       "1  borderline_points_sampling    0     0      1  0.231167  \n",
       "2  borderline_points_sampling    0     0      2  0.314495  \n",
       "3  borderline_points_sampling    0     0      3  0.249614  \n",
       "4  borderline_points_sampling    0     0      4  0.212956  "
      ]
     },
     "execution_count": 136,
     "metadata": {},
     "output_type": "execute_result"
    }
   ],
   "source": [
    "results_df.head()"
   ]
  },
  {
   "cell_type": "markdown",
   "id": "35addefe-57c5-4aa8-b7b9-fb158f3d62e4",
   "metadata": {},
   "source": [
    "## Plotando Resuldados"
   ]
  },
  {
   "cell_type": "markdown",
   "id": "f0d3876b-f7e6-4583-bf29-cffc9d146510",
   "metadata": {},
   "source": [
    "### Ranking Curves"
   ]
  },
  {
   "cell_type": "code",
   "execution_count": 145,
   "id": "db91ec3c-26c1-4ea0-a262-b606fe021e7f",
   "metadata": {},
   "outputs": [],
   "source": [
    "def get_avg_ranks(results_df) -> pd.DataFrame:\n",
    "    # Afere o kappa médio para cada query registrada\n",
    "    avg_kappa = results_df.groupby([\"classifier\",\"method\", \"query\", \"dataset\"]).apply(lambda x: x.kappa.mean())\n",
    "\n",
    "    # Afere o rank de cada método para cada dataset\n",
    "    ranks_df = avg_kappa.to_frame(name=\"kappa\")\n",
    "    ranks_df['rank'] = ranks_df.groupby([\"query\", \"dataset\"]).kappa.rank(ascending=False)\n",
    "\n",
    "    # Calcula rank médio por query para cada \n",
    "    avg_ranks = ranks_df.groupby([\"classifier\", \"method\", \"query\"])[\"rank\"].mean()\n",
    "    return avg_ranks\n"
   ]
  },
  {
   "cell_type": "code",
   "execution_count": 146,
   "id": "fb7dd8d7-c2e6-4ac6-bf4a-57bd8fdfa384",
   "metadata": {},
   "outputs": [],
   "source": [
    "avg_ranks_df = get_avg_ranks(results_df)"
   ]
  },
  {
   "cell_type": "code",
   "execution_count": 193,
   "id": "cfb5bf1b-85e0-46a4-ae28-4f397714e65d",
   "metadata": {},
   "outputs": [
    {
     "data": {
      "application/vnd.jupyter.widget-view+json": {
       "model_id": "914a41edeb3e43348318179e30d20d36",
       "version_major": 2,
       "version_minor": 0
      },
      "text/plain": [
       "interactive(children=(ToggleButtons(description='Leaner:', options=('GaussianNB', 'SVC', 'DecisionTree', '5NN'…"
      ]
     },
     "metadata": {},
     "output_type": "display_data"
    },
    {
     "data": {
      "text/plain": [
       "<function __main__.plot_learning_curves(avg_ranks_df, classifier)>"
      ]
     },
     "execution_count": 193,
     "metadata": {},
     "output_type": "execute_result"
    }
   ],
   "source": [
    "def plot_learning_curves(avg_ranks_df, classifier):\n",
    "    fig, ax = plt.subplots()\n",
    "    ax.grid(True)\n",
    "    \n",
    "    # Calcula rank médio por query para cada \n",
    "    clf_ranks = avg_ranks_df.loc[classifier]\n",
    "    for method, data in clf_ranks.groupby(\"method\"):\n",
    "\n",
    "        # aplica média móvel nos dados:\n",
    "        # smoothed_data = data.rolling(window=5, min_periods=1).mean()\n",
    "        smoothed_data = data\n",
    "        \n",
    "        ax.plot(smoothed_data.values, utils.get_style(method),\n",
    "                label=ABREV_DICT.get(method), color=COLOR_DICT[method], markevery=(0.3, 0.2),\n",
    "                linewidth=(0.5 if utils.get_hm_type(method) != 'Classic' else 1.5) )\n",
    "    \n",
    "    ax.legend(loc='upper right', bbox_to_anchor=(1.2, 1.02), ncols=1, prop={'size': 8}, framealpha=1)\n",
    "    ax.invert_yaxis()\n",
    "\n",
    "w.interact(plot_learning_curves,\n",
    "           avg_ranks_df=w.fixed(avg_ranks_df),\n",
    "           classifier=w.ToggleButtons(options=utils.ABREV_MODEL.keys(), description=\"Leaner:\"))\n"
   ]
  },
  {
   "cell_type": "markdown",
   "id": "f6b50b71-23bf-4f45-a629-88fb2b8682e0",
   "metadata": {},
   "source": [
    "## Group Bands"
   ]
  },
  {
   "cell_type": "code",
   "execution_count": null,
   "id": "3ff51b34-9310-447c-a575-e91678eb5cfd",
   "metadata": {},
   "outputs": [],
   "source": [
    "def plot_group_bands(avg_ranks):\n",
    "    df = avg_ranks.reset_index()\n",
    "    df['group'] = df.method.apply(utils.get_hm_type)\n",
    "\n",
    "    fig, ax = plt.subplots()\n",
    "    df_clf = df[df.classifier==\"SVC\"]\n",
    "\n",
    "    for group, data in df_clf.groupby([\"group\"]):\n",
    "\n",
    "        min_ranks = data.groupby(\"query\")[\"rank\"].min()\n",
    "        max_ranks = data.groupby(\"query\")[\"rank\"].max()\n",
    "        ax.fill_between(np.arange(len(min_ranks)), min_ranks, max_ranks, alpha=0.3)\n",
    "\n",
    "\n",
    "plot_group_bands(avg_ranks_df)"
   ]
  },
  {
   "cell_type": "code",
   "execution_count": 210,
   "id": "31cd5af1-dd81-4a5d-ae30-5fc2180eb7d5",
   "metadata": {},
   "outputs": [],
   "source": [
    "mean_kappa = results_df.groupby([\"classifier\", \"method\", \"dataset\", \"query\"]).kappa.mean()"
   ]
  },
  {
   "cell_type": "code",
   "execution_count": 223,
   "id": "d9f5ec8e-759a-430f-8c52-57890209a266",
   "metadata": {},
   "outputs": [],
   "source": [
    "ranks_data = mean_kappa.groupby([\"classifier\",  \"dataset\", \"query\"]).rank(ascending=False)"
   ]
  },
  {
   "cell_type": "code",
   "execution_count": 249,
   "id": "ac480512-9bc2-4c79-a5d7-26b030bb9832",
   "metadata": {},
   "outputs": [
    {
     "data": {
      "text/plain": [
       "query\n",
       "0      0.031483\n",
       "1      0.014254\n",
       "2      0.023462\n",
       "3      0.047551\n",
       "4      0.043539\n",
       "         ...   \n",
       "96     0.301779\n",
       "97     0.290296\n",
       "98     0.307134\n",
       "99     0.306423\n",
       "100    0.307134\n",
       "Name: kappa, Length: 101, dtype: float64"
      ]
     },
     "execution_count": 249,
     "metadata": {},
     "output_type": "execute_result"
    }
   ],
   "source": [
    "mean_kappa.loc[\"DecisionTree\", \"class_balance_sampling\", \"banana\"]"
   ]
  },
  {
   "cell_type": "code",
   "execution_count": 250,
   "id": "65ebd88f-761f-4a07-9b99-f695ae9434e6",
   "metadata": {},
   "outputs": [
    {
     "data": {
      "text/plain": [
       "query\n",
       "0       2.0\n",
       "1      21.5\n",
       "2      20.5\n",
       "3      15.5\n",
       "4      17.5\n",
       "       ... \n",
       "96     18.0\n",
       "97     19.0\n",
       "98     17.0\n",
       "99     17.0\n",
       "100    17.0\n",
       "Name: kappa, Length: 101, dtype: float64"
      ]
     },
     "execution_count": 250,
     "metadata": {},
     "output_type": "execute_result"
    }
   ],
   "source": [
    "ranks_data.loc[\"DecisionTree\", \"class_balance_sampling\", \"banana\"]"
   ]
  },
  {
   "cell_type": "code",
   "execution_count": 244,
   "id": "342bd62e-910c-4c13-a415-e781f7ce051b",
   "metadata": {},
   "outputs": [],
   "source": [
    "comparisson = (mean_kappa.loc[:, \"minority_value_sampling\", :] == mean_kappa.loc[:, \"class_balance_sampling\", :])"
   ]
  },
  {
   "cell_type": "code",
   "execution_count": 248,
   "id": "e55a1b60-9b54-4238-be33-7712675c2cbc",
   "metadata": {},
   "outputs": [
    {
     "data": {
      "text/plain": [
       "array(['DecisionTree'], dtype=object)"
      ]
     },
     "execution_count": 248,
     "metadata": {},
     "output_type": "execute_result"
    }
   ],
   "source": [
    "comparisson[comparisson==False].reset_index().classifier.unique()"
   ]
  },
  {
   "cell_type": "code",
   "execution_count": 191,
   "id": "07dd7434-8b36-4515-86f2-0f62c892b45d",
   "metadata": {},
   "outputs": [
    {
     "data": {
      "text/plain": [
       "query\n",
       "0      34.750000\n",
       "1      38.411111\n",
       "2      38.122222\n",
       "3      42.444444\n",
       "4      42.022222\n",
       "         ...    \n",
       "96     46.183333\n",
       "97     46.266667\n",
       "98     46.194444\n",
       "99     46.250000\n",
       "100    46.294444\n",
       "Name: rank, Length: 101, dtype: float64"
      ]
     },
     "execution_count": 191,
     "metadata": {},
     "output_type": "execute_result"
    }
   ],
   "source": [
    "avg_ranks_df.loc[\"SVC\", \"minority_value_sampling\"]"
   ]
  }
 ],
 "metadata": {
  "kernelspec": {
   "display_name": "Python 3 (ipykernel)",
   "language": "python",
   "name": "python3"
  },
  "language_info": {
   "codemirror_mode": {
    "name": "ipython",
    "version": 3
   },
   "file_extension": ".py",
   "mimetype": "text/x-python",
   "name": "python",
   "nbconvert_exporter": "python",
   "pygments_lexer": "ipython3",
   "version": "3.8.19"
  }
 },
 "nbformat": 4,
 "nbformat_minor": 5
}

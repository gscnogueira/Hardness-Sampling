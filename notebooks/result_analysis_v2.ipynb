{
 "cells": [
  {
   "cell_type": "markdown",
   "id": "2695f29f-4876-4864-919f-59ccbcc6a9d1",
   "metadata": {},
   "source": [
    "# Análise dos resultados (V2)"
   ]
  },
  {
   "cell_type": "markdown",
   "id": "e6e95d74-ac55-4019-b953-25feb7218613",
   "metadata": {},
   "source": [
    "## Importação de módulos"
   ]
  },
  {
   "cell_type": "code",
   "execution_count": 2,
   "id": "e29113fc-e33d-46df-a920-d7b153ebb279",
   "metadata": {},
   "outputs": [],
   "source": [
    "!pip install -q scikit_posthocs"
   ]
  },
  {
   "cell_type": "code",
   "execution_count": 3,
   "id": "b59a3eac-0f83-4836-896e-6480caa2b745",
   "metadata": {},
   "outputs": [],
   "source": [
    "import os\n",
    "import pandas as pd\n",
    "import numpy as np\n",
    "import matplotlib.pyplot as plt\n",
    "import ipywidgets as w\n",
    "import colorcet as cc\n",
    "import seaborn as sns\n",
    "from scipy import stats\n",
    "import scikit_posthocs as sp"
   ]
  },
  {
   "cell_type": "markdown",
   "id": "b01cd955-3ba6-43e6-a053-28ed5b2c7db1",
   "metadata": {},
   "source": [
    "O módulo `utils.py` contém definições a respeito das configurações dos experimentos:"
   ]
  },
  {
   "cell_type": "code",
   "execution_count": 4,
   "id": "5ff5130d-fee7-4eea-a2b6-d9922f47c0e8",
   "metadata": {},
   "outputs": [],
   "source": [
    "%load_ext autoreload\n",
    "%autoreload 2\n",
    "import utils"
   ]
  },
  {
   "cell_type": "markdown",
   "id": "047aa14f-21df-414e-8926-aa27da24b5fd",
   "metadata": {},
   "source": [
    "## Coletando resultados"
   ]
  },
  {
   "cell_type": "markdown",
   "id": "3e482ab0-03a9-44ee-8a11-4221c1838de1",
   "metadata": {},
   "source": [
    "Primeiramente, é necessário coletar os resultados obtidos com os experimentos.\n",
    "Atualmente, eles estão quase terminados, faltando apenas algumas execuções do SVM+EER para alguns datasets."
   ]
  },
  {
   "cell_type": "code",
   "execution_count": 5,
   "id": "096a50a8-fdb1-4150-8e6f-cb3c0c64f87b",
   "metadata": {
    "jupyter": {
     "source_hidden": true
    }
   },
   "outputs": [],
   "source": [
    "def get_results_info(file_list: list) -> pd.DataFrame:\n",
    "    \n",
    "    results_info = pd.DataFrame(file_list, columns=[\"file\"])\n",
    "    results_info[[\"dataset\", \"split\", \"learner\", \"method\"]] = results_info.file.str.split(\"_\", n=3, expand=True)\n",
    "    results_info['file'] = results_info.file.map(lambda x: os.path.join(utils.RESULTS_V2_PATH, x))\n",
    "    results_info['method'] = results_info.method.apply(lambda x: x.split('.')[0])\n",
    "    \n",
    "    return results_info"
   ]
  },
  {
   "cell_type": "code",
   "execution_count": 6,
   "id": "fda36d31-6d9d-48a7-8944-bcfad9d132e5",
   "metadata": {
    "jupyter": {
     "source_hidden": true
    }
   },
   "outputs": [],
   "source": [
    "def get_results_df(results_info) -> pd.DataFrame:\n",
    "    df = pd.concat(pd.read_csv(f) for f in  results_info.file)\n",
    "    \n",
    "    return df\n",
    "    "
   ]
  },
  {
   "cell_type": "markdown",
   "id": "ac51a35b-e9d4-4e2d-86bc-45fe038d56c2",
   "metadata": {},
   "source": [
    "Os resultados estão localizados no diretório `RESULTS_V2_PATH`, importado no módulo `utils.py`"
   ]
  },
  {
   "cell_type": "code",
   "execution_count": 7,
   "id": "1ad3b55d-b83c-4945-b0e9-ce9c300d7bd7",
   "metadata": {},
   "outputs": [],
   "source": [
    "csv_files = !ls  $utils.RESULTS_V2_PATH"
   ]
  },
  {
   "cell_type": "markdown",
   "id": "d49c141a-421b-4908-808c-72eb8bb9d428",
   "metadata": {},
   "source": [
    "Agora podemos pegar as informações a respeito de cada uma das configurações:"
   ]
  },
  {
   "cell_type": "code",
   "execution_count": 8,
   "id": "10227c6a-677b-4e63-913c-8cdbffcf0f62",
   "metadata": {},
   "outputs": [
    {
     "data": {
      "text/html": [
       "<div>\n",
       "<style scoped>\n",
       "    .dataframe tbody tr th:only-of-type {\n",
       "        vertical-align: middle;\n",
       "    }\n",
       "\n",
       "    .dataframe tbody tr th {\n",
       "        vertical-align: top;\n",
       "    }\n",
       "\n",
       "    .dataframe thead th {\n",
       "        text-align: right;\n",
       "    }\n",
       "</style>\n",
       "<table border=\"1\" class=\"dataframe\">\n",
       "  <thead>\n",
       "    <tr style=\"text-align: right;\">\n",
       "      <th></th>\n",
       "      <th>file</th>\n",
       "      <th>dataset</th>\n",
       "      <th>split</th>\n",
       "      <th>learner</th>\n",
       "      <th>method</th>\n",
       "    </tr>\n",
       "  </thead>\n",
       "  <tbody>\n",
       "    <tr>\n",
       "      <th>0</th>\n",
       "      <td>../results/v2/abalone-3class_1x5_5NN_borderlin...</td>\n",
       "      <td>abalone-3class</td>\n",
       "      <td>1x5</td>\n",
       "      <td>5NN</td>\n",
       "      <td>borderline_points_sampling</td>\n",
       "    </tr>\n",
       "    <tr>\n",
       "      <th>1</th>\n",
       "      <td>../results/v2/abalone-3class_1x5_5NN_class_bal...</td>\n",
       "      <td>abalone-3class</td>\n",
       "      <td>1x5</td>\n",
       "      <td>5NN</td>\n",
       "      <td>class_balance_sampling</td>\n",
       "    </tr>\n",
       "    <tr>\n",
       "      <th>2</th>\n",
       "      <td>../results/v2/abalone-3class_1x5_5NN_class_lik...</td>\n",
       "      <td>abalone-3class</td>\n",
       "      <td>1x5</td>\n",
       "      <td>5NN</td>\n",
       "      <td>class_likelihood_sampling</td>\n",
       "    </tr>\n",
       "    <tr>\n",
       "      <th>3</th>\n",
       "      <td>../results/v2/abalone-3class_1x5_5NN_class_lik...</td>\n",
       "      <td>abalone-3class</td>\n",
       "      <td>1x5</td>\n",
       "      <td>5NN</td>\n",
       "      <td>class_likeliood_diff_sampling</td>\n",
       "    </tr>\n",
       "    <tr>\n",
       "      <th>4</th>\n",
       "      <td>../results/v2/abalone-3class_1x5_5NN_density_w...</td>\n",
       "      <td>abalone-3class</td>\n",
       "      <td>1x5</td>\n",
       "      <td>5NN</td>\n",
       "      <td>density_weighted_sampling</td>\n",
       "    </tr>\n",
       "  </tbody>\n",
       "</table>\n",
       "</div>"
      ],
      "text/plain": [
       "                                                file         dataset split  \\\n",
       "0  ../results/v2/abalone-3class_1x5_5NN_borderlin...  abalone-3class   1x5   \n",
       "1  ../results/v2/abalone-3class_1x5_5NN_class_bal...  abalone-3class   1x5   \n",
       "2  ../results/v2/abalone-3class_1x5_5NN_class_lik...  abalone-3class   1x5   \n",
       "3  ../results/v2/abalone-3class_1x5_5NN_class_lik...  abalone-3class   1x5   \n",
       "4  ../results/v2/abalone-3class_1x5_5NN_density_w...  abalone-3class   1x5   \n",
       "\n",
       "  learner                         method  \n",
       "0     5NN     borderline_points_sampling  \n",
       "1     5NN         class_balance_sampling  \n",
       "2     5NN      class_likelihood_sampling  \n",
       "3     5NN  class_likeliood_diff_sampling  \n",
       "4     5NN      density_weighted_sampling  "
      ]
     },
     "execution_count": 8,
     "metadata": {},
     "output_type": "execute_result"
    }
   ],
   "source": [
    "results_info = get_results_info(csv_files)\n",
    "results_info.head()"
   ]
  },
  {
   "cell_type": "markdown",
   "id": "2f4c811c-c718-4725-9b29-c21feeaf9519",
   "metadata": {},
   "source": [
    "Agora podemos agregar todos os resultados em um único `DataFrame`"
   ]
  },
  {
   "cell_type": "code",
   "execution_count": 9,
   "id": "3653e21a-3dd8-4a27-a09c-0e903ae65f71",
   "metadata": {},
   "outputs": [
    {
     "name": "stdout",
     "output_type": "stream",
     "text": [
      "CPU times: user 18.3 s, sys: 1.52 s, total: 19.9 s\n",
      "Wall time: 26.9 s\n"
     ]
    }
   ],
   "source": [
    "%%time\n",
    "results_df = get_results_df(results_info)"
   ]
  },
  {
   "cell_type": "code",
   "execution_count": 10,
   "id": "d8df0bdf-69bd-4ea5-a212-808ce6976814",
   "metadata": {},
   "outputs": [
    {
     "data": {
      "text/html": [
       "<div>\n",
       "<style scoped>\n",
       "    .dataframe tbody tr th:only-of-type {\n",
       "        vertical-align: middle;\n",
       "    }\n",
       "\n",
       "    .dataframe tbody tr th {\n",
       "        vertical-align: top;\n",
       "    }\n",
       "\n",
       "    .dataframe thead th {\n",
       "        text-align: right;\n",
       "    }\n",
       "</style>\n",
       "<table border=\"1\" class=\"dataframe\">\n",
       "  <thead>\n",
       "    <tr style=\"text-align: right;\">\n",
       "      <th></th>\n",
       "      <th>time</th>\n",
       "      <th>dataset</th>\n",
       "      <th>classifier</th>\n",
       "      <th>method</th>\n",
       "      <th>run</th>\n",
       "      <th>fold</th>\n",
       "      <th>query</th>\n",
       "      <th>kappa</th>\n",
       "    </tr>\n",
       "  </thead>\n",
       "  <tbody>\n",
       "    <tr>\n",
       "      <th>0</th>\n",
       "      <td>2025-03-23 18:41:24.629248</td>\n",
       "      <td>abalone-3class</td>\n",
       "      <td>5NN</td>\n",
       "      <td>borderline_points_sampling</td>\n",
       "      <td>0</td>\n",
       "      <td>0</td>\n",
       "      <td>0</td>\n",
       "      <td>0.000000</td>\n",
       "    </tr>\n",
       "    <tr>\n",
       "      <th>1</th>\n",
       "      <td>2025-03-23 18:41:29.325717</td>\n",
       "      <td>abalone-3class</td>\n",
       "      <td>5NN</td>\n",
       "      <td>borderline_points_sampling</td>\n",
       "      <td>0</td>\n",
       "      <td>0</td>\n",
       "      <td>1</td>\n",
       "      <td>0.231167</td>\n",
       "    </tr>\n",
       "    <tr>\n",
       "      <th>2</th>\n",
       "      <td>2025-03-23 18:41:34.087002</td>\n",
       "      <td>abalone-3class</td>\n",
       "      <td>5NN</td>\n",
       "      <td>borderline_points_sampling</td>\n",
       "      <td>0</td>\n",
       "      <td>0</td>\n",
       "      <td>2</td>\n",
       "      <td>0.314495</td>\n",
       "    </tr>\n",
       "    <tr>\n",
       "      <th>3</th>\n",
       "      <td>2025-03-23 18:41:38.828586</td>\n",
       "      <td>abalone-3class</td>\n",
       "      <td>5NN</td>\n",
       "      <td>borderline_points_sampling</td>\n",
       "      <td>0</td>\n",
       "      <td>0</td>\n",
       "      <td>3</td>\n",
       "      <td>0.249614</td>\n",
       "    </tr>\n",
       "    <tr>\n",
       "      <th>4</th>\n",
       "      <td>2025-03-23 18:41:43.579852</td>\n",
       "      <td>abalone-3class</td>\n",
       "      <td>5NN</td>\n",
       "      <td>borderline_points_sampling</td>\n",
       "      <td>0</td>\n",
       "      <td>0</td>\n",
       "      <td>4</td>\n",
       "      <td>0.212956</td>\n",
       "    </tr>\n",
       "  </tbody>\n",
       "</table>\n",
       "</div>"
      ],
      "text/plain": [
       "                         time         dataset classifier  \\\n",
       "0  2025-03-23 18:41:24.629248  abalone-3class        5NN   \n",
       "1  2025-03-23 18:41:29.325717  abalone-3class        5NN   \n",
       "2  2025-03-23 18:41:34.087002  abalone-3class        5NN   \n",
       "3  2025-03-23 18:41:38.828586  abalone-3class        5NN   \n",
       "4  2025-03-23 18:41:43.579852  abalone-3class        5NN   \n",
       "\n",
       "                       method  run  fold  query     kappa  \n",
       "0  borderline_points_sampling    0     0      0  0.000000  \n",
       "1  borderline_points_sampling    0     0      1  0.231167  \n",
       "2  borderline_points_sampling    0     0      2  0.314495  \n",
       "3  borderline_points_sampling    0     0      3  0.249614  \n",
       "4  borderline_points_sampling    0     0      4  0.212956  "
      ]
     },
     "execution_count": 10,
     "metadata": {},
     "output_type": "execute_result"
    }
   ],
   "source": [
    "results_df.head()"
   ]
  },
  {
   "cell_type": "markdown",
   "id": "2cf421d4-840a-4cc3-8857-435ba41c7814",
   "metadata": {},
   "source": [
    "## Análise de curvas de aprendizado"
   ]
  },
  {
   "cell_type": "markdown",
   "id": "de0c1308-ecb9-4e3b-8128-21da0233491b",
   "metadata": {},
   "source": [
    "Aqui vamos analisar comos os métodos de aprendizado ativo se comportaram para cada par `(learner, dataset)`"
   ]
  },
  {
   "cell_type": "code",
   "execution_count": 11,
   "id": "a0a9e586-bda5-4527-a272-d0929f3e9a84",
   "metadata": {},
   "outputs": [],
   "source": [
    "# Definindo as cores para os plots:\n",
    "n_methods = results_info.method.nunique()\n",
    "color_list = sns.color_palette(cc.glasbey_dark ,n_colors=n_methods)\n",
    "COLOR_DICT = dict(zip(results_info.method.unique().tolist(), color_list))\n",
    "COLOR_DICT[\"random_sampling\"] = \"firebrick\""
   ]
  },
  {
   "cell_type": "code",
   "execution_count": 12,
   "id": "e9765d07-1e77-4a4a-87f2-7277549fa638",
   "metadata": {
    "jupyter": {
     "source_hidden": true
    }
   },
   "outputs": [],
   "source": [
    "def plot_learning_curve(dataset, learner):\n",
    "\n",
    "    plt.close()\n",
    "    fig, ax = plt.subplots()\n",
    "    ax.grid(True)\n",
    "    ax.set_ylim(-1,1)\n",
    "    ax.set_title(f\"Average learning curves for AL methods\")\n",
    "    \n",
    "    \n",
    "    result_files = results_info[(results_info.learner == learner) & (results_info.dataset == dataset)].file.tolist()\n",
    "\n",
    "    results_df = pd.concat(pd.read_csv(f) for f in result_files)\n",
    "\n",
    "    auc_dict = {}\n",
    "    for method, data in results_df.groupby(\"method\"):\n",
    "        avg_scores =  data.groupby(\"query\").kappa.mean()\n",
    "        auc = (np.trapz(avg_scores, avg_scores.index))\n",
    "        auc_dict[method] = auc\n",
    "\n",
    "    ranked_method_list = sorted(auc_dict.items(), key=lambda x: x[1],reverse=True)\n",
    "\n",
    "    i=0\n",
    "    for method, _ in ranked_method_list:\n",
    "        avg_curve = results_df[results_df.method == method].groupby(\"query\").kappa.mean()\n",
    "        ax.plot(avg_curve.rolling(window=5, min_periods=1).mean(),\n",
    "                utils.get_style(method), linewidth=0.5, color=COLOR_DICT[method], label=utils.ABREV_DICT[method],\n",
    "            markevery=(0.3, 0.2))\n",
    "        i+=1\n",
    "        \n",
    "    ax.legend(loc='upper right', bbox_to_anchor=(1.2, 1.02), ncols=1, prop={'size':8}, framealpha=1)"
   ]
  },
  {
   "cell_type": "code",
   "execution_count": 13,
   "id": "cd2a194a-974a-4b3d-be85-fed95bfd16e9",
   "metadata": {},
   "outputs": [
    {
     "data": {
      "application/vnd.jupyter.widget-view+json": {
       "model_id": "363d43b846f74e55a9ea6e9311bb01b7",
       "version_major": 2,
       "version_minor": 0
      },
      "text/plain": [
       "interactive(children=(SelectionSlider(description='dataset', options=('abalone-3class', 'artificial-characters…"
      ]
     },
     "metadata": {},
     "output_type": "display_data"
    },
    {
     "data": {
      "text/plain": [
       "<function __main__.plot_learning_curve(dataset, learner)>"
      ]
     },
     "execution_count": 13,
     "metadata": {},
     "output_type": "execute_result"
    }
   ],
   "source": [
    "w.interact(plot_learning_curve,\n",
    "          dataset=w.SelectionSlider(options=utils.DATASET_LIST),\n",
    "          learner=w.ToggleButtons(options=utils.ABREV_MODEL.keys(), value=\"SVC\"))"
   ]
  },
  {
   "cell_type": "markdown",
   "id": "35addefe-57c5-4aa8-b7b9-fb158f3d62e4",
   "metadata": {},
   "source": [
    "## Curvas de Ranking"
   ]
  },
  {
   "cell_type": "markdown",
   "id": "f0d3876b-f7e6-4583-bf29-cffc9d146510",
   "metadata": {},
   "source": [
    "Primeiro, é necessário calcular o rank de cada query:"
   ]
  },
  {
   "cell_type": "code",
   "execution_count": 14,
   "id": "db91ec3c-26c1-4ea0-a262-b606fe021e7f",
   "metadata": {
    "jupyter": {
     "source_hidden": true
    }
   },
   "outputs": [],
   "source": [
    "def get_avg_ranks(results_df) -> pd.DataFrame:\n",
    "    # Afere o kappa médio para cada query registrada\n",
    "    avg_kappa = results_df.groupby([\"classifier\",\"method\", \"query\", \"dataset\"]).kappa.mean()\n",
    "\n",
    "    # Afere o rank de cada método para cada dataset\n",
    "    ranks_df = avg_kappa.to_frame(name=\"kappa\")\n",
    "    ranks_df['rank'] = ranks_df.groupby([\"query\", \"dataset\"]).kappa.rank(ascending=False)\n",
    "\n",
    "    # Calcula rank médio por query para cada \n",
    "    avg_ranks = ranks_df.groupby([\"classifier\", \"method\", \"query\"])[\"rank\"].mean()\n",
    "    return avg_ranks\n"
   ]
  },
  {
   "cell_type": "code",
   "execution_count": 15,
   "id": "fb7dd8d7-c2e6-4ac6-bf4a-57bd8fdfa384",
   "metadata": {},
   "outputs": [],
   "source": [
    "avg_ranks_df = get_avg_ranks(results_df)"
   ]
  },
  {
   "cell_type": "markdown",
   "id": "af138989-60e1-459f-909a-bf7238034824",
   "metadata": {},
   "source": [
    "Em seguida, é possível plotar as curvas:"
   ]
  },
  {
   "cell_type": "markdown",
   "id": "ae269d91-25b1-4ba4-bdd6-e28b39e454f1",
   "metadata": {},
   "source": [
    "### Curvas de Ranking com Bands"
   ]
  },
  {
   "cell_type": "code",
   "execution_count": 16,
   "id": "4f8b2c2b-08a3-4747-a5f6-6bde1fadf0ee",
   "metadata": {
    "jupyter": {
     "source_hidden": true
    }
   },
   "outputs": [],
   "source": [
    "def plot_ranking_curves_with_bands(avg_ranks):\n",
    "\n",
    "    fig, ax = plt.subplots()\n",
    "    ax.set_title(\"Ranking Curves with Bands\")\n",
    "    ax.set_ylabel(\"Avg. Rank\")\n",
    "    ax.set_xlabel(\"Queries\")\n",
    "    ax.invert_yaxis()\n",
    "    ax.grid(True)\n",
    "    \n",
    "    smoothed_ranks =  avg_ranks.groupby([\"classifier\",\"method\"]).transform( lambda x: x.rolling(window=5, min_periods=1).mean())\n",
    "\n",
    "    auc_data = smoothed_ranks.groupby([\"classifier\", \"method\"]).apply(np.trapz)\n",
    "\n",
    "    for clf, data in smoothed_ranks.groupby(\"classifier\"):\n",
    "        worst = auc_data[clf].idxmax()\n",
    "        best  = auc_data[clf].idxmin()\n",
    "        \n",
    "        upper_limmit = smoothed_ranks[clf].groupby(\"query\").max()\n",
    "        lower_limmit = smoothed_ranks[clf].groupby(\"query\").min()\n",
    "\n",
    "        \n",
    "        \n",
    "        p = ax.plot(smoothed_ranks[clf, best], utils.get_style(best),\n",
    "                    label=(utils.ABREV_MODEL[clf], utils.ABREV_DICT[best]),\n",
    "                    linewidth=0.5,\n",
    "                    markevery=(0.3,0.2))\n",
    "        color = p[0].get_color()\n",
    "        \n",
    "        ax.plot(smoothed_ranks[clf, worst], utils.get_style(worst),\n",
    "                label=(utils.ABREV_MODEL[clf], utils.ABREV_DICT[worst]), color=color,\n",
    "                linewidth=0.5,\n",
    "                markevery=(0.3,0.2))\n",
    "        \n",
    "        ax.fill_between(np.arange(101), upper_limmit, lower_limmit, color=color, alpha=0.3)\n",
    "\n",
    "    ax.legend(loc=\"upper right\",bbox_to_anchor=(1.23,.70),ncol=1, prop={'size': 8}, framealpha=1)\n",
    "\n",
    "    return "
   ]
  },
  {
   "cell_type": "code",
   "execution_count": 17,
   "id": "49e9b3d2-cb8f-4f16-91a6-e6b90c26d8cb",
   "metadata": {},
   "outputs": [
    {
     "data": {
      "image/png": "[encoded data removed]",
      "text/plain": [
       "<Figure size 640x480 with 1 Axes>"
      ]
     },
     "metadata": {},
     "output_type": "display_data"
    }
   ],
   "source": [
    "plot_ranking_curves_with_bands(avg_ranks_df)"
   ]
  },
  {
   "cell_type": "markdown",
   "id": "3ed26d82-07c1-40a6-a65e-518c706f860e",
   "metadata": {},
   "source": [
    "### Analisando Bandas"
   ]
  },
  {
   "cell_type": "code",
   "execution_count": 18,
   "id": "a30297c3-c7bd-42a1-b01f-31544b2738ec",
   "metadata": {
    "jupyter": {
     "source_hidden": true
    }
   },
   "outputs": [],
   "source": [
    "def plot_learning_curves(avg_ranks_df, classifier):\n",
    "\n",
    "    fig, ax = plt.subplots(figsize=(6,5))\n",
    "    ax.grid(True)\n",
    "    ax.invert_yaxis()\n",
    "    ax.set_title(classifier)\n",
    "    ax.set_xlabel(\"Queries\")\n",
    "    ax.set_ylabel(\"Avg. Ranks\")\n",
    "    \n",
    "\n",
    "    # Calcula rank médio por query para cada \n",
    "    clf_ranks = avg_ranks_df.loc[classifier]\n",
    "    auc_scores = {}\n",
    "    for method, data in clf_ranks.groupby(\"method\", sort=False):\n",
    "\n",
    "        # aplica média móvel nos dados:\n",
    "        smoothed_data = data.rolling(window=5, min_periods=1).mean()\n",
    "\n",
    "        auc_scores[utils.ABREV_DICT[method]] = np.trapz(smoothed_data)\n",
    "        \n",
    "        ax.plot(smoothed_data.values, utils.get_style(method),\n",
    "                label=utils.ABREV_DICT.get(method), color=COLOR_DICT[method], markevery=(0.3, 0.2),\n",
    "                linewidth=(0.5 if utils.get_hm_type(method) != 'Classic' else 1.5) )\n",
    "        \n",
    "    handles, labels = plt.gca().get_legend_handles_labels()\n",
    "    label_to_handle = {l: h for l, h in zip(labels, handles)}\n",
    "\n",
    "    sorted_labels = sorted(auc_scores, key=auc_scores.get)\n",
    "    plt.legend([label_to_handle[label] for label in sorted_labels],\n",
    "               sorted_labels,\n",
    "               loc='upper right', bbox_to_anchor=(1.2, 1.02), ncols=1, prop={'size': 8}, framealpha=1)\n",
    "\n",
    "    plt.show()"
   ]
  },
  {
   "cell_type": "code",
   "execution_count": 19,
   "id": "3e461d77-6d16-430e-b0f3-7f9e1ea66285",
   "metadata": {},
   "outputs": [
    {
     "data": {
      "application/vnd.jupyter.widget-view+json": {
       "model_id": "4180054178d4425091c3d2d6eeada226",
       "version_major": 2,
       "version_minor": 0
      },
      "text/plain": [
       "interactive(children=(ToggleButtons(description='Leaner:', options=('GaussianNB', 'SVC', 'DecisionTree', '5NN'…"
      ]
     },
     "metadata": {},
     "output_type": "display_data"
    },
    {
     "data": {
      "text/plain": [
       "<function __main__.plot_learning_curves(avg_ranks_df, classifier)>"
      ]
     },
     "execution_count": 19,
     "metadata": {},
     "output_type": "execute_result"
    }
   ],
   "source": [
    "w.interact(plot_learning_curves,\n",
    "           avg_ranks_df=w.fixed(avg_ranks_df),\n",
    "           classifier=w.ToggleButtons(options=utils.ABREV_MODEL.keys(), description=\"Leaner:\"))"
   ]
  },
  {
   "cell_type": "markdown",
   "id": "f6b50b71-23bf-4f45-a629-88fb2b8682e0",
   "metadata": {},
   "source": [
    "### Compartamento de grupo de medidas por banda"
   ]
  },
  {
   "cell_type": "code",
   "execution_count": 20,
   "id": "9b5daaf3-77a5-41be-8329-5ff24ce8113e",
   "metadata": {
    "jupyter": {
     "source_hidden": true
    }
   },
   "outputs": [],
   "source": [
    "def plot_group_bands(avg_ranks, ax, title=None):\n",
    "\n",
    "    ax.set_title(title)\n",
    "    ax.invert_yaxis()\n",
    "    ax.grid(True)\n",
    "    \n",
    "    smoothed_ranks =  avg_ranks.groupby(\"method\").transform( lambda x: x.rolling(window=5, min_periods=1).mean())\n",
    "    \n",
    "    df = smoothed_ranks.reset_index()\n",
    "    df['group'] = df.method.apply(utils.get_hm_type)\n",
    "    \n",
    "    color_list = sns.color_palette(cc.glasbey_dark, n_colors=df['group'].nunique())\n",
    "    i=0\n",
    "    \n",
    "    for group, data in df.groupby(\"group\"):\n",
    "\n",
    "        color = color_list[i]\n",
    "        i+=1\n",
    "        \n",
    "        if group == 'Classic':\n",
    "                \n",
    "            continue\n",
    "            \n",
    "\n",
    "        min_ranks = data.groupby(\"query\")[\"rank\"].min()\n",
    "        max_ranks = data.groupby(\"query\")[\"rank\"].max()\n",
    "        \n",
    "        ax.plot(max_ranks, color=color)\n",
    "        ax.plot(min_ranks, color=color)\n",
    "        ax.fill_between(np.arange(len(min_ranks)), min_ranks, max_ranks,\n",
    "                        alpha=0.3,color=color, label=group,\n",
    "                        hatch=utils.get_hm_hatch(group))\n",
    "\n",
    "    for method, scores in df[df['group'] == 'Classic'].groupby(\"method\", sort=False):\n",
    "            ax.plot(scores[\"rank\"].values, ':', linewidth=1,\n",
    "                    label=utils.ABREV_DICT[method], color=COLOR_DICT[method])\n",
    "       "
   ]
  },
  {
   "cell_type": "code",
   "execution_count": 21,
   "id": "17f296f3-98ee-408a-80ac-da180fc36669",
   "metadata": {},
   "outputs": [
    {
     "data": {
      "text/plain": [
       "<matplotlib.legend.Legend at 0x7db8cfabeac0>"
      ]
     },
     "execution_count": 21,
     "metadata": {},
     "output_type": "execute_result"
    },
    {
     "data": {
      "image/png": "[encoded data removed]",
      "text/plain": [
       "<Figure size 640x480 with 4 Axes>"
      ]
     },
     "metadata": {},
     "output_type": "display_data"
    }
   ],
   "source": [
    "fig, axs = plt.subplots(2, 2)\n",
    "for ax, clf in zip(axs.flatten(), sorted(utils.ABREV_MODEL.keys())):\n",
    "    plot_group_bands(avg_ranks_df[clf], ax, title=utils.ABREV_MODEL[clf])\n",
    "fig.tight_layout()\n",
    "plt.legend(loc=\"lower center\",bbox_to_anchor=(-0.15,-0.5),ncol=5, prop={'size': 8})"
   ]
  },
  {
   "cell_type": "markdown",
   "id": "50970995-e427-4add-b83a-d3dc79e860b1",
   "metadata": {},
   "source": [
    "# Analisando desempenho por AULC"
   ]
  },
  {
   "cell_type": "markdown",
   "id": "a2d62aa9-7cc6-42ba-bd49-12be6f265609",
   "metadata": {},
   "source": [
    "Instalação de módulo para ajudar com as análises de ranks"
   ]
  },
  {
   "cell_type": "code",
   "execution_count": 22,
   "id": "adf882da-e1fa-46d1-81ce-d13114059d17",
   "metadata": {},
   "outputs": [],
   "source": [
    "!pip install -q autorank"
   ]
  },
  {
   "cell_type": "code",
   "execution_count": 23,
   "id": "d0bed18c-69d7-453a-bd05-255997584c8d",
   "metadata": {},
   "outputs": [],
   "source": [
    "from autorank import autorank"
   ]
  },
  {
   "cell_type": "markdown",
   "id": "a3097846-4dcd-468a-8de9-ce9510febecc",
   "metadata": {},
   "source": [
    "Calcula a área embaixo da curva de aprendizado média para cada tupla `(classifier, dataset, method)`:"
   ]
  },
  {
   "cell_type": "code",
   "execution_count": 24,
   "id": "5870dd73-7cd0-4160-9c9d-68c5b01b2d9e",
   "metadata": {
    "scrolled": true
   },
   "outputs": [],
   "source": [
    "auc_scores = results_df.groupby([\"classifier\", \"dataset\", \"method\", \"fold\"]).kappa.apply(np.trapz).groupby([\"classifier\", \"dataset\", \"method\"]).mean()\n",
    "auc_df = auc_scores.to_frame(name=\"AULC\").reset_index().pivot(index=[\"classifier\",\"dataset\" ], columns=\"method\", values=\"AULC\")\n",
    "auc_df = auc_df.unstack(level='classifier')"
   ]
  },
  {
   "cell_type": "code",
   "execution_count": 25,
   "id": "c268bc86-5ac2-425c-bf08-1da40673c101",
   "metadata": {
    "scrolled": true
   },
   "outputs": [
    {
     "data": {
      "text/html": [
       "<div>\n",
       "<style scoped>\n",
       "    .dataframe tbody tr th:only-of-type {\n",
       "        vertical-align: middle;\n",
       "    }\n",
       "\n",
       "    .dataframe tbody tr th {\n",
       "        vertical-align: top;\n",
       "    }\n",
       "\n",
       "    .dataframe thead tr th {\n",
       "        text-align: left;\n",
       "    }\n",
       "\n",
       "    .dataframe thead tr:last-of-type th {\n",
       "        text-align: right;\n",
       "    }\n",
       "</style>\n",
       "<table border=\"1\" class=\"dataframe\">\n",
       "  <thead>\n",
       "    <tr>\n",
       "      <th>method</th>\n",
       "      <th colspan=\"4\" halign=\"left\">borderline_points_sampling</th>\n",
       "      <th colspan=\"4\" halign=\"left\">class_balance_sampling</th>\n",
       "      <th colspan=\"2\" halign=\"left\">class_likelihood_sampling</th>\n",
       "      <th>...</th>\n",
       "      <th colspan=\"2\" halign=\"left\">training_utility_sampling</th>\n",
       "      <th colspan=\"4\" halign=\"left\">tree_depth_pruned_sampling</th>\n",
       "      <th colspan=\"4\" halign=\"left\">tree_depth_unpruned_sampling</th>\n",
       "    </tr>\n",
       "    <tr>\n",
       "      <th>classifier</th>\n",
       "      <th>5NN</th>\n",
       "      <th>DecisionTree</th>\n",
       "      <th>GaussianNB</th>\n",
       "      <th>SVC</th>\n",
       "      <th>5NN</th>\n",
       "      <th>DecisionTree</th>\n",
       "      <th>GaussianNB</th>\n",
       "      <th>SVC</th>\n",
       "      <th>5NN</th>\n",
       "      <th>DecisionTree</th>\n",
       "      <th>...</th>\n",
       "      <th>GaussianNB</th>\n",
       "      <th>SVC</th>\n",
       "      <th>5NN</th>\n",
       "      <th>DecisionTree</th>\n",
       "      <th>GaussianNB</th>\n",
       "      <th>SVC</th>\n",
       "      <th>5NN</th>\n",
       "      <th>DecisionTree</th>\n",
       "      <th>GaussianNB</th>\n",
       "      <th>SVC</th>\n",
       "    </tr>\n",
       "    <tr>\n",
       "      <th>dataset</th>\n",
       "      <th></th>\n",
       "      <th></th>\n",
       "      <th></th>\n",
       "      <th></th>\n",
       "      <th></th>\n",
       "      <th></th>\n",
       "      <th></th>\n",
       "      <th></th>\n",
       "      <th></th>\n",
       "      <th></th>\n",
       "      <th></th>\n",
       "      <th></th>\n",
       "      <th></th>\n",
       "      <th></th>\n",
       "      <th></th>\n",
       "      <th></th>\n",
       "      <th></th>\n",
       "      <th></th>\n",
       "      <th></th>\n",
       "      <th></th>\n",
       "      <th></th>\n",
       "    </tr>\n",
       "  </thead>\n",
       "  <tbody>\n",
       "    <tr>\n",
       "      <th>abalone-3class</th>\n",
       "      <td>24.258985</td>\n",
       "      <td>26.373291</td>\n",
       "      <td>17.803102</td>\n",
       "      <td>25.541937</td>\n",
       "      <td>29.379646</td>\n",
       "      <td>22.419141</td>\n",
       "      <td>22.278977</td>\n",
       "      <td>31.449529</td>\n",
       "      <td>30.967617</td>\n",
       "      <td>28.139462</td>\n",
       "      <td>...</td>\n",
       "      <td>32.908472</td>\n",
       "      <td>29.991250</td>\n",
       "      <td>29.750749</td>\n",
       "      <td>25.622270</td>\n",
       "      <td>22.025002</td>\n",
       "      <td>23.742355</td>\n",
       "      <td>28.896015</td>\n",
       "      <td>26.320979</td>\n",
       "      <td>21.337477</td>\n",
       "      <td>28.233720</td>\n",
       "    </tr>\n",
       "    <tr>\n",
       "      <th>artificial-characters</th>\n",
       "      <td>2.883733</td>\n",
       "      <td>7.591667</td>\n",
       "      <td>2.709635</td>\n",
       "      <td>10.337590</td>\n",
       "      <td>6.599016</td>\n",
       "      <td>11.153378</td>\n",
       "      <td>2.015584</td>\n",
       "      <td>11.526686</td>\n",
       "      <td>15.036733</td>\n",
       "      <td>14.679780</td>\n",
       "      <td>...</td>\n",
       "      <td>15.308543</td>\n",
       "      <td>7.446542</td>\n",
       "      <td>7.625162</td>\n",
       "      <td>9.363161</td>\n",
       "      <td>5.933404</td>\n",
       "      <td>8.463455</td>\n",
       "      <td>13.333308</td>\n",
       "      <td>9.705345</td>\n",
       "      <td>10.076744</td>\n",
       "      <td>11.029360</td>\n",
       "    </tr>\n",
       "    <tr>\n",
       "      <th>autoUniv-au1-1000</th>\n",
       "      <td>2.675763</td>\n",
       "      <td>2.860910</td>\n",
       "      <td>6.933568</td>\n",
       "      <td>1.417851</td>\n",
       "      <td>3.037247</td>\n",
       "      <td>3.989961</td>\n",
       "      <td>0.407613</td>\n",
       "      <td>1.454447</td>\n",
       "      <td>4.450783</td>\n",
       "      <td>2.617469</td>\n",
       "      <td>...</td>\n",
       "      <td>10.005404</td>\n",
       "      <td>5.482177</td>\n",
       "      <td>4.787784</td>\n",
       "      <td>2.594577</td>\n",
       "      <td>5.582720</td>\n",
       "      <td>1.551854</td>\n",
       "      <td>6.737213</td>\n",
       "      <td>3.764585</td>\n",
       "      <td>4.576239</td>\n",
       "      <td>2.643633</td>\n",
       "    </tr>\n",
       "    <tr>\n",
       "      <th>autoUniv-au6-cd1-400</th>\n",
       "      <td>-0.470320</td>\n",
       "      <td>2.604652</td>\n",
       "      <td>0.123423</td>\n",
       "      <td>0.082194</td>\n",
       "      <td>1.348907</td>\n",
       "      <td>0.400419</td>\n",
       "      <td>0.729663</td>\n",
       "      <td>-0.307662</td>\n",
       "      <td>0.272161</td>\n",
       "      <td>1.554567</td>\n",
       "      <td>...</td>\n",
       "      <td>1.816423</td>\n",
       "      <td>-0.815914</td>\n",
       "      <td>0.825041</td>\n",
       "      <td>1.828291</td>\n",
       "      <td>1.120791</td>\n",
       "      <td>-0.270531</td>\n",
       "      <td>0.507076</td>\n",
       "      <td>1.891233</td>\n",
       "      <td>-0.113976</td>\n",
       "      <td>0.896967</td>\n",
       "    </tr>\n",
       "    <tr>\n",
       "      <th>autoUniv-au7-300-drift-au7-cpd1-800</th>\n",
       "      <td>2.099538</td>\n",
       "      <td>2.944098</td>\n",
       "      <td>4.305482</td>\n",
       "      <td>2.822024</td>\n",
       "      <td>4.325931</td>\n",
       "      <td>3.359209</td>\n",
       "      <td>1.741325</td>\n",
       "      <td>2.787096</td>\n",
       "      <td>4.525581</td>\n",
       "      <td>3.771641</td>\n",
       "      <td>...</td>\n",
       "      <td>6.325060</td>\n",
       "      <td>2.810963</td>\n",
       "      <td>2.384747</td>\n",
       "      <td>3.396899</td>\n",
       "      <td>2.901089</td>\n",
       "      <td>1.852704</td>\n",
       "      <td>5.566215</td>\n",
       "      <td>3.954218</td>\n",
       "      <td>4.901222</td>\n",
       "      <td>4.061572</td>\n",
       "    </tr>\n",
       "  </tbody>\n",
       "</table>\n",
       "<p>5 rows × 92 columns</p>\n",
       "</div>"
      ],
      "text/plain": [
       "method                              borderline_points_sampling               \\\n",
       "classifier                                                 5NN DecisionTree   \n",
       "dataset                                                                       \n",
       "abalone-3class                                       24.258985    26.373291   \n",
       "artificial-characters                                 2.883733     7.591667   \n",
       "autoUniv-au1-1000                                     2.675763     2.860910   \n",
       "autoUniv-au6-cd1-400                                 -0.470320     2.604652   \n",
       "autoUniv-au7-300-drift-au7-cpd1-800                   2.099538     2.944098   \n",
       "\n",
       "method                                                     \\\n",
       "classifier                          GaussianNB        SVC   \n",
       "dataset                                                     \n",
       "abalone-3class                       17.803102  25.541937   \n",
       "artificial-characters                 2.709635  10.337590   \n",
       "autoUniv-au1-1000                     6.933568   1.417851   \n",
       "autoUniv-au6-cd1-400                  0.123423   0.082194   \n",
       "autoUniv-au7-300-drift-au7-cpd1-800   4.305482   2.822024   \n",
       "\n",
       "method                              class_balance_sampling               \\\n",
       "classifier                                             5NN DecisionTree   \n",
       "dataset                                                                   \n",
       "abalone-3class                                   29.379646    22.419141   \n",
       "artificial-characters                             6.599016    11.153378   \n",
       "autoUniv-au1-1000                                 3.037247     3.989961   \n",
       "autoUniv-au6-cd1-400                              1.348907     0.400419   \n",
       "autoUniv-au7-300-drift-au7-cpd1-800               4.325931     3.359209   \n",
       "\n",
       "method                                                     \\\n",
       "classifier                          GaussianNB        SVC   \n",
       "dataset                                                     \n",
       "abalone-3class                       22.278977  31.449529   \n",
       "artificial-characters                 2.015584  11.526686   \n",
       "autoUniv-au1-1000                     0.407613   1.454447   \n",
       "autoUniv-au6-cd1-400                  0.729663  -0.307662   \n",
       "autoUniv-au7-300-drift-au7-cpd1-800   1.741325   2.787096   \n",
       "\n",
       "method                              class_likelihood_sampling               \\\n",
       "classifier                                                5NN DecisionTree   \n",
       "dataset                                                                      \n",
       "abalone-3class                                      30.967617    28.139462   \n",
       "artificial-characters                               15.036733    14.679780   \n",
       "autoUniv-au1-1000                                    4.450783     2.617469   \n",
       "autoUniv-au6-cd1-400                                 0.272161     1.554567   \n",
       "autoUniv-au7-300-drift-au7-cpd1-800                  4.525581     3.771641   \n",
       "\n",
       "method                               ... training_utility_sampling             \\\n",
       "classifier                           ...                GaussianNB        SVC   \n",
       "dataset                              ...                                        \n",
       "abalone-3class                       ...                 32.908472  29.991250   \n",
       "artificial-characters                ...                 15.308543   7.446542   \n",
       "autoUniv-au1-1000                    ...                 10.005404   5.482177   \n",
       "autoUniv-au6-cd1-400                 ...                  1.816423  -0.815914   \n",
       "autoUniv-au7-300-drift-au7-cpd1-800  ...                  6.325060   2.810963   \n",
       "\n",
       "method                              tree_depth_pruned_sampling               \\\n",
       "classifier                                                 5NN DecisionTree   \n",
       "dataset                                                                       \n",
       "abalone-3class                                       29.750749    25.622270   \n",
       "artificial-characters                                 7.625162     9.363161   \n",
       "autoUniv-au1-1000                                     4.787784     2.594577   \n",
       "autoUniv-au6-cd1-400                                  0.825041     1.828291   \n",
       "autoUniv-au7-300-drift-au7-cpd1-800                   2.384747     3.396899   \n",
       "\n",
       "method                                                     \\\n",
       "classifier                          GaussianNB        SVC   \n",
       "dataset                                                     \n",
       "abalone-3class                       22.025002  23.742355   \n",
       "artificial-characters                 5.933404   8.463455   \n",
       "autoUniv-au1-1000                     5.582720   1.551854   \n",
       "autoUniv-au6-cd1-400                  1.120791  -0.270531   \n",
       "autoUniv-au7-300-drift-au7-cpd1-800   2.901089   1.852704   \n",
       "\n",
       "method                              tree_depth_unpruned_sampling               \\\n",
       "classifier                                                   5NN DecisionTree   \n",
       "dataset                                                                         \n",
       "abalone-3class                                         28.896015    26.320979   \n",
       "artificial-characters                                  13.333308     9.705345   \n",
       "autoUniv-au1-1000                                       6.737213     3.764585   \n",
       "autoUniv-au6-cd1-400                                    0.507076     1.891233   \n",
       "autoUniv-au7-300-drift-au7-cpd1-800                     5.566215     3.954218   \n",
       "\n",
       "method                                                     \n",
       "classifier                          GaussianNB        SVC  \n",
       "dataset                                                    \n",
       "abalone-3class                       21.337477  28.233720  \n",
       "artificial-characters                10.076744  11.029360  \n",
       "autoUniv-au1-1000                     4.576239   2.643633  \n",
       "autoUniv-au6-cd1-400                 -0.113976   0.896967  \n",
       "autoUniv-au7-300-drift-au7-cpd1-800   4.901222   4.061572  \n",
       "\n",
       "[5 rows x 92 columns]"
      ]
     },
     "execution_count": 25,
     "metadata": {},
     "output_type": "execute_result"
    }
   ],
   "source": [
    "auc_df.head()"
   ]
  },
  {
   "cell_type": "markdown",
   "id": "73d30f71-331c-4b2b-9709-b247189aaab5",
   "metadata": {},
   "source": [
    "### Teste de Friedman\n",
    "\n",
    "Aqui será utilizado o Teste de Friedman para responder as seguintes perguntas:\n",
    "1. Existe alguma diferença estatistica nos resultados apresentados por todos os pares `(método, algoritmo)` nos conjuntos de dados?\n",
    "2. Dado um algoritmo fixo $a$, a tecnica de aprendizado ativo que foi utilizada nos experimentos, fez alguma diferença estatísitca?"
   ]
  },
  {
   "cell_type": "code",
   "execution_count": 26,
   "id": "d1ea10e2-a823-4563-9c2f-57647cd26344",
   "metadata": {
    "jupyter": {
     "source_hidden": true
    }
   },
   "outputs": [],
   "source": [
    "def apply_friedman_tests(observations :pd.DataFrame, alpha=.05) -> pd.DataFrame:\n",
    "    \n",
    "    N, M = observations.shape\n",
    "\n",
    "    observation_list = [observation for _, observation in observations.items()]\n",
    "    chisquare_result = stats.friedmanchisquare(*observation_list)\n",
    "    chi_stat = chisquare_result.statistic\n",
    "    chi_pvalue = chisquare_result.pvalue\n",
    "\n",
    "    # Utiliza o chi quadrado do friedman para derivar a estatísica menos conservadora de Iman e Davenport (1980)\n",
    "    F_stat = ((N-1)*chi_stat)/(N*(M-1) - chi_stat)\n",
    "\n",
    "    ## Graus de liberdade da distribuição F que distribui a F_stat no teste acima\n",
    "    dfn = M - 1\n",
    "    dfd = (M-1)*(N-1)\n",
    "    F_pvalue = stats.f.sf(F_stat, dfn, dfd)\n",
    "\n",
    "    index = [\"$\\chi^2_F$\", \"$F_F$\"]\n",
    "\n",
    "    df =  pd.DataFrame({\"Static Value\": [chi_stat, F_stat], \"$p$ value\": [chi_pvalue, F_pvalue]}, index=index)\n",
    "    \n",
    "    color_function = lambda x: f'background-color: {\"red\" if x >= alpha else \"green\"}'\n",
    "    \n",
    "    return df.style.applymap(color_function, subset=[\"$p$ value\"]).set_caption(fr\"Friedman Test ($\\alpha={alpha}$)\")"
   ]
  },
  {
   "cell_type": "markdown",
   "id": "516575bf-30d9-48a7-a73d-c12a3a1430c8",
   "metadata": {},
   "source": [
    "#### Pergunta 1"
   ]
  },
  {
   "cell_type": "markdown",
   "id": "4f78900f-b9cb-446c-8802-37eeec138e50",
   "metadata": {},
   "source": [
    "Aqui fica evidente que **existe uma diferença estatística** na escolha do par `(método, algoritmo)` que é feita. O que não é uma grande surpresa, visto que a análise geral das curvas de ranking mostraram que há uma diferença clara de de desempenho entre os algoritmos."
   ]
  },
  {
   "cell_type": "code",
   "execution_count": 27,
   "id": "2bf59798-e4fb-403f-b706-59871e68aae6",
   "metadata": {},
   "outputs": [
    {
     "data": {
      "text/html": [
       "<style type=\"text/css\">\n",
       "#T_3d55f_row0_col1, #T_3d55f_row1_col1 {\n",
       "  background-color: green;\n",
       "}\n",
       "</style>\n",
       "<table id=\"T_3d55f\">\n",
       "  <caption>Friedman Test ($\\alpha=0.05$)</caption>\n",
       "  <thead>\n",
       "    <tr>\n",
       "      <th class=\"blank level0\" >&nbsp;</th>\n",
       "      <th id=\"T_3d55f_level0_col0\" class=\"col_heading level0 col0\" >Static Value</th>\n",
       "      <th id=\"T_3d55f_level0_col1\" class=\"col_heading level0 col1\" >$p$ value</th>\n",
       "    </tr>\n",
       "  </thead>\n",
       "  <tbody>\n",
       "    <tr>\n",
       "      <th id=\"T_3d55f_level0_row0\" class=\"row_heading level0 row0\" >$\\chi^2_F$</th>\n",
       "      <td id=\"T_3d55f_row0_col0\" class=\"data row0 col0\" >1208.722430</td>\n",
       "      <td id=\"T_3d55f_row0_col1\" class=\"data row0 col1\" >0.000000</td>\n",
       "    </tr>\n",
       "    <tr>\n",
       "      <th id=\"T_3d55f_level0_row1\" class=\"row_heading level0 row1\" >$F_F$</th>\n",
       "      <td id=\"T_3d55f_row1_col0\" class=\"data row1 col0\" >15.409256</td>\n",
       "      <td id=\"T_3d55f_row1_col1\" class=\"data row1 col1\" >0.000000</td>\n",
       "    </tr>\n",
       "  </tbody>\n",
       "</table>\n"
      ],
      "text/plain": [
       "<pandas.io.formats.style.Styler at 0x7db8b7ede370>"
      ]
     },
     "execution_count": 27,
     "metadata": {},
     "output_type": "execute_result"
    }
   ],
   "source": [
    "apply_friedman_tests(auc_df)"
   ]
  },
  {
   "cell_type": "markdown",
   "id": "e13c4a29-3dba-4cf9-9e31-24771f4f047d",
   "metadata": {},
   "source": [
    "#### Pergunta 2"
   ]
  },
  {
   "cell_type": "code",
   "execution_count": 28,
   "id": "7b508798-5cbe-4089-a7e3-fc0b3a2d417c",
   "metadata": {
    "jupyter": {
     "source_hidden": true
    }
   },
   "outputs": [],
   "source": [
    "def responde_pergunta_2(scores_df, clf):\n",
    "    clf_df = scores_df.iloc[:, scores_df.columns.get_level_values(\"classifier\")==clf]\n",
    "    return apply_friedman_tests(clf_df)"
   ]
  },
  {
   "cell_type": "markdown",
   "id": "ef393509-a1fb-477d-b799-77eec2029512",
   "metadata": {},
   "source": [
    "Aqui também também podemos perceber que existe diferença no método de aprendizado ativo escolhido para um determinado algoritmo de aprendizado **fixo**, o que indica que pelos menos um grupo de métodos foi pior/melhor que o esperado."
   ]
  },
  {
   "cell_type": "code",
   "execution_count": 29,
   "id": "e4247dc8-e45d-4dd1-8f60-0607225462bd",
   "metadata": {},
   "outputs": [
    {
     "data": {
      "application/vnd.jupyter.widget-view+json": {
       "model_id": "1a1118edab0c4fd19b50220bfd9d1fb9",
       "version_major": 2,
       "version_minor": 0
      },
      "text/plain": [
       "interactive(children=(ToggleButtons(description='Classificador:', options=('GaussianNB', 'SVC', 'DecisionTree'…"
      ]
     },
     "metadata": {},
     "output_type": "display_data"
    },
    {
     "data": {
      "text/plain": [
       "<function __main__.responde_pergunta_2(scores_df, clf)>"
      ]
     },
     "execution_count": 29,
     "metadata": {},
     "output_type": "execute_result"
    }
   ],
   "source": [
    "w.interact(responde_pergunta_2, scores_df = w.fixed(auc_df), clf=w.ToggleButtons(options=utils.ABREV_MODEL.keys(), description=\"Classificador:\"))"
   ]
  },
  {
   "cell_type": "markdown",
   "id": "717f1e82-487b-4b14-b667-d01df2e09879",
   "metadata": {},
   "source": [
    "### Teste de Nemenyi"
   ]
  },
  {
   "cell_type": "markdown",
   "id": "fd28fab2-7f37-4b11-a603-105d4472d6fa",
   "metadata": {},
   "source": [
    "Os resultados dos teste de cima, permitem com que seja realizado o teste *post-hoc* de Nemenyi, para determinar se conseguimos detectar a diferença estatística entre algumas observações."
   ]
  },
  {
   "cell_type": "markdown",
   "id": "51ac19c2-0104-49ac-9e08-f38a98bb424b",
   "metadata": {},
   "source": [
    "#### Análise Geral"
   ]
  },
  {
   "cell_type": "code",
   "execution_count": 30,
   "id": "41f73691-43d5-48e1-8bb2-f8cafa24574e",
   "metadata": {},
   "outputs": [],
   "source": [
    "general_results = autorank(auc_df)"
   ]
  },
  {
   "cell_type": "code",
   "execution_count": 31,
   "id": "b90584bd-f681-48f3-85fd-2d045b18ac10",
   "metadata": {
    "jupyter": {
     "source_hidden": true
    }
   },
   "outputs": [],
   "source": [
    "auc_rank_df = general_results.rankdf[['meanrank']].reset_index()\n",
    "auc_rank_df = auc_rank_df.sort_values(by=\"meanrank\").sort_values(by='meanrank').reset_index(drop=True)\n",
    "\n",
    "best_index = auc_rank_df.groupby(\"classifier\").meanrank.idxmin().values\n",
    "worst_index = auc_rank_df.groupby(\"classifier\").meanrank.idxmax().values\n",
    "rnd_index =  auc_rank_df[auc_rank_df.method == 'random_sampling'].index"
   ]
  },
  {
   "cell_type": "code",
   "execution_count": 32,
   "id": "9f10377a-21a2-4c9c-9c23-98b086bd0a61",
   "metadata": {
    "jupyter": {
     "source_hidden": true
    },
    "scrolled": true
   },
   "outputs": [],
   "source": [
    "def pretty_rank_table(styler):\n",
    "\n",
    "    colnames = {'meanrank' : 'Avg. Rank' }\n",
    "    \n",
    "    def highlight_scores(col):\n",
    "        return ['background-color: green' if idx in best_index\n",
    "                else 'background-color: red' if idx in worst_index\n",
    "                else 'background-color:  gray' if idx in rnd_index \n",
    "                else ''\n",
    "                for idx in col.index]\n",
    "\n",
    "    styler.set_caption(\"Avg. Ranks Table\")\n",
    "    styler.apply(highlight_scores)\n",
    "    styler.format(lambda x: utils.ABREV_DICT[x], subset=['method'])\n",
    "    styler.format(lambda x: utils.ABREV_MODEL[x], subset='classifier')\n",
    "\n",
    "    return styler"
   ]
  },
  {
   "cell_type": "code",
   "execution_count": 33,
   "id": "f71d58c4-e844-487a-8461-e8bb7e8da13f",
   "metadata": {
    "scrolled": true
   },
   "outputs": [
    {
     "data": {
      "text/html": [
       "<style type=\"text/css\">\n",
       "#T_47170_row0_col0, #T_47170_row0_col1, #T_47170_row0_col2, #T_47170_row2_col0, #T_47170_row2_col1, #T_47170_row2_col2, #T_47170_row3_col0, #T_47170_row3_col1, #T_47170_row3_col2, #T_47170_row12_col0, #T_47170_row12_col1, #T_47170_row12_col2 {\n",
       "  background-color: green;\n",
       "}\n",
       "#T_47170_row1_col0, #T_47170_row1_col1, #T_47170_row1_col2, #T_47170_row6_col0, #T_47170_row6_col1, #T_47170_row6_col2, #T_47170_row9_col0, #T_47170_row9_col1, #T_47170_row9_col2 {\n",
       "  background-color: gray;\n",
       "}\n",
       "#T_47170_row70_col0, #T_47170_row70_col1, #T_47170_row70_col2, #T_47170_row88_col0, #T_47170_row88_col1, #T_47170_row88_col2, #T_47170_row89_col0, #T_47170_row89_col1, #T_47170_row89_col2, #T_47170_row91_col0, #T_47170_row91_col1, #T_47170_row91_col2 {\n",
       "  background-color: red;\n",
       "}\n",
       "</style>\n",
       "<table id=\"T_47170\">\n",
       "  <caption>Avg. Ranks Table</caption>\n",
       "  <thead>\n",
       "    <tr>\n",
       "      <th class=\"blank level0\" >&nbsp;</th>\n",
       "      <th id=\"T_47170_level0_col0\" class=\"col_heading level0 col0\" >method</th>\n",
       "      <th id=\"T_47170_level0_col1\" class=\"col_heading level0 col1\" >classifier</th>\n",
       "      <th id=\"T_47170_level0_col2\" class=\"col_heading level0 col2\" >meanrank</th>\n",
       "    </tr>\n",
       "  </thead>\n",
       "  <tbody>\n",
       "    <tr>\n",
       "      <th id=\"T_47170_level0_row0\" class=\"row_heading level0 row0\" >0</th>\n",
       "      <td id=\"T_47170_row0_col0\" class=\"data row0 col0\" >$TU$</td>\n",
       "      <td id=\"T_47170_row0_col1\" class=\"data row0 col1\" >$CART$</td>\n",
       "      <td id=\"T_47170_row0_col2\" class=\"data row0 col2\" >21.255556</td>\n",
       "    </tr>\n",
       "    <tr>\n",
       "      <th id=\"T_47170_level0_row1\" class=\"row_heading level0 row1\" >1</th>\n",
       "      <td id=\"T_47170_row1_col0\" class=\"data row1 col0\" >$Rnd$</td>\n",
       "      <td id=\"T_47170_row1_col1\" class=\"data row1 col1\" >$CART$</td>\n",
       "      <td id=\"T_47170_row1_col2\" class=\"data row1 col2\" >25.733333</td>\n",
       "    </tr>\n",
       "    <tr>\n",
       "      <th id=\"T_47170_level0_row2\" class=\"row_heading level0 row2\" >2</th>\n",
       "      <td id=\"T_47170_row2_col0\" class=\"data row2 col0\" >$kDN$</td>\n",
       "      <td id=\"T_47170_row2_col1\" class=\"data row2 col1\" >$SVM$</td>\n",
       "      <td id=\"T_47170_row2_col2\" class=\"data row2 col2\" >27.727778</td>\n",
       "    </tr>\n",
       "    <tr>\n",
       "      <th id=\"T_47170_level0_row3\" class=\"row_heading level0 row3\" >3</th>\n",
       "      <td id=\"T_47170_row3_col0\" class=\"data row3 col0\" >$TU$</td>\n",
       "      <td id=\"T_47170_row3_col1\" class=\"data row3 col1\" >$NB$</td>\n",
       "      <td id=\"T_47170_row3_col2\" class=\"data row3 col2\" >28.866667</td>\n",
       "    </tr>\n",
       "    <tr>\n",
       "      <th id=\"T_47170_level0_row4\" class=\"row_heading level0 row4\" >4</th>\n",
       "      <td id=\"T_47170_row4_col0\" class=\"data row4 col0\" >$LSR$</td>\n",
       "      <td id=\"T_47170_row4_col1\" class=\"data row4 col1\" >$CART$</td>\n",
       "      <td id=\"T_47170_row4_col2\" class=\"data row4 col2\" >30.944444</td>\n",
       "    </tr>\n",
       "    <tr>\n",
       "      <th id=\"T_47170_level0_row5\" class=\"row_heading level0 row5\" >5</th>\n",
       "      <td id=\"T_47170_row5_col0\" class=\"data row5 col0\" >$LSR$</td>\n",
       "      <td id=\"T_47170_row5_col1\" class=\"data row5 col1\" >$SVM$</td>\n",
       "      <td id=\"T_47170_row5_col2\" class=\"data row5 col2\" >31.027778</td>\n",
       "    </tr>\n",
       "    <tr>\n",
       "      <th id=\"T_47170_level0_row6\" class=\"row_heading level0 row6\" >6</th>\n",
       "      <td id=\"T_47170_row6_col0\" class=\"data row6 col0\" >$Rnd$</td>\n",
       "      <td id=\"T_47170_row6_col1\" class=\"data row6 col1\" >$NB$</td>\n",
       "      <td id=\"T_47170_row6_col2\" class=\"data row6 col2\" >31.522222</td>\n",
       "    </tr>\n",
       "    <tr>\n",
       "      <th id=\"T_47170_level0_row7\" class=\"row_heading level0 row7\" >7</th>\n",
       "      <td id=\"T_47170_row7_col0\" class=\"data row7 col0\" >$TD_U$</td>\n",
       "      <td id=\"T_47170_row7_col1\" class=\"data row7 col1\" >$SVM$</td>\n",
       "      <td id=\"T_47170_row7_col2\" class=\"data row7 col2\" >31.755556</td>\n",
       "    </tr>\n",
       "    <tr>\n",
       "      <th id=\"T_47170_level0_row8\" class=\"row_heading level0 row8\" >8</th>\n",
       "      <td id=\"T_47170_row8_col0\" class=\"data row8 col0\" >$CLD$</td>\n",
       "      <td id=\"T_47170_row8_col1\" class=\"data row8 col1\" >$SVM$</td>\n",
       "      <td id=\"T_47170_row8_col2\" class=\"data row8 col2\" >32.122222</td>\n",
       "    </tr>\n",
       "    <tr>\n",
       "      <th id=\"T_47170_level0_row9\" class=\"row_heading level0 row9\" >9</th>\n",
       "      <td id=\"T_47170_row9_col0\" class=\"data row9 col0\" >$Rnd$</td>\n",
       "      <td id=\"T_47170_row9_col1\" class=\"data row9 col1\" >$SVM$</td>\n",
       "      <td id=\"T_47170_row9_col2\" class=\"data row9 col2\" >33.522222</td>\n",
       "    </tr>\n",
       "    <tr>\n",
       "      <th id=\"T_47170_level0_row10\" class=\"row_heading level0 row10\" >10</th>\n",
       "      <td id=\"T_47170_row10_col0\" class=\"data row10 col0\" >$LSCI$</td>\n",
       "      <td id=\"T_47170_row10_col1\" class=\"data row10 col1\" >$SVM$</td>\n",
       "      <td id=\"T_47170_row10_col2\" class=\"data row10 col2\" >34.683333</td>\n",
       "    </tr>\n",
       "    <tr>\n",
       "      <th id=\"T_47170_level0_row11\" class=\"row_heading level0 row11\" >11</th>\n",
       "      <td id=\"T_47170_row11_col0\" class=\"data row11 col0\" >$kDN$</td>\n",
       "      <td id=\"T_47170_row11_col1\" class=\"data row11 col1\" >$CART$</td>\n",
       "      <td id=\"T_47170_row11_col2\" class=\"data row11 col2\" >34.844444</td>\n",
       "    </tr>\n",
       "    <tr>\n",
       "      <th id=\"T_47170_level0_row12\" class=\"row_heading level0 row12\" >12</th>\n",
       "      <td id=\"T_47170_row12_col0\" class=\"data row12 col0\" >$Rnd$</td>\n",
       "      <td id=\"T_47170_row12_col1\" class=\"data row12 col1\" >$5NN$</td>\n",
       "      <td id=\"T_47170_row12_col2\" class=\"data row12 col2\" >34.888889</td>\n",
       "    </tr>\n",
       "    <tr>\n",
       "      <th id=\"T_47170_level0_row13\" class=\"row_heading level0 row13\" >13</th>\n",
       "      <td id=\"T_47170_row13_col0\" class=\"data row13 col0\" >$H$</td>\n",
       "      <td id=\"T_47170_row13_col1\" class=\"data row13 col1\" >$CART$</td>\n",
       "      <td id=\"T_47170_row13_col2\" class=\"data row13 col2\" >35.011111</td>\n",
       "    </tr>\n",
       "    <tr>\n",
       "      <th id=\"T_47170_level0_row14\" class=\"row_heading level0 row14\" >14</th>\n",
       "      <td id=\"T_47170_row14_col0\" class=\"data row14 col0\" >$LSR$</td>\n",
       "      <td id=\"T_47170_row14_col1\" class=\"data row14 col1\" >$NB$</td>\n",
       "      <td id=\"T_47170_row14_col2\" class=\"data row14 col2\" >35.977778</td>\n",
       "    </tr>\n",
       "    <tr>\n",
       "      <th id=\"T_47170_level0_row15\" class=\"row_heading level0 row15\" >15</th>\n",
       "      <td id=\"T_47170_row15_col0\" class=\"data row15 col0\" >$MS$</td>\n",
       "      <td id=\"T_47170_row15_col1\" class=\"data row15 col1\" >$SVM$</td>\n",
       "      <td id=\"T_47170_row15_col2\" class=\"data row15 col2\" >36.011111</td>\n",
       "    </tr>\n",
       "    <tr>\n",
       "      <th id=\"T_47170_level0_row16\" class=\"row_heading level0 row16\" >16</th>\n",
       "      <td id=\"T_47170_row16_col0\" class=\"data row16 col0\" >$DCP$</td>\n",
       "      <td id=\"T_47170_row16_col1\" class=\"data row16 col1\" >$SVM$</td>\n",
       "      <td id=\"T_47170_row16_col2\" class=\"data row16 col2\" >36.183333</td>\n",
       "    </tr>\n",
       "    <tr>\n",
       "      <th id=\"T_47170_level0_row17\" class=\"row_heading level0 row17\" >17</th>\n",
       "      <td id=\"T_47170_row17_col0\" class=\"data row17 col0\" >$CL$</td>\n",
       "      <td id=\"T_47170_row17_col1\" class=\"data row17 col1\" >$SVM$</td>\n",
       "      <td id=\"T_47170_row17_col2\" class=\"data row17 col2\" >36.277778</td>\n",
       "    </tr>\n",
       "    <tr>\n",
       "      <th id=\"T_47170_level0_row18\" class=\"row_heading level0 row18\" >18</th>\n",
       "      <td id=\"T_47170_row18_col0\" class=\"data row18 col0\" >$LSCI$</td>\n",
       "      <td id=\"T_47170_row18_col1\" class=\"data row18 col1\" >$CART$</td>\n",
       "      <td id=\"T_47170_row18_col2\" class=\"data row18 col2\" >36.366667</td>\n",
       "    </tr>\n",
       "    <tr>\n",
       "      <th id=\"T_47170_level0_row19\" class=\"row_heading level0 row19\" >19</th>\n",
       "      <td id=\"T_47170_row19_col0\" class=\"data row19 col0\" >$CL$</td>\n",
       "      <td id=\"T_47170_row19_col1\" class=\"data row19 col1\" >$CART$</td>\n",
       "      <td id=\"T_47170_row19_col2\" class=\"data row19 col2\" >36.400000</td>\n",
       "    </tr>\n",
       "    <tr>\n",
       "      <th id=\"T_47170_level0_row20\" class=\"row_heading level0 row20\" >20</th>\n",
       "      <td id=\"T_47170_row20_col0\" class=\"data row20 col0\" >$CLD$</td>\n",
       "      <td id=\"T_47170_row20_col1\" class=\"data row20 col1\" >$CART$</td>\n",
       "      <td id=\"T_47170_row20_col2\" class=\"data row20 col2\" >36.655556</td>\n",
       "    </tr>\n",
       "    <tr>\n",
       "      <th id=\"T_47170_level0_row21\" class=\"row_heading level0 row21\" >21</th>\n",
       "      <td id=\"T_47170_row21_col0\" class=\"data row21 col0\" >$N1I$</td>\n",
       "      <td id=\"T_47170_row21_col1\" class=\"data row21 col1\" >$SVM$</td>\n",
       "      <td id=\"T_47170_row21_col2\" class=\"data row21 col2\" >37.016667</td>\n",
       "    </tr>\n",
       "    <tr>\n",
       "      <th id=\"T_47170_level0_row22\" class=\"row_heading level0 row22\" >22</th>\n",
       "      <td id=\"T_47170_row22_col0\" class=\"data row22 col0\" >$F4I$</td>\n",
       "      <td id=\"T_47170_row22_col1\" class=\"data row22 col1\" >$CART$</td>\n",
       "      <td id=\"T_47170_row22_col2\" class=\"data row22 col2\" >37.422222</td>\n",
       "    </tr>\n",
       "    <tr>\n",
       "      <th id=\"T_47170_level0_row23\" class=\"row_heading level0 row23\" >23</th>\n",
       "      <td id=\"T_47170_row23_col0\" class=\"data row23 col0\" >$DS$</td>\n",
       "      <td id=\"T_47170_row23_col1\" class=\"data row23 col1\" >$SVM$</td>\n",
       "      <td id=\"T_47170_row23_col2\" class=\"data row23 col2\" >37.805556</td>\n",
       "    </tr>\n",
       "    <tr>\n",
       "      <th id=\"T_47170_level0_row24\" class=\"row_heading level0 row24\" >24</th>\n",
       "      <td id=\"T_47170_row24_col0\" class=\"data row24 col0\" >$H$</td>\n",
       "      <td id=\"T_47170_row24_col1\" class=\"data row24 col1\" >$SVM$</td>\n",
       "      <td id=\"T_47170_row24_col2\" class=\"data row24 col2\" >38.472222</td>\n",
       "    </tr>\n",
       "    <tr>\n",
       "      <th id=\"T_47170_level0_row25\" class=\"row_heading level0 row25\" >25</th>\n",
       "      <td id=\"T_47170_row25_col0\" class=\"data row25 col0\" >$N1I$</td>\n",
       "      <td id=\"T_47170_row25_col1\" class=\"data row25 col1\" >$CART$</td>\n",
       "      <td id=\"T_47170_row25_col2\" class=\"data row25 col2\" >38.844444</td>\n",
       "    </tr>\n",
       "    <tr>\n",
       "      <th id=\"T_47170_level0_row26\" class=\"row_heading level0 row26\" >26</th>\n",
       "      <td id=\"T_47170_row26_col0\" class=\"data row26 col0\" >$TD_U$</td>\n",
       "      <td id=\"T_47170_row26_col1\" class=\"data row26 col1\" >$5NN$</td>\n",
       "      <td id=\"T_47170_row26_col2\" class=\"data row26 col2\" >39.500000</td>\n",
       "    </tr>\n",
       "    <tr>\n",
       "      <th id=\"T_47170_level0_row27\" class=\"row_heading level0 row27\" >27</th>\n",
       "      <td id=\"T_47170_row27_col0\" class=\"data row27 col0\" >$MS$</td>\n",
       "      <td id=\"T_47170_row27_col1\" class=\"data row27 col1\" >$5NN$</td>\n",
       "      <td id=\"T_47170_row27_col2\" class=\"data row27 col2\" >40.344444</td>\n",
       "    </tr>\n",
       "    <tr>\n",
       "      <th id=\"T_47170_level0_row28\" class=\"row_heading level0 row28\" >28</th>\n",
       "      <td id=\"T_47170_row28_col0\" class=\"data row28 col0\" >$TD_P$</td>\n",
       "      <td id=\"T_47170_row28_col1\" class=\"data row28 col1\" >$SVM$</td>\n",
       "      <td id=\"T_47170_row28_col2\" class=\"data row28 col2\" >41.033333</td>\n",
       "    </tr>\n",
       "    <tr>\n",
       "      <th id=\"T_47170_level0_row29\" class=\"row_heading level0 row29\" >29</th>\n",
       "      <td id=\"T_47170_row29_col0\" class=\"data row29 col0\" >$F3I$</td>\n",
       "      <td id=\"T_47170_row29_col1\" class=\"data row29 col1\" >$CART$</td>\n",
       "      <td id=\"T_47170_row29_col2\" class=\"data row29 col2\" >42.088889</td>\n",
       "    </tr>\n",
       "    <tr>\n",
       "      <th id=\"T_47170_level0_row30\" class=\"row_heading level0 row30\" >30</th>\n",
       "      <td id=\"T_47170_row30_col0\" class=\"data row30 col0\" >$CLD$</td>\n",
       "      <td id=\"T_47170_row30_col1\" class=\"data row30 col1\" >$5NN$</td>\n",
       "      <td id=\"T_47170_row30_col2\" class=\"data row30 col2\" >42.211111</td>\n",
       "    </tr>\n",
       "    <tr>\n",
       "      <th id=\"T_47170_level0_row31\" class=\"row_heading level0 row31\" >31</th>\n",
       "      <td id=\"T_47170_row31_col0\" class=\"data row31 col0\" >$TD_U$</td>\n",
       "      <td id=\"T_47170_row31_col1\" class=\"data row31 col1\" >$NB$</td>\n",
       "      <td id=\"T_47170_row31_col2\" class=\"data row31 col2\" >42.822222</td>\n",
       "    </tr>\n",
       "    <tr>\n",
       "      <th id=\"T_47170_level0_row32\" class=\"row_heading level0 row32\" >32</th>\n",
       "      <td id=\"T_47170_row32_col0\" class=\"data row32 col0\" >$kDN$</td>\n",
       "      <td id=\"T_47170_row32_col1\" class=\"data row32 col1\" >$NB$</td>\n",
       "      <td id=\"T_47170_row32_col2\" class=\"data row32 col2\" >43.655556</td>\n",
       "    </tr>\n",
       "    <tr>\n",
       "      <th id=\"T_47170_level0_row33\" class=\"row_heading level0 row33\" >33</th>\n",
       "      <td id=\"T_47170_row33_col0\" class=\"data row33 col0\" >$kDN$</td>\n",
       "      <td id=\"T_47170_row33_col1\" class=\"data row33 col1\" >$5NN$</td>\n",
       "      <td id=\"T_47170_row33_col2\" class=\"data row33 col2\" >44.022222</td>\n",
       "    </tr>\n",
       "    <tr>\n",
       "      <th id=\"T_47170_level0_row34\" class=\"row_heading level0 row34\" >34</th>\n",
       "      <td id=\"T_47170_row34_col0\" class=\"data row34 col0\" >$CLD$</td>\n",
       "      <td id=\"T_47170_row34_col1\" class=\"data row34 col1\" >$NB$</td>\n",
       "      <td id=\"T_47170_row34_col2\" class=\"data row34 col2\" >44.083333</td>\n",
       "    </tr>\n",
       "    <tr>\n",
       "      <th id=\"T_47170_level0_row35\" class=\"row_heading level0 row35\" >35</th>\n",
       "      <td id=\"T_47170_row35_col0\" class=\"data row35 col0\" >$LSCI$</td>\n",
       "      <td id=\"T_47170_row35_col1\" class=\"data row35 col1\" >$NB$</td>\n",
       "      <td id=\"T_47170_row35_col2\" class=\"data row35 col2\" >44.522222</td>\n",
       "    </tr>\n",
       "    <tr>\n",
       "      <th id=\"T_47170_level0_row36\" class=\"row_heading level0 row36\" >36</th>\n",
       "      <td id=\"T_47170_row36_col0\" class=\"data row36 col0\" >$F4I$</td>\n",
       "      <td id=\"T_47170_row36_col1\" class=\"data row36 col1\" >$SVM$</td>\n",
       "      <td id=\"T_47170_row36_col2\" class=\"data row36 col2\" >45.188889</td>\n",
       "    </tr>\n",
       "    <tr>\n",
       "      <th id=\"T_47170_level0_row37\" class=\"row_heading level0 row37\" >37</th>\n",
       "      <td id=\"T_47170_row37_col0\" class=\"data row37 col0\" >$LSR$</td>\n",
       "      <td id=\"T_47170_row37_col1\" class=\"data row37 col1\" >$5NN$</td>\n",
       "      <td id=\"T_47170_row37_col2\" class=\"data row37 col2\" >45.455556</td>\n",
       "    </tr>\n",
       "    <tr>\n",
       "      <th id=\"T_47170_level0_row38\" class=\"row_heading level0 row38\" >38</th>\n",
       "      <td id=\"T_47170_row38_col0\" class=\"data row38 col0\" >$N2I$</td>\n",
       "      <td id=\"T_47170_row38_col1\" class=\"data row38 col1\" >$CART$</td>\n",
       "      <td id=\"T_47170_row38_col2\" class=\"data row38 col2\" >46.277778</td>\n",
       "    </tr>\n",
       "    <tr>\n",
       "      <th id=\"T_47170_level0_row39\" class=\"row_heading level0 row39\" >39</th>\n",
       "      <td id=\"T_47170_row39_col0\" class=\"data row39 col0\" >$F2I$</td>\n",
       "      <td id=\"T_47170_row39_col1\" class=\"data row39 col1\" >$CART$</td>\n",
       "      <td id=\"T_47170_row39_col2\" class=\"data row39 col2\" >46.366667</td>\n",
       "    </tr>\n",
       "    <tr>\n",
       "      <th id=\"T_47170_level0_row40\" class=\"row_heading level0 row40\" >40</th>\n",
       "      <td id=\"T_47170_row40_col0\" class=\"data row40 col0\" >$DS$</td>\n",
       "      <td id=\"T_47170_row40_col1\" class=\"data row40 col1\" >$CART$</td>\n",
       "      <td id=\"T_47170_row40_col2\" class=\"data row40 col2\" >46.555556</td>\n",
       "    </tr>\n",
       "    <tr>\n",
       "      <th id=\"T_47170_level0_row41\" class=\"row_heading level0 row41\" >41</th>\n",
       "      <td id=\"T_47170_row41_col0\" class=\"data row41 col0\" >$CB$</td>\n",
       "      <td id=\"T_47170_row41_col1\" class=\"data row41 col1\" >$SVM$</td>\n",
       "      <td id=\"T_47170_row41_col2\" class=\"data row41 col2\" >46.588889</td>\n",
       "    </tr>\n",
       "    <tr>\n",
       "      <th id=\"T_47170_level0_row42\" class=\"row_heading level0 row42\" >42</th>\n",
       "      <td id=\"T_47170_row42_col0\" class=\"data row42 col0\" >$MV$</td>\n",
       "      <td id=\"T_47170_row42_col1\" class=\"data row42 col1\" >$SVM$</td>\n",
       "      <td id=\"T_47170_row42_col2\" class=\"data row42 col2\" >46.588889</td>\n",
       "    </tr>\n",
       "    <tr>\n",
       "      <th id=\"T_47170_level0_row43\" class=\"row_heading level0 row43\" >43</th>\n",
       "      <td id=\"T_47170_row43_col0\" class=\"data row43 col0\" >$DCP$</td>\n",
       "      <td id=\"T_47170_row43_col1\" class=\"data row43 col1\" >$NB$</td>\n",
       "      <td id=\"T_47170_row43_col2\" class=\"data row43 col2\" >46.744444</td>\n",
       "    </tr>\n",
       "    <tr>\n",
       "      <th id=\"T_47170_level0_row44\" class=\"row_heading level0 row44\" >44</th>\n",
       "      <td id=\"T_47170_row44_col0\" class=\"data row44 col0\" >$DCP$</td>\n",
       "      <td id=\"T_47170_row44_col1\" class=\"data row44 col1\" >$5NN$</td>\n",
       "      <td id=\"T_47170_row44_col2\" class=\"data row44 col2\" >47.033333</td>\n",
       "    </tr>\n",
       "    <tr>\n",
       "      <th id=\"T_47170_level0_row45\" class=\"row_heading level0 row45\" >45</th>\n",
       "      <td id=\"T_47170_row45_col0\" class=\"data row45 col0\" >$N1I$</td>\n",
       "      <td id=\"T_47170_row45_col1\" class=\"data row45 col1\" >$NB$</td>\n",
       "      <td id=\"T_47170_row45_col2\" class=\"data row45 col2\" >47.161111</td>\n",
       "    </tr>\n",
       "    <tr>\n",
       "      <th id=\"T_47170_level0_row46\" class=\"row_heading level0 row46\" >46</th>\n",
       "      <td id=\"T_47170_row46_col0\" class=\"data row46 col0\" >$F1I$</td>\n",
       "      <td id=\"T_47170_row46_col1\" class=\"data row46 col1\" >$CART$</td>\n",
       "      <td id=\"T_47170_row46_col2\" class=\"data row46 col2\" >47.755556</td>\n",
       "    </tr>\n",
       "    <tr>\n",
       "      <th id=\"T_47170_level0_row47\" class=\"row_heading level0 row47\" >47</th>\n",
       "      <td id=\"T_47170_row47_col0\" class=\"data row47 col0\" >$MV$</td>\n",
       "      <td id=\"T_47170_row47_col1\" class=\"data row47 col1\" >$CART$</td>\n",
       "      <td id=\"T_47170_row47_col2\" class=\"data row47 col2\" >48.244444</td>\n",
       "    </tr>\n",
       "    <tr>\n",
       "      <th id=\"T_47170_level0_row48\" class=\"row_heading level0 row48\" >48</th>\n",
       "      <td id=\"T_47170_row48_col0\" class=\"data row48 col0\" >$DCP$</td>\n",
       "      <td id=\"T_47170_row48_col1\" class=\"data row48 col1\" >$CART$</td>\n",
       "      <td id=\"T_47170_row48_col2\" class=\"data row48 col2\" >48.422222</td>\n",
       "    </tr>\n",
       "    <tr>\n",
       "      <th id=\"T_47170_level0_row49\" class=\"row_heading level0 row49\" >49</th>\n",
       "      <td id=\"T_47170_row49_col0\" class=\"data row49 col0\" >$H$</td>\n",
       "      <td id=\"T_47170_row49_col1\" class=\"data row49 col1\" >$NB$</td>\n",
       "      <td id=\"T_47170_row49_col2\" class=\"data row49 col2\" >48.466667</td>\n",
       "    </tr>\n",
       "    <tr>\n",
       "      <th id=\"T_47170_level0_row50\" class=\"row_heading level0 row50\" >50</th>\n",
       "      <td id=\"T_47170_row50_col0\" class=\"data row50 col0\" >$TD_P$</td>\n",
       "      <td id=\"T_47170_row50_col1\" class=\"data row50 col1\" >$5NN$</td>\n",
       "      <td id=\"T_47170_row50_col2\" class=\"data row50 col2\" >48.477778</td>\n",
       "    </tr>\n",
       "    <tr>\n",
       "      <th id=\"T_47170_level0_row51\" class=\"row_heading level0 row51\" >51</th>\n",
       "      <td id=\"T_47170_row51_col0\" class=\"data row51 col0\" >$EER_{ent}$</td>\n",
       "      <td id=\"T_47170_row51_col1\" class=\"data row51 col1\" >$SVM$</td>\n",
       "      <td id=\"T_47170_row51_col2\" class=\"data row51 col2\" >48.888889</td>\n",
       "    </tr>\n",
       "    <tr>\n",
       "      <th id=\"T_47170_level0_row52\" class=\"row_heading level0 row52\" >52</th>\n",
       "      <td id=\"T_47170_row52_col0\" class=\"data row52 col0\" >$CB$</td>\n",
       "      <td id=\"T_47170_row52_col1\" class=\"data row52 col1\" >$CART$</td>\n",
       "      <td id=\"T_47170_row52_col2\" class=\"data row52 col2\" >49.433333</td>\n",
       "    </tr>\n",
       "    <tr>\n",
       "      <th id=\"T_47170_level0_row53\" class=\"row_heading level0 row53\" >53</th>\n",
       "      <td id=\"T_47170_row53_col0\" class=\"data row53 col0\" >$DS$</td>\n",
       "      <td id=\"T_47170_row53_col1\" class=\"data row53 col1\" >$NB$</td>\n",
       "      <td id=\"T_47170_row53_col2\" class=\"data row53 col2\" >49.461111</td>\n",
       "    </tr>\n",
       "    <tr>\n",
       "      <th id=\"T_47170_level0_row54\" class=\"row_heading level0 row54\" >54</th>\n",
       "      <td id=\"T_47170_row54_col0\" class=\"data row54 col0\" >$N2I$</td>\n",
       "      <td id=\"T_47170_row54_col1\" class=\"data row54 col1\" >$NB$</td>\n",
       "      <td id=\"T_47170_row54_col2\" class=\"data row54 col2\" >49.461111</td>\n",
       "    </tr>\n",
       "    <tr>\n",
       "      <th id=\"T_47170_level0_row55\" class=\"row_heading level0 row55\" >55</th>\n",
       "      <td id=\"T_47170_row55_col0\" class=\"data row55 col0\" >$TD_P$</td>\n",
       "      <td id=\"T_47170_row55_col1\" class=\"data row55 col1\" >$NB$</td>\n",
       "      <td id=\"T_47170_row55_col2\" class=\"data row55 col2\" >49.477778</td>\n",
       "    </tr>\n",
       "    <tr>\n",
       "      <th id=\"T_47170_level0_row56\" class=\"row_heading level0 row56\" >56</th>\n",
       "      <td id=\"T_47170_row56_col0\" class=\"data row56 col0\" >$F3I$</td>\n",
       "      <td id=\"T_47170_row56_col1\" class=\"data row56 col1\" >$SVM$</td>\n",
       "      <td id=\"T_47170_row56_col2\" class=\"data row56 col2\" >49.772222</td>\n",
       "    </tr>\n",
       "    <tr>\n",
       "      <th id=\"T_47170_level0_row57\" class=\"row_heading level0 row57\" >57</th>\n",
       "      <td id=\"T_47170_row57_col0\" class=\"data row57 col0\" >$LSCI$</td>\n",
       "      <td id=\"T_47170_row57_col1\" class=\"data row57 col1\" >$5NN$</td>\n",
       "      <td id=\"T_47170_row57_col2\" class=\"data row57 col2\" >49.800000</td>\n",
       "    </tr>\n",
       "    <tr>\n",
       "      <th id=\"T_47170_level0_row58\" class=\"row_heading level0 row58\" >58</th>\n",
       "      <td id=\"T_47170_row58_col0\" class=\"data row58 col0\" >$TD_U$</td>\n",
       "      <td id=\"T_47170_row58_col1\" class=\"data row58 col1\" >$CART$</td>\n",
       "      <td id=\"T_47170_row58_col2\" class=\"data row58 col2\" >49.922222</td>\n",
       "    </tr>\n",
       "    <tr>\n",
       "      <th id=\"T_47170_level0_row59\" class=\"row_heading level0 row59\" >59</th>\n",
       "      <td id=\"T_47170_row59_col0\" class=\"data row59 col0\" >$F1I$</td>\n",
       "      <td id=\"T_47170_row59_col1\" class=\"data row59 col1\" >$SVM$</td>\n",
       "      <td id=\"T_47170_row59_col2\" class=\"data row59 col2\" >50.383333</td>\n",
       "    </tr>\n",
       "    <tr>\n",
       "      <th id=\"T_47170_level0_row60\" class=\"row_heading level0 row60\" >60</th>\n",
       "      <td id=\"T_47170_row60_col0\" class=\"data row60 col0\" >$TD_P$</td>\n",
       "      <td id=\"T_47170_row60_col1\" class=\"data row60 col1\" >$CART$</td>\n",
       "      <td id=\"T_47170_row60_col2\" class=\"data row60 col2\" >50.511111</td>\n",
       "    </tr>\n",
       "    <tr>\n",
       "      <th id=\"T_47170_level0_row61\" class=\"row_heading level0 row61\" >61</th>\n",
       "      <td id=\"T_47170_row61_col0\" class=\"data row61 col0\" >$ID$</td>\n",
       "      <td id=\"T_47170_row61_col1\" class=\"data row61 col1\" >$CART$</td>\n",
       "      <td id=\"T_47170_row61_col2\" class=\"data row61 col2\" >50.744444</td>\n",
       "    </tr>\n",
       "    <tr>\n",
       "      <th id=\"T_47170_level0_row62\" class=\"row_heading level0 row62\" >62</th>\n",
       "      <td id=\"T_47170_row62_col0\" class=\"data row62 col0\" >$DS$</td>\n",
       "      <td id=\"T_47170_row62_col1\" class=\"data row62 col1\" >$5NN$</td>\n",
       "      <td id=\"T_47170_row62_col2\" class=\"data row62 col2\" >50.911111</td>\n",
       "    </tr>\n",
       "    <tr>\n",
       "      <th id=\"T_47170_level0_row63\" class=\"row_heading level0 row63\" >63</th>\n",
       "      <td id=\"T_47170_row63_col0\" class=\"data row63 col0\" >$CL$</td>\n",
       "      <td id=\"T_47170_row63_col1\" class=\"data row63 col1\" >$NB$</td>\n",
       "      <td id=\"T_47170_row63_col2\" class=\"data row63 col2\" >51.361111</td>\n",
       "    </tr>\n",
       "    <tr>\n",
       "      <th id=\"T_47170_level0_row64\" class=\"row_heading level0 row64\" >64</th>\n",
       "      <td id=\"T_47170_row64_col0\" class=\"data row64 col0\" >$H$</td>\n",
       "      <td id=\"T_47170_row64_col1\" class=\"data row64 col1\" >$5NN$</td>\n",
       "      <td id=\"T_47170_row64_col2\" class=\"data row64 col2\" >51.377778</td>\n",
       "    </tr>\n",
       "    <tr>\n",
       "      <th id=\"T_47170_level0_row65\" class=\"row_heading level0 row65\" >65</th>\n",
       "      <td id=\"T_47170_row65_col0\" class=\"data row65 col0\" >$N1I$</td>\n",
       "      <td id=\"T_47170_row65_col1\" class=\"data row65 col1\" >$5NN$</td>\n",
       "      <td id=\"T_47170_row65_col2\" class=\"data row65 col2\" >51.388889</td>\n",
       "    </tr>\n",
       "    <tr>\n",
       "      <th id=\"T_47170_level0_row66\" class=\"row_heading level0 row66\" >66</th>\n",
       "      <td id=\"T_47170_row66_col0\" class=\"data row66 col0\" >$CL$</td>\n",
       "      <td id=\"T_47170_row66_col1\" class=\"data row66 col1\" >$5NN$</td>\n",
       "      <td id=\"T_47170_row66_col2\" class=\"data row66 col2\" >51.566667</td>\n",
       "    </tr>\n",
       "    <tr>\n",
       "      <th id=\"T_47170_level0_row67\" class=\"row_heading level0 row67\" >67</th>\n",
       "      <td id=\"T_47170_row67_col0\" class=\"data row67 col0\" >$MS$</td>\n",
       "      <td id=\"T_47170_row67_col1\" class=\"data row67 col1\" >$NB$</td>\n",
       "      <td id=\"T_47170_row67_col2\" class=\"data row67 col2\" >51.672222</td>\n",
       "    </tr>\n",
       "    <tr>\n",
       "      <th id=\"T_47170_level0_row68\" class=\"row_heading level0 row68\" >68</th>\n",
       "      <td id=\"T_47170_row68_col0\" class=\"data row68 col0\" >$EER_{ent}$</td>\n",
       "      <td id=\"T_47170_row68_col1\" class=\"data row68 col1\" >$CART$</td>\n",
       "      <td id=\"T_47170_row68_col2\" class=\"data row68 col2\" >52.588889</td>\n",
       "    </tr>\n",
       "    <tr>\n",
       "      <th id=\"T_47170_level0_row69\" class=\"row_heading level0 row69\" >69</th>\n",
       "      <td id=\"T_47170_row69_col0\" class=\"data row69 col0\" >$F2I$</td>\n",
       "      <td id=\"T_47170_row69_col1\" class=\"data row69 col1\" >$SVM$</td>\n",
       "      <td id=\"T_47170_row69_col2\" class=\"data row69 col2\" >52.827778</td>\n",
       "    </tr>\n",
       "    <tr>\n",
       "      <th id=\"T_47170_level0_row70\" class=\"row_heading level0 row70\" >70</th>\n",
       "      <td id=\"T_47170_row70_col0\" class=\"data row70 col0\" >$MS$</td>\n",
       "      <td id=\"T_47170_row70_col1\" class=\"data row70 col1\" >$CART$</td>\n",
       "      <td id=\"T_47170_row70_col2\" class=\"data row70 col2\" >52.933333</td>\n",
       "    </tr>\n",
       "    <tr>\n",
       "      <th id=\"T_47170_level0_row71\" class=\"row_heading level0 row71\" >71</th>\n",
       "      <td id=\"T_47170_row71_col0\" class=\"data row71 col0\" >$F4I$</td>\n",
       "      <td id=\"T_47170_row71_col1\" class=\"data row71 col1\" >$NB$</td>\n",
       "      <td id=\"T_47170_row71_col2\" class=\"data row71 col2\" >53.144444</td>\n",
       "    </tr>\n",
       "    <tr>\n",
       "      <th id=\"T_47170_level0_row72\" class=\"row_heading level0 row72\" >72</th>\n",
       "      <td id=\"T_47170_row72_col0\" class=\"data row72 col0\" >$EER_{ent}$</td>\n",
       "      <td id=\"T_47170_row72_col1\" class=\"data row72 col1\" >$NB$</td>\n",
       "      <td id=\"T_47170_row72_col2\" class=\"data row72 col2\" >53.961111</td>\n",
       "    </tr>\n",
       "    <tr>\n",
       "      <th id=\"T_47170_level0_row73\" class=\"row_heading level0 row73\" >73</th>\n",
       "      <td id=\"T_47170_row73_col0\" class=\"data row73 col0\" >$N2I$</td>\n",
       "      <td id=\"T_47170_row73_col1\" class=\"data row73 col1\" >$SVM$</td>\n",
       "      <td id=\"T_47170_row73_col2\" class=\"data row73 col2\" >54.688889</td>\n",
       "    </tr>\n",
       "    <tr>\n",
       "      <th id=\"T_47170_level0_row74\" class=\"row_heading level0 row74\" >74</th>\n",
       "      <td id=\"T_47170_row74_col0\" class=\"data row74 col0\" >$TU$</td>\n",
       "      <td id=\"T_47170_row74_col1\" class=\"data row74 col1\" >$SVM$</td>\n",
       "      <td id=\"T_47170_row74_col2\" class=\"data row74 col2\" >55.066667</td>\n",
       "    </tr>\n",
       "    <tr>\n",
       "      <th id=\"T_47170_level0_row75\" class=\"row_heading level0 row75\" >75</th>\n",
       "      <td id=\"T_47170_row75_col0\" class=\"data row75 col0\" >$MV$</td>\n",
       "      <td id=\"T_47170_row75_col1\" class=\"data row75 col1\" >$5NN$</td>\n",
       "      <td id=\"T_47170_row75_col2\" class=\"data row75 col2\" >55.122222</td>\n",
       "    </tr>\n",
       "    <tr>\n",
       "      <th id=\"T_47170_level0_row76\" class=\"row_heading level0 row76\" >76</th>\n",
       "      <td id=\"T_47170_row76_col0\" class=\"data row76 col0\" >$CB$</td>\n",
       "      <td id=\"T_47170_row76_col1\" class=\"data row76 col1\" >$5NN$</td>\n",
       "      <td id=\"T_47170_row76_col2\" class=\"data row76 col2\" >55.122222</td>\n",
       "    </tr>\n",
       "    <tr>\n",
       "      <th id=\"T_47170_level0_row77\" class=\"row_heading level0 row77\" >77</th>\n",
       "      <td id=\"T_47170_row77_col0\" class=\"data row77 col0\" >$F4I$</td>\n",
       "      <td id=\"T_47170_row77_col1\" class=\"data row77 col1\" >$5NN$</td>\n",
       "      <td id=\"T_47170_row77_col2\" class=\"data row77 col2\" >55.933333</td>\n",
       "    </tr>\n",
       "    <tr>\n",
       "      <th id=\"T_47170_level0_row78\" class=\"row_heading level0 row78\" >78</th>\n",
       "      <td id=\"T_47170_row78_col0\" class=\"data row78 col0\" >$TU$</td>\n",
       "      <td id=\"T_47170_row78_col1\" class=\"data row78 col1\" >$5NN$</td>\n",
       "      <td id=\"T_47170_row78_col2\" class=\"data row78 col2\" >57.011111</td>\n",
       "    </tr>\n",
       "    <tr>\n",
       "      <th id=\"T_47170_level0_row79\" class=\"row_heading level0 row79\" >79</th>\n",
       "      <td id=\"T_47170_row79_col0\" class=\"data row79 col0\" >$N2I$</td>\n",
       "      <td id=\"T_47170_row79_col1\" class=\"data row79 col1\" >$5NN$</td>\n",
       "      <td id=\"T_47170_row79_col2\" class=\"data row79 col2\" >57.322222</td>\n",
       "    </tr>\n",
       "    <tr>\n",
       "      <th id=\"T_47170_level0_row80\" class=\"row_heading level0 row80\" >80</th>\n",
       "      <td id=\"T_47170_row80_col0\" class=\"data row80 col0\" >$EER_{ent}$</td>\n",
       "      <td id=\"T_47170_row80_col1\" class=\"data row80 col1\" >$5NN$</td>\n",
       "      <td id=\"T_47170_row80_col2\" class=\"data row80 col2\" >59.277778</td>\n",
       "    </tr>\n",
       "    <tr>\n",
       "      <th id=\"T_47170_level0_row81\" class=\"row_heading level0 row81\" >81</th>\n",
       "      <td id=\"T_47170_row81_col0\" class=\"data row81 col0\" >$ID$</td>\n",
       "      <td id=\"T_47170_row81_col1\" class=\"data row81 col1\" >$NB$</td>\n",
       "      <td id=\"T_47170_row81_col2\" class=\"data row81 col2\" >59.433333</td>\n",
       "    </tr>\n",
       "    <tr>\n",
       "      <th id=\"T_47170_level0_row82\" class=\"row_heading level0 row82\" >82</th>\n",
       "      <td id=\"T_47170_row82_col0\" class=\"data row82 col0\" >$F3I$</td>\n",
       "      <td id=\"T_47170_row82_col1\" class=\"data row82 col1\" >$NB$</td>\n",
       "      <td id=\"T_47170_row82_col2\" class=\"data row82 col2\" >60.272222</td>\n",
       "    </tr>\n",
       "    <tr>\n",
       "      <th id=\"T_47170_level0_row83\" class=\"row_heading level0 row83\" >83</th>\n",
       "      <td id=\"T_47170_row83_col0\" class=\"data row83 col0\" >$F3I$</td>\n",
       "      <td id=\"T_47170_row83_col1\" class=\"data row83 col1\" >$5NN$</td>\n",
       "      <td id=\"T_47170_row83_col2\" class=\"data row83 col2\" >60.411111</td>\n",
       "    </tr>\n",
       "    <tr>\n",
       "      <th id=\"T_47170_level0_row84\" class=\"row_heading level0 row84\" >84</th>\n",
       "      <td id=\"T_47170_row84_col0\" class=\"data row84 col0\" >$F1I$</td>\n",
       "      <td id=\"T_47170_row84_col1\" class=\"data row84 col1\" >$5NN$</td>\n",
       "      <td id=\"T_47170_row84_col2\" class=\"data row84 col2\" >60.505556</td>\n",
       "    </tr>\n",
       "    <tr>\n",
       "      <th id=\"T_47170_level0_row85\" class=\"row_heading level0 row85\" >85</th>\n",
       "      <td id=\"T_47170_row85_col0\" class=\"data row85 col0\" >$F2I$</td>\n",
       "      <td id=\"T_47170_row85_col1\" class=\"data row85 col1\" >$NB$</td>\n",
       "      <td id=\"T_47170_row85_col2\" class=\"data row85 col2\" >60.777778</td>\n",
       "    </tr>\n",
       "    <tr>\n",
       "      <th id=\"T_47170_level0_row86\" class=\"row_heading level0 row86\" >86</th>\n",
       "      <td id=\"T_47170_row86_col0\" class=\"data row86 col0\" >$F2I$</td>\n",
       "      <td id=\"T_47170_row86_col1\" class=\"data row86 col1\" >$5NN$</td>\n",
       "      <td id=\"T_47170_row86_col2\" class=\"data row86 col2\" >62.405556</td>\n",
       "    </tr>\n",
       "    <tr>\n",
       "      <th id=\"T_47170_level0_row87\" class=\"row_heading level0 row87\" >87</th>\n",
       "      <td id=\"T_47170_row87_col0\" class=\"data row87 col0\" >$F1I$</td>\n",
       "      <td id=\"T_47170_row87_col1\" class=\"data row87 col1\" >$NB$</td>\n",
       "      <td id=\"T_47170_row87_col2\" class=\"data row87 col2\" >64.955556</td>\n",
       "    </tr>\n",
       "    <tr>\n",
       "      <th id=\"T_47170_level0_row88\" class=\"row_heading level0 row88\" >88</th>\n",
       "      <td id=\"T_47170_row88_col0\" class=\"data row88 col0\" >$ID$</td>\n",
       "      <td id=\"T_47170_row88_col1\" class=\"data row88 col1\" >$SVM$</td>\n",
       "      <td id=\"T_47170_row88_col2\" class=\"data row88 col2\" >65.044444</td>\n",
       "    </tr>\n",
       "    <tr>\n",
       "      <th id=\"T_47170_level0_row89\" class=\"row_heading level0 row89\" >89</th>\n",
       "      <td id=\"T_47170_row89_col0\" class=\"data row89 col0\" >$CB$</td>\n",
       "      <td id=\"T_47170_row89_col1\" class=\"data row89 col1\" >$NB$</td>\n",
       "      <td id=\"T_47170_row89_col2\" class=\"data row89 col2\" >65.411111</td>\n",
       "    </tr>\n",
       "    <tr>\n",
       "      <th id=\"T_47170_level0_row90\" class=\"row_heading level0 row90\" >90</th>\n",
       "      <td id=\"T_47170_row90_col0\" class=\"data row90 col0\" >$MV$</td>\n",
       "      <td id=\"T_47170_row90_col1\" class=\"data row90 col1\" >$NB$</td>\n",
       "      <td id=\"T_47170_row90_col2\" class=\"data row90 col2\" >65.411111</td>\n",
       "    </tr>\n",
       "    <tr>\n",
       "      <th id=\"T_47170_level0_row91\" class=\"row_heading level0 row91\" >91</th>\n",
       "      <td id=\"T_47170_row91_col0\" class=\"data row91 col0\" >$ID$</td>\n",
       "      <td id=\"T_47170_row91_col1\" class=\"data row91 col1\" >$5NN$</td>\n",
       "      <td id=\"T_47170_row91_col2\" class=\"data row91 col2\" >75.288889</td>\n",
       "    </tr>\n",
       "  </tbody>\n",
       "</table>\n"
      ],
      "text/plain": [
       "<pandas.io.formats.style.Styler at 0x7db8cf8b5e80>"
      ]
     },
     "execution_count": 33,
     "metadata": {},
     "output_type": "execute_result"
    }
   ],
   "source": [
    "auc_rank_df.style.pipe(pretty_rank_table)"
   ]
  },
  {
   "cell_type": "markdown",
   "id": "66f0961b-a681-4262-8a00-2af2be164cfd",
   "metadata": {},
   "source": [
    "Salvando tabela em arquivo `.tex`"
   ]
  },
  {
   "cell_type": "code",
   "execution_count": 34,
   "id": "29bdc8a9-cf3a-4fc1-a339-937e7c3b45aa",
   "metadata": {
    "jupyter": {
     "source_hidden": true
    }
   },
   "outputs": [],
   "source": [
    "with open('table.tex', 'w') as f:\n",
    "    latex_content = auc_rank_df.sort_values(by='meanrank').to_latex()\n",
    "    f.write(latex_content)"
   ]
  },
  {
   "cell_type": "code",
   "execution_count": 35,
   "id": "8adc87e9-ad68-46ae-a607-55007115afb0",
   "metadata": {},
   "outputs": [
    {
     "data": {
      "text/html": [
       "<style type=\"text/css\">\n",
       "#T_f5875_row0_col0, #T_f5875_row0_col1, #T_f5875_row0_col2, #T_f5875_row2_col0, #T_f5875_row2_col1, #T_f5875_row2_col2, #T_f5875_row3_col0, #T_f5875_row3_col1, #T_f5875_row3_col2, #T_f5875_row6_col0, #T_f5875_row6_col1, #T_f5875_row6_col2 {\n",
       "  background-color: green;\n",
       "}\n",
       "#T_f5875_row1_col0, #T_f5875_row1_col1, #T_f5875_row1_col2, #T_f5875_row4_col0, #T_f5875_row4_col1, #T_f5875_row4_col2, #T_f5875_row5_col0, #T_f5875_row5_col1, #T_f5875_row5_col2 {\n",
       "  background-color: gray;\n",
       "}\n",
       "#T_f5875_row7_col0, #T_f5875_row7_col1, #T_f5875_row7_col2, #T_f5875_row8_col0, #T_f5875_row8_col1, #T_f5875_row8_col2, #T_f5875_row9_col0, #T_f5875_row9_col1, #T_f5875_row9_col2, #T_f5875_row10_col0, #T_f5875_row10_col1, #T_f5875_row10_col2 {\n",
       "  background-color: red;\n",
       "}\n",
       "</style>\n",
       "<table id=\"T_f5875\">\n",
       "  <caption>Avg. Ranks Table</caption>\n",
       "  <thead>\n",
       "    <tr>\n",
       "      <th class=\"blank level0\" >&nbsp;</th>\n",
       "      <th id=\"T_f5875_level0_col0\" class=\"col_heading level0 col0\" >method</th>\n",
       "      <th id=\"T_f5875_level0_col1\" class=\"col_heading level0 col1\" >classifier</th>\n",
       "      <th id=\"T_f5875_level0_col2\" class=\"col_heading level0 col2\" >meanrank</th>\n",
       "    </tr>\n",
       "  </thead>\n",
       "  <tbody>\n",
       "    <tr>\n",
       "      <th id=\"T_f5875_level0_row0\" class=\"row_heading level0 row0\" >0</th>\n",
       "      <td id=\"T_f5875_row0_col0\" class=\"data row0 col0\" >$TU$</td>\n",
       "      <td id=\"T_f5875_row0_col1\" class=\"data row0 col1\" >$CART$</td>\n",
       "      <td id=\"T_f5875_row0_col2\" class=\"data row0 col2\" >21.255556</td>\n",
       "    </tr>\n",
       "    <tr>\n",
       "      <th id=\"T_f5875_level0_row1\" class=\"row_heading level0 row1\" >1</th>\n",
       "      <td id=\"T_f5875_row1_col0\" class=\"data row1 col0\" >$Rnd$</td>\n",
       "      <td id=\"T_f5875_row1_col1\" class=\"data row1 col1\" >$CART$</td>\n",
       "      <td id=\"T_f5875_row1_col2\" class=\"data row1 col2\" >25.733333</td>\n",
       "    </tr>\n",
       "    <tr>\n",
       "      <th id=\"T_f5875_level0_row2\" class=\"row_heading level0 row2\" >2</th>\n",
       "      <td id=\"T_f5875_row2_col0\" class=\"data row2 col0\" >$kDN$</td>\n",
       "      <td id=\"T_f5875_row2_col1\" class=\"data row2 col1\" >$SVM$</td>\n",
       "      <td id=\"T_f5875_row2_col2\" class=\"data row2 col2\" >27.727778</td>\n",
       "    </tr>\n",
       "    <tr>\n",
       "      <th id=\"T_f5875_level0_row3\" class=\"row_heading level0 row3\" >3</th>\n",
       "      <td id=\"T_f5875_row3_col0\" class=\"data row3 col0\" >$TU$</td>\n",
       "      <td id=\"T_f5875_row3_col1\" class=\"data row3 col1\" >$NB$</td>\n",
       "      <td id=\"T_f5875_row3_col2\" class=\"data row3 col2\" >28.866667</td>\n",
       "    </tr>\n",
       "    <tr>\n",
       "      <th id=\"T_f5875_level0_row4\" class=\"row_heading level0 row4\" >6</th>\n",
       "      <td id=\"T_f5875_row4_col0\" class=\"data row4 col0\" >$Rnd$</td>\n",
       "      <td id=\"T_f5875_row4_col1\" class=\"data row4 col1\" >$NB$</td>\n",
       "      <td id=\"T_f5875_row4_col2\" class=\"data row4 col2\" >31.522222</td>\n",
       "    </tr>\n",
       "    <tr>\n",
       "      <th id=\"T_f5875_level0_row5\" class=\"row_heading level0 row5\" >9</th>\n",
       "      <td id=\"T_f5875_row5_col0\" class=\"data row5 col0\" >$Rnd$</td>\n",
       "      <td id=\"T_f5875_row5_col1\" class=\"data row5 col1\" >$SVM$</td>\n",
       "      <td id=\"T_f5875_row5_col2\" class=\"data row5 col2\" >33.522222</td>\n",
       "    </tr>\n",
       "    <tr>\n",
       "      <th id=\"T_f5875_level0_row6\" class=\"row_heading level0 row6\" >12</th>\n",
       "      <td id=\"T_f5875_row6_col0\" class=\"data row6 col0\" >$Rnd$</td>\n",
       "      <td id=\"T_f5875_row6_col1\" class=\"data row6 col1\" >$5NN$</td>\n",
       "      <td id=\"T_f5875_row6_col2\" class=\"data row6 col2\" >34.888889</td>\n",
       "    </tr>\n",
       "    <tr>\n",
       "      <th id=\"T_f5875_level0_row7\" class=\"row_heading level0 row7\" >70</th>\n",
       "      <td id=\"T_f5875_row7_col0\" class=\"data row7 col0\" >$MS$</td>\n",
       "      <td id=\"T_f5875_row7_col1\" class=\"data row7 col1\" >$CART$</td>\n",
       "      <td id=\"T_f5875_row7_col2\" class=\"data row7 col2\" >52.933333</td>\n",
       "    </tr>\n",
       "    <tr>\n",
       "      <th id=\"T_f5875_level0_row8\" class=\"row_heading level0 row8\" >88</th>\n",
       "      <td id=\"T_f5875_row8_col0\" class=\"data row8 col0\" >$ID$</td>\n",
       "      <td id=\"T_f5875_row8_col1\" class=\"data row8 col1\" >$SVM$</td>\n",
       "      <td id=\"T_f5875_row8_col2\" class=\"data row8 col2\" >65.044444</td>\n",
       "    </tr>\n",
       "    <tr>\n",
       "      <th id=\"T_f5875_level0_row9\" class=\"row_heading level0 row9\" >89</th>\n",
       "      <td id=\"T_f5875_row9_col0\" class=\"data row9 col0\" >$CB$</td>\n",
       "      <td id=\"T_f5875_row9_col1\" class=\"data row9 col1\" >$NB$</td>\n",
       "      <td id=\"T_f5875_row9_col2\" class=\"data row9 col2\" >65.411111</td>\n",
       "    </tr>\n",
       "    <tr>\n",
       "      <th id=\"T_f5875_level0_row10\" class=\"row_heading level0 row10\" >91</th>\n",
       "      <td id=\"T_f5875_row10_col0\" class=\"data row10 col0\" >$ID$</td>\n",
       "      <td id=\"T_f5875_row10_col1\" class=\"data row10 col1\" >$5NN$</td>\n",
       "      <td id=\"T_f5875_row10_col2\" class=\"data row10 col2\" >75.288889</td>\n",
       "    </tr>\n",
       "  </tbody>\n",
       "</table>\n"
      ],
      "text/plain": [
       "<pandas.io.formats.style.Styler at 0x7db8b88b0b50>"
      ]
     },
     "execution_count": 35,
     "metadata": {},
     "output_type": "execute_result"
    }
   ],
   "source": [
    "selected_pairs = auc_rank_df.iloc[ np.unique(np.concatenate([best_index, worst_index, rnd_index]))]\n",
    "selected_pairs.style.pipe(pretty_rank_table)"
   ]
  },
  {
   "cell_type": "code",
   "execution_count": 57,
   "id": "2f86bbee-2599-48a7-9cbd-8e679077ab92",
   "metadata": {
    "jupyter": {
     "source_hidden": true
    }
   },
   "outputs": [],
   "source": [
    "nemenyi_df = auc_df.copy()\n",
    "nemenyi_df.columns = nemenyi_df.columns.map('-'.join)\n",
    "nemenyi_df = sp.posthoc_nemenyi_friedman(nemenyi_df)\n",
    "\n",
    "selected_index = selected_pairs.method + '-' + selected_pairs.classifier\n",
    "general_nemenyi = nemenyi_df.loc[selected_index, selected_index]\n",
    "\n",
    "linhas, colunas = np.tril_indices_from(general_nemenyi, k=-1)\n",
    "general_nemenyi.values[linhas, colunas] = 1"
   ]
  },
  {
   "cell_type": "code",
   "execution_count": 55,
   "id": "73fbfcfe-5f34-4d0d-8d27-26a435b66061",
   "metadata": {
    "jupyter": {
     "source_hidden": true
    }
   },
   "outputs": [],
   "source": [
    "def show_nemenyi_table(styler):\n",
    "    def format_names(x):\n",
    "        res = x.split('-')\n",
    "        method = res[0]\n",
    "        classifier = res[1] if len(res) > 1 else ''\n",
    "\n",
    "        final = f'{utils.ABREV_DICT[method].strip()}'\n",
    "        \n",
    "        if classifier:\n",
    "            final+=f'+{utils.ABREV_MODEL[classifier]}'\n",
    "            \n",
    "        return final\n",
    "\n",
    "    def color_index(s):\n",
    "        return [\"background-color: darkblue\" if utils.get_hm_type(x.split('-')[0]) != 'Classic' else \"\" for x in s] \n",
    "    \n",
    "    def color_cells(s):\n",
    "        return ['color: green' if x <=0.01 \n",
    "                else 'color: lightgreen' if x <= 0.05\n",
    "                else 'color: orange' if x <= .1\n",
    "                else 'color: red' if x>=1\n",
    "                else ''\n",
    "                for x in s]\n",
    "        \n",
    "    def format_significance(val):\n",
    "        if val <= 0.01:\n",
    "            return '*'\n",
    "        elif val <= 0.05:\n",
    "            return '+'\n",
    "        elif val <=0.1:\n",
    "            return '.'\n",
    "        else:\n",
    "            return ''\n",
    "            \n",
    "\n",
    "    styler.apply_index(color_index, axis=0)\n",
    "    styler.apply_index(color_index, axis=1)\n",
    "    styler.format_index(format_names, axis=0)\n",
    "    styler.format_index(format_names, axis=1)\n",
    "    # styler.apply(color_cells, axis=1)\n",
    "    styler.format(format_significance)\n",
    "    styler.set_properties(**{'text-align': 'center'})\n",
    "\n",
    "\n",
    "    return styler\n",
    "    \n",
    "    "
   ]
  },
  {
   "cell_type": "code",
   "execution_count": 58,
   "id": "7aaa6293-802e-4972-9e33-e1741f843b91",
   "metadata": {},
   "outputs": [
    {
     "data": {
      "text/html": [
       "<style type=\"text/css\">\n",
       "#T_54bd4_row0_col0, #T_54bd4_row0_col1, #T_54bd4_row0_col2, #T_54bd4_row0_col3, #T_54bd4_row0_col4, #T_54bd4_row0_col5, #T_54bd4_row0_col6, #T_54bd4_row0_col7, #T_54bd4_row0_col8, #T_54bd4_row0_col9, #T_54bd4_row0_col10, #T_54bd4_row1_col0, #T_54bd4_row1_col1, #T_54bd4_row1_col2, #T_54bd4_row1_col3, #T_54bd4_row1_col4, #T_54bd4_row1_col5, #T_54bd4_row1_col6, #T_54bd4_row1_col7, #T_54bd4_row1_col8, #T_54bd4_row1_col9, #T_54bd4_row1_col10, #T_54bd4_row2_col0, #T_54bd4_row2_col1, #T_54bd4_row2_col2, #T_54bd4_row2_col3, #T_54bd4_row2_col4, #T_54bd4_row2_col5, #T_54bd4_row2_col6, #T_54bd4_row2_col7, #T_54bd4_row2_col8, #T_54bd4_row2_col9, #T_54bd4_row2_col10, #T_54bd4_row3_col0, #T_54bd4_row3_col1, #T_54bd4_row3_col2, #T_54bd4_row3_col3, #T_54bd4_row3_col4, #T_54bd4_row3_col5, #T_54bd4_row3_col6, #T_54bd4_row3_col7, #T_54bd4_row3_col8, #T_54bd4_row3_col9, #T_54bd4_row3_col10, #T_54bd4_row4_col0, #T_54bd4_row4_col1, #T_54bd4_row4_col2, #T_54bd4_row4_col3, #T_54bd4_row4_col4, #T_54bd4_row4_col5, #T_54bd4_row4_col6, #T_54bd4_row4_col7, #T_54bd4_row4_col8, #T_54bd4_row4_col9, #T_54bd4_row4_col10, #T_54bd4_row5_col0, #T_54bd4_row5_col1, #T_54bd4_row5_col2, #T_54bd4_row5_col3, #T_54bd4_row5_col4, #T_54bd4_row5_col5, #T_54bd4_row5_col6, #T_54bd4_row5_col7, #T_54bd4_row5_col8, #T_54bd4_row5_col9, #T_54bd4_row5_col10, #T_54bd4_row6_col0, #T_54bd4_row6_col1, #T_54bd4_row6_col2, #T_54bd4_row6_col3, #T_54bd4_row6_col4, #T_54bd4_row6_col5, #T_54bd4_row6_col6, #T_54bd4_row6_col7, #T_54bd4_row6_col8, #T_54bd4_row6_col9, #T_54bd4_row6_col10, #T_54bd4_row7_col0, #T_54bd4_row7_col1, #T_54bd4_row7_col2, #T_54bd4_row7_col3, #T_54bd4_row7_col4, #T_54bd4_row7_col5, #T_54bd4_row7_col6, #T_54bd4_row7_col7, #T_54bd4_row7_col8, #T_54bd4_row7_col9, #T_54bd4_row7_col10, #T_54bd4_row8_col0, #T_54bd4_row8_col1, #T_54bd4_row8_col2, #T_54bd4_row8_col3, #T_54bd4_row8_col4, #T_54bd4_row8_col5, #T_54bd4_row8_col6, #T_54bd4_row8_col7, #T_54bd4_row8_col8, #T_54bd4_row8_col9, #T_54bd4_row8_col10, #T_54bd4_row9_col0, #T_54bd4_row9_col1, #T_54bd4_row9_col2, #T_54bd4_row9_col3, #T_54bd4_row9_col4, #T_54bd4_row9_col5, #T_54bd4_row9_col6, #T_54bd4_row9_col7, #T_54bd4_row9_col8, #T_54bd4_row9_col9, #T_54bd4_row9_col10, #T_54bd4_row10_col0, #T_54bd4_row10_col1, #T_54bd4_row10_col2, #T_54bd4_row10_col3, #T_54bd4_row10_col4, #T_54bd4_row10_col5, #T_54bd4_row10_col6, #T_54bd4_row10_col7, #T_54bd4_row10_col8, #T_54bd4_row10_col9, #T_54bd4_row10_col10 {\n",
       "  text-align: center;\n",
       "}\n",
       "#T_54bd4_level0_row2, #T_54bd4_level0_row9 {\n",
       "  background-color: darkblue;\n",
       "}\n",
       "#T_54bd4_level0_col2, #T_54bd4_level0_col9 {\n",
       "  background-color: darkblue;\n",
       "}\n",
       "</style>\n",
       "<table id=\"T_54bd4\">\n",
       "  <thead>\n",
       "    <tr>\n",
       "      <th class=\"blank level0\" >&nbsp;</th>\n",
       "      <th id=\"T_54bd4_level0_col0\" class=\"col_heading level0 col0\" >$TU$+$CART$</th>\n",
       "      <th id=\"T_54bd4_level0_col1\" class=\"col_heading level0 col1\" >$Rnd$+$CART$</th>\n",
       "      <th id=\"T_54bd4_level0_col2\" class=\"col_heading level0 col2\" >$kDN$+$SVM$</th>\n",
       "      <th id=\"T_54bd4_level0_col3\" class=\"col_heading level0 col3\" >$TU$+$NB$</th>\n",
       "      <th id=\"T_54bd4_level0_col4\" class=\"col_heading level0 col4\" >$Rnd$+$NB$</th>\n",
       "      <th id=\"T_54bd4_level0_col5\" class=\"col_heading level0 col5\" >$Rnd$+$SVM$</th>\n",
       "      <th id=\"T_54bd4_level0_col6\" class=\"col_heading level0 col6\" >$Rnd$+$5NN$</th>\n",
       "      <th id=\"T_54bd4_level0_col7\" class=\"col_heading level0 col7\" >$MS$+$CART$</th>\n",
       "      <th id=\"T_54bd4_level0_col8\" class=\"col_heading level0 col8\" >$ID$+$SVM$</th>\n",
       "      <th id=\"T_54bd4_level0_col9\" class=\"col_heading level0 col9\" >$CB$+$NB$</th>\n",
       "      <th id=\"T_54bd4_level0_col10\" class=\"col_heading level0 col10\" >$ID$+$5NN$</th>\n",
       "    </tr>\n",
       "  </thead>\n",
       "  <tbody>\n",
       "    <tr>\n",
       "      <th id=\"T_54bd4_level0_row0\" class=\"row_heading level0 row0\" >$TU$+$CART$</th>\n",
       "      <td id=\"T_54bd4_row0_col0\" class=\"data row0 col0\" ></td>\n",
       "      <td id=\"T_54bd4_row0_col1\" class=\"data row0 col1\" ></td>\n",
       "      <td id=\"T_54bd4_row0_col2\" class=\"data row0 col2\" ></td>\n",
       "      <td id=\"T_54bd4_row0_col3\" class=\"data row0 col3\" ></td>\n",
       "      <td id=\"T_54bd4_row0_col4\" class=\"data row0 col4\" ></td>\n",
       "      <td id=\"T_54bd4_row0_col5\" class=\"data row0 col5\" ></td>\n",
       "      <td id=\"T_54bd4_row0_col6\" class=\"data row0 col6\" ></td>\n",
       "      <td id=\"T_54bd4_row0_col7\" class=\"data row0 col7\" >*</td>\n",
       "      <td id=\"T_54bd4_row0_col8\" class=\"data row0 col8\" >*</td>\n",
       "      <td id=\"T_54bd4_row0_col9\" class=\"data row0 col9\" >*</td>\n",
       "      <td id=\"T_54bd4_row0_col10\" class=\"data row0 col10\" >*</td>\n",
       "    </tr>\n",
       "    <tr>\n",
       "      <th id=\"T_54bd4_level0_row1\" class=\"row_heading level0 row1\" >$Rnd$+$CART$</th>\n",
       "      <td id=\"T_54bd4_row1_col0\" class=\"data row1 col0\" ></td>\n",
       "      <td id=\"T_54bd4_row1_col1\" class=\"data row1 col1\" ></td>\n",
       "      <td id=\"T_54bd4_row1_col2\" class=\"data row1 col2\" ></td>\n",
       "      <td id=\"T_54bd4_row1_col3\" class=\"data row1 col3\" ></td>\n",
       "      <td id=\"T_54bd4_row1_col4\" class=\"data row1 col4\" ></td>\n",
       "      <td id=\"T_54bd4_row1_col5\" class=\"data row1 col5\" ></td>\n",
       "      <td id=\"T_54bd4_row1_col6\" class=\"data row1 col6\" ></td>\n",
       "      <td id=\"T_54bd4_row1_col7\" class=\"data row1 col7\" >*</td>\n",
       "      <td id=\"T_54bd4_row1_col8\" class=\"data row1 col8\" >*</td>\n",
       "      <td id=\"T_54bd4_row1_col9\" class=\"data row1 col9\" >*</td>\n",
       "      <td id=\"T_54bd4_row1_col10\" class=\"data row1 col10\" >*</td>\n",
       "    </tr>\n",
       "    <tr>\n",
       "      <th id=\"T_54bd4_level0_row2\" class=\"row_heading level0 row2\" >$kDN$+$SVM$</th>\n",
       "      <td id=\"T_54bd4_row2_col0\" class=\"data row2 col0\" ></td>\n",
       "      <td id=\"T_54bd4_row2_col1\" class=\"data row2 col1\" ></td>\n",
       "      <td id=\"T_54bd4_row2_col2\" class=\"data row2 col2\" ></td>\n",
       "      <td id=\"T_54bd4_row2_col3\" class=\"data row2 col3\" ></td>\n",
       "      <td id=\"T_54bd4_row2_col4\" class=\"data row2 col4\" ></td>\n",
       "      <td id=\"T_54bd4_row2_col5\" class=\"data row2 col5\" ></td>\n",
       "      <td id=\"T_54bd4_row2_col6\" class=\"data row2 col6\" ></td>\n",
       "      <td id=\"T_54bd4_row2_col7\" class=\"data row2 col7\" >*</td>\n",
       "      <td id=\"T_54bd4_row2_col8\" class=\"data row2 col8\" >*</td>\n",
       "      <td id=\"T_54bd4_row2_col9\" class=\"data row2 col9\" >*</td>\n",
       "      <td id=\"T_54bd4_row2_col10\" class=\"data row2 col10\" >*</td>\n",
       "    </tr>\n",
       "    <tr>\n",
       "      <th id=\"T_54bd4_level0_row3\" class=\"row_heading level0 row3\" >$TU$+$NB$</th>\n",
       "      <td id=\"T_54bd4_row3_col0\" class=\"data row3 col0\" ></td>\n",
       "      <td id=\"T_54bd4_row3_col1\" class=\"data row3 col1\" ></td>\n",
       "      <td id=\"T_54bd4_row3_col2\" class=\"data row3 col2\" ></td>\n",
       "      <td id=\"T_54bd4_row3_col3\" class=\"data row3 col3\" ></td>\n",
       "      <td id=\"T_54bd4_row3_col4\" class=\"data row3 col4\" ></td>\n",
       "      <td id=\"T_54bd4_row3_col5\" class=\"data row3 col5\" ></td>\n",
       "      <td id=\"T_54bd4_row3_col6\" class=\"data row3 col6\" ></td>\n",
       "      <td id=\"T_54bd4_row3_col7\" class=\"data row3 col7\" >*</td>\n",
       "      <td id=\"T_54bd4_row3_col8\" class=\"data row3 col8\" >*</td>\n",
       "      <td id=\"T_54bd4_row3_col9\" class=\"data row3 col9\" >*</td>\n",
       "      <td id=\"T_54bd4_row3_col10\" class=\"data row3 col10\" >*</td>\n",
       "    </tr>\n",
       "    <tr>\n",
       "      <th id=\"T_54bd4_level0_row4\" class=\"row_heading level0 row4\" >$Rnd$+$NB$</th>\n",
       "      <td id=\"T_54bd4_row4_col0\" class=\"data row4 col0\" ></td>\n",
       "      <td id=\"T_54bd4_row4_col1\" class=\"data row4 col1\" ></td>\n",
       "      <td id=\"T_54bd4_row4_col2\" class=\"data row4 col2\" ></td>\n",
       "      <td id=\"T_54bd4_row4_col3\" class=\"data row4 col3\" ></td>\n",
       "      <td id=\"T_54bd4_row4_col4\" class=\"data row4 col4\" ></td>\n",
       "      <td id=\"T_54bd4_row4_col5\" class=\"data row4 col5\" ></td>\n",
       "      <td id=\"T_54bd4_row4_col6\" class=\"data row4 col6\" ></td>\n",
       "      <td id=\"T_54bd4_row4_col7\" class=\"data row4 col7\" >*</td>\n",
       "      <td id=\"T_54bd4_row4_col8\" class=\"data row4 col8\" >*</td>\n",
       "      <td id=\"T_54bd4_row4_col9\" class=\"data row4 col9\" >*</td>\n",
       "      <td id=\"T_54bd4_row4_col10\" class=\"data row4 col10\" >*</td>\n",
       "    </tr>\n",
       "    <tr>\n",
       "      <th id=\"T_54bd4_level0_row5\" class=\"row_heading level0 row5\" >$Rnd$+$SVM$</th>\n",
       "      <td id=\"T_54bd4_row5_col0\" class=\"data row5 col0\" ></td>\n",
       "      <td id=\"T_54bd4_row5_col1\" class=\"data row5 col1\" ></td>\n",
       "      <td id=\"T_54bd4_row5_col2\" class=\"data row5 col2\" ></td>\n",
       "      <td id=\"T_54bd4_row5_col3\" class=\"data row5 col3\" ></td>\n",
       "      <td id=\"T_54bd4_row5_col4\" class=\"data row5 col4\" ></td>\n",
       "      <td id=\"T_54bd4_row5_col5\" class=\"data row5 col5\" ></td>\n",
       "      <td id=\"T_54bd4_row5_col6\" class=\"data row5 col6\" ></td>\n",
       "      <td id=\"T_54bd4_row5_col7\" class=\"data row5 col7\" >*</td>\n",
       "      <td id=\"T_54bd4_row5_col8\" class=\"data row5 col8\" >*</td>\n",
       "      <td id=\"T_54bd4_row5_col9\" class=\"data row5 col9\" >*</td>\n",
       "      <td id=\"T_54bd4_row5_col10\" class=\"data row5 col10\" >*</td>\n",
       "    </tr>\n",
       "    <tr>\n",
       "      <th id=\"T_54bd4_level0_row6\" class=\"row_heading level0 row6\" >$Rnd$+$5NN$</th>\n",
       "      <td id=\"T_54bd4_row6_col0\" class=\"data row6 col0\" ></td>\n",
       "      <td id=\"T_54bd4_row6_col1\" class=\"data row6 col1\" ></td>\n",
       "      <td id=\"T_54bd4_row6_col2\" class=\"data row6 col2\" ></td>\n",
       "      <td id=\"T_54bd4_row6_col3\" class=\"data row6 col3\" ></td>\n",
       "      <td id=\"T_54bd4_row6_col4\" class=\"data row6 col4\" ></td>\n",
       "      <td id=\"T_54bd4_row6_col5\" class=\"data row6 col5\" ></td>\n",
       "      <td id=\"T_54bd4_row6_col6\" class=\"data row6 col6\" ></td>\n",
       "      <td id=\"T_54bd4_row6_col7\" class=\"data row6 col7\" >+</td>\n",
       "      <td id=\"T_54bd4_row6_col8\" class=\"data row6 col8\" >*</td>\n",
       "      <td id=\"T_54bd4_row6_col9\" class=\"data row6 col9\" >*</td>\n",
       "      <td id=\"T_54bd4_row6_col10\" class=\"data row6 col10\" >*</td>\n",
       "    </tr>\n",
       "    <tr>\n",
       "      <th id=\"T_54bd4_level0_row7\" class=\"row_heading level0 row7\" >$MS$+$CART$</th>\n",
       "      <td id=\"T_54bd4_row7_col0\" class=\"data row7 col0\" ></td>\n",
       "      <td id=\"T_54bd4_row7_col1\" class=\"data row7 col1\" ></td>\n",
       "      <td id=\"T_54bd4_row7_col2\" class=\"data row7 col2\" ></td>\n",
       "      <td id=\"T_54bd4_row7_col3\" class=\"data row7 col3\" ></td>\n",
       "      <td id=\"T_54bd4_row7_col4\" class=\"data row7 col4\" ></td>\n",
       "      <td id=\"T_54bd4_row7_col5\" class=\"data row7 col5\" ></td>\n",
       "      <td id=\"T_54bd4_row7_col6\" class=\"data row7 col6\" ></td>\n",
       "      <td id=\"T_54bd4_row7_col7\" class=\"data row7 col7\" ></td>\n",
       "      <td id=\"T_54bd4_row7_col8\" class=\"data row7 col8\" ></td>\n",
       "      <td id=\"T_54bd4_row7_col9\" class=\"data row7 col9\" ></td>\n",
       "      <td id=\"T_54bd4_row7_col10\" class=\"data row7 col10\" >*</td>\n",
       "    </tr>\n",
       "    <tr>\n",
       "      <th id=\"T_54bd4_level0_row8\" class=\"row_heading level0 row8\" >$ID$+$SVM$</th>\n",
       "      <td id=\"T_54bd4_row8_col0\" class=\"data row8 col0\" ></td>\n",
       "      <td id=\"T_54bd4_row8_col1\" class=\"data row8 col1\" ></td>\n",
       "      <td id=\"T_54bd4_row8_col2\" class=\"data row8 col2\" ></td>\n",
       "      <td id=\"T_54bd4_row8_col3\" class=\"data row8 col3\" ></td>\n",
       "      <td id=\"T_54bd4_row8_col4\" class=\"data row8 col4\" ></td>\n",
       "      <td id=\"T_54bd4_row8_col5\" class=\"data row8 col5\" ></td>\n",
       "      <td id=\"T_54bd4_row8_col6\" class=\"data row8 col6\" ></td>\n",
       "      <td id=\"T_54bd4_row8_col7\" class=\"data row8 col7\" ></td>\n",
       "      <td id=\"T_54bd4_row8_col8\" class=\"data row8 col8\" ></td>\n",
       "      <td id=\"T_54bd4_row8_col9\" class=\"data row8 col9\" ></td>\n",
       "      <td id=\"T_54bd4_row8_col10\" class=\"data row8 col10\" ></td>\n",
       "    </tr>\n",
       "    <tr>\n",
       "      <th id=\"T_54bd4_level0_row9\" class=\"row_heading level0 row9\" >$CB$+$NB$</th>\n",
       "      <td id=\"T_54bd4_row9_col0\" class=\"data row9 col0\" ></td>\n",
       "      <td id=\"T_54bd4_row9_col1\" class=\"data row9 col1\" ></td>\n",
       "      <td id=\"T_54bd4_row9_col2\" class=\"data row9 col2\" ></td>\n",
       "      <td id=\"T_54bd4_row9_col3\" class=\"data row9 col3\" ></td>\n",
       "      <td id=\"T_54bd4_row9_col4\" class=\"data row9 col4\" ></td>\n",
       "      <td id=\"T_54bd4_row9_col5\" class=\"data row9 col5\" ></td>\n",
       "      <td id=\"T_54bd4_row9_col6\" class=\"data row9 col6\" ></td>\n",
       "      <td id=\"T_54bd4_row9_col7\" class=\"data row9 col7\" ></td>\n",
       "      <td id=\"T_54bd4_row9_col8\" class=\"data row9 col8\" ></td>\n",
       "      <td id=\"T_54bd4_row9_col9\" class=\"data row9 col9\" ></td>\n",
       "      <td id=\"T_54bd4_row9_col10\" class=\"data row9 col10\" ></td>\n",
       "    </tr>\n",
       "    <tr>\n",
       "      <th id=\"T_54bd4_level0_row10\" class=\"row_heading level0 row10\" >$ID$+$5NN$</th>\n",
       "      <td id=\"T_54bd4_row10_col0\" class=\"data row10 col0\" ></td>\n",
       "      <td id=\"T_54bd4_row10_col1\" class=\"data row10 col1\" ></td>\n",
       "      <td id=\"T_54bd4_row10_col2\" class=\"data row10 col2\" ></td>\n",
       "      <td id=\"T_54bd4_row10_col3\" class=\"data row10 col3\" ></td>\n",
       "      <td id=\"T_54bd4_row10_col4\" class=\"data row10 col4\" ></td>\n",
       "      <td id=\"T_54bd4_row10_col5\" class=\"data row10 col5\" ></td>\n",
       "      <td id=\"T_54bd4_row10_col6\" class=\"data row10 col6\" ></td>\n",
       "      <td id=\"T_54bd4_row10_col7\" class=\"data row10 col7\" ></td>\n",
       "      <td id=\"T_54bd4_row10_col8\" class=\"data row10 col8\" ></td>\n",
       "      <td id=\"T_54bd4_row10_col9\" class=\"data row10 col9\" ></td>\n",
       "      <td id=\"T_54bd4_row10_col10\" class=\"data row10 col10\" ></td>\n",
       "    </tr>\n",
       "  </tbody>\n",
       "</table>\n"
      ],
      "text/plain": [
       "<pandas.io.formats.style.Styler at 0x7db8984476a0>"
      ]
     },
     "execution_count": 58,
     "metadata": {},
     "output_type": "execute_result"
    }
   ],
   "source": [
    "general_nemenyi.style.pipe(show_nemenyi_table)"
   ]
  },
  {
   "cell_type": "markdown",
   "id": "4839f67c-e7c8-4328-a5c1-269f0cdc6da0",
   "metadata": {},
   "source": [
    "#### Análise por classificador"
   ]
  },
  {
   "cell_type": "code",
   "execution_count": 39,
   "id": "429f59e1-9c66-45d4-a5b1-c83669855285",
   "metadata": {},
   "outputs": [
    {
     "data": {
      "text/plain": [
       "(23,)"
      ]
     },
     "execution_count": 39,
     "metadata": {},
     "output_type": "execute_result"
    }
   ],
   "source": [
    "auc_rank_df[auc_rank_df.classifier == \"5NN\"].sort_values(by=\"meanrank\").method.values.shape"
   ]
  },
  {
   "cell_type": "code",
   "execution_count": 56,
   "id": "90ea1d83-a974-4d89-99cf-eb81b060ebd0",
   "metadata": {},
   "outputs": [
    {
     "data": {
      "application/vnd.jupyter.widget-view+json": {
       "model_id": "d102e450590a42febc42749bb086f5dd",
       "version_major": 2,
       "version_minor": 0
      },
      "text/plain": [
       "interactive(children=(ToggleButtons(description='Classificador:', options=('GaussianNB', 'SVC', 'DecisionTree'…"
      ]
     },
     "metadata": {},
     "output_type": "display_data"
    },
    {
     "data": {
      "text/plain": [
       "<function __main__.apply_nemenyi(clf)>"
      ]
     },
     "execution_count": 56,
     "metadata": {},
     "output_type": "execute_result"
    }
   ],
   "source": [
    "def apply_nemenyi(clf):\n",
    "    df = sp.posthoc_nemenyi_friedman(auc_df.iloc[:, auc_df.columns.get_level_values(\"classifier\")==clf])\n",
    "    \n",
    "    sorted_index = auc_rank_df[auc_rank_df.classifier == clf].sort_values(by=\"meanrank\").method.values\n",
    "\n",
    "    # mask = df < 0.05\n",
    "    # resultados = {row: mask.columns[mask.loc[row]].tolist() for row in df.index }\n",
    "    # resultados = {k: ', '.join(map(utils.ABREV_DICT.get, vs)) for k, vs in resultados.items()}\n",
    "    # return pd.Series(resultados).to_frame().style.format_index(utils.ABREV_DICT.get)\n",
    "\n",
    "    df = df.loc[sorted_index, sorted_index]\n",
    "    \n",
    "    linhas, colunas = np.tril_indices_from(df, k=-1)\n",
    "\n",
    "    df.values[linhas, colunas] = 1\n",
    "    \n",
    "    return df.style.pipe(show_nemenyi_table).set_caption(f\"One versus one ({utils.ABREV_MODEL[clf]})\")\n",
    "\n",
    "w.interact(apply_nemenyi,\n",
    "           clf=w.ToggleButtons(options=utils.ABREV_MODEL.keys(), description=\"Classificador:\"))"
   ]
  },
  {
   "cell_type": "code",
   "execution_count": 43,
   "id": "c98d66a3-8f2e-41bd-81d4-b831f64fcebc",
   "metadata": {},
   "outputs": [
    {
     "data": {
      "text/latex": [
       "\\begin{table}\n",
       "\\end{table}\n"
      ],
      "text/plain": [
       "<IPython.core.display.Latex object>"
      ]
     },
     "metadata": {},
     "output_type": "display_data"
    }
   ],
   "source": []
  }
 ],
 "metadata": {
  "kernelspec": {
   "display_name": "Python 3 (ipykernel)",
   "language": "python",
   "name": "python3"
  },
  "language_info": {
   "codemirror_mode": {
    "name": "ipython",
    "version": 3
   },
   "file_extension": ".py",
   "mimetype": "text/x-python",
   "name": "python",
   "nbconvert_exporter": "python",
   "pygments_lexer": "ipython3",
   "version": "3.8.10"
  }
 },
 "nbformat": 4,
 "nbformat_minor": 5
}

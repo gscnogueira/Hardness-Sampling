{
 "cells": [
  {
   "cell_type": "markdown",
   "id": "4e4f783c-edc4-405d-bfcd-05cc7af3183c",
   "metadata": {},
   "source": [
    "# Avaliação de Datasets problemáticos"
   ]
  },
  {
   "cell_type": "code",
   "execution_count": 247,
   "id": "c1480896-4135-4fe9-a911-165296cffbcc",
   "metadata": {},
   "outputs": [],
   "source": [
    "import os\n",
    "\n",
    "import ipywidgets as widgets\n",
    "import pandas as pd\n",
    "import numpy as np\n",
    "from sklearn.svm import SVC\n",
    "from sklearn.model_selection import cross_val_score, StratifiedKFold\n",
    "import matplotlib.pyplot as plt"
   ]
  },
  {
   "cell_type": "code",
   "execution_count": 243,
   "id": "cb0a59d8-aa12-4146-8751-5b7bab510a51",
   "metadata": {},
   "outputs": [],
   "source": [
    "def get_dataset_df(dataset_name):\n",
    "    return pd.read_csv(os.path.join(DATA_DIR, 'csv', dataset_name + '.csv'))\n"
   ]
  },
  {
   "cell_type": "markdown",
   "id": "28005c9f-3230-4fb9-b6c9-51af7053b3a7",
   "metadata": {},
   "source": [
    "## `ozone-eighthr`"
   ]
  },
  {
   "cell_type": "code",
   "execution_count": 252,
   "id": "a186d4b5-7c3e-4ac0-8451-ec199b97264b",
   "metadata": {},
   "outputs": [
    {
     "data": {
      "text/html": [
       "<div>\n",
       "<style scoped>\n",
       "    .dataframe tbody tr th:only-of-type {\n",
       "        vertical-align: middle;\n",
       "    }\n",
       "\n",
       "    .dataframe tbody tr th {\n",
       "        vertical-align: top;\n",
       "    }\n",
       "\n",
       "    .dataframe thead th {\n",
       "        text-align: right;\n",
       "    }\n",
       "</style>\n",
       "<table border=\"1\" class=\"dataframe\">\n",
       "  <thead>\n",
       "    <tr style=\"text-align: right;\">\n",
       "      <th></th>\n",
       "      <th>remainder__V1</th>\n",
       "      <th>remainder__V2</th>\n",
       "      <th>remainder__V3</th>\n",
       "      <th>remainder__V4</th>\n",
       "      <th>remainder__V5</th>\n",
       "      <th>remainder__V6</th>\n",
       "      <th>remainder__V7</th>\n",
       "      <th>remainder__V8</th>\n",
       "      <th>remainder__V9</th>\n",
       "      <th>remainder__V10</th>\n",
       "      <th>...</th>\n",
       "      <th>remainder__V64</th>\n",
       "      <th>remainder__V65</th>\n",
       "      <th>remainder__V66</th>\n",
       "      <th>remainder__V67</th>\n",
       "      <th>remainder__V68</th>\n",
       "      <th>remainder__V69</th>\n",
       "      <th>remainder__V70</th>\n",
       "      <th>remainder__V71</th>\n",
       "      <th>remainder__V72</th>\n",
       "      <th>remainder__Class</th>\n",
       "    </tr>\n",
       "  </thead>\n",
       "  <tbody>\n",
       "    <tr>\n",
       "      <th>count</th>\n",
       "      <td>2534.000000</td>\n",
       "      <td>2534.000000</td>\n",
       "      <td>2534.000000</td>\n",
       "      <td>2534.000000</td>\n",
       "      <td>2534.000000</td>\n",
       "      <td>2534.000000</td>\n",
       "      <td>2534.000000</td>\n",
       "      <td>2534.000000</td>\n",
       "      <td>2534.000000</td>\n",
       "      <td>2534.000000</td>\n",
       "      <td>...</td>\n",
       "      <td>2534.000000</td>\n",
       "      <td>2534.000000</td>\n",
       "      <td>2534.000000</td>\n",
       "      <td>2534.000000</td>\n",
       "      <td>2534.000000</td>\n",
       "      <td>2534.000000</td>\n",
       "      <td>2534.000000</td>\n",
       "      <td>2534.000000</td>\n",
       "      <td>2534.000000</td>\n",
       "      <td>2534.000000</td>\n",
       "    </tr>\n",
       "    <tr>\n",
       "      <th>mean</th>\n",
       "      <td>1.640179</td>\n",
       "      <td>1.586351</td>\n",
       "      <td>1.545580</td>\n",
       "      <td>1.526405</td>\n",
       "      <td>1.522624</td>\n",
       "      <td>1.542417</td>\n",
       "      <td>1.637896</td>\n",
       "      <td>2.047127</td>\n",
       "      <td>2.539037</td>\n",
       "      <td>2.847708</td>\n",
       "      <td>...</td>\n",
       "      <td>0.304716</td>\n",
       "      <td>9.872418</td>\n",
       "      <td>0.830116</td>\n",
       "      <td>5818.821222</td>\n",
       "      <td>10.511051</td>\n",
       "      <td>37.388335</td>\n",
       "      <td>10164.198442</td>\n",
       "      <td>-0.119949</td>\n",
       "      <td>0.372026</td>\n",
       "      <td>0.063141</td>\n",
       "    </tr>\n",
       "    <tr>\n",
       "      <th>std</th>\n",
       "      <td>1.194568</td>\n",
       "      <td>1.191320</td>\n",
       "      <td>1.165651</td>\n",
       "      <td>1.133908</td>\n",
       "      <td>1.127523</td>\n",
       "      <td>1.102557</td>\n",
       "      <td>1.092811</td>\n",
       "      <td>1.092315</td>\n",
       "      <td>1.115448</td>\n",
       "      <td>1.150067</td>\n",
       "      <td>...</td>\n",
       "      <td>0.242858</td>\n",
       "      <td>9.127381</td>\n",
       "      <td>7.043762</td>\n",
       "      <td>77.410110</td>\n",
       "      <td>20.154266</td>\n",
       "      <td>10.949074</td>\n",
       "      <td>51.428116</td>\n",
       "      <td>34.693349</td>\n",
       "      <td>1.317438</td>\n",
       "      <td>0.243265</td>\n",
       "    </tr>\n",
       "    <tr>\n",
       "      <th>min</th>\n",
       "      <td>0.000000</td>\n",
       "      <td>0.000000</td>\n",
       "      <td>0.000000</td>\n",
       "      <td>0.000000</td>\n",
       "      <td>0.000000</td>\n",
       "      <td>0.000000</td>\n",
       "      <td>0.000000</td>\n",
       "      <td>0.000000</td>\n",
       "      <td>0.100000</td>\n",
       "      <td>0.100000</td>\n",
       "      <td>...</td>\n",
       "      <td>0.010000</td>\n",
       "      <td>-14.920000</td>\n",
       "      <td>-25.990000</td>\n",
       "      <td>5480.000000</td>\n",
       "      <td>-56.700000</td>\n",
       "      <td>-10.100000</td>\n",
       "      <td>9975.000000</td>\n",
       "      <td>-135.000000</td>\n",
       "      <td>0.000000</td>\n",
       "      <td>0.000000</td>\n",
       "    </tr>\n",
       "    <tr>\n",
       "      <th>25%</th>\n",
       "      <td>0.800000</td>\n",
       "      <td>0.700000</td>\n",
       "      <td>0.700000</td>\n",
       "      <td>0.700000</td>\n",
       "      <td>0.700000</td>\n",
       "      <td>0.700000</td>\n",
       "      <td>0.800000</td>\n",
       "      <td>1.300000</td>\n",
       "      <td>1.800000</td>\n",
       "      <td>2.100000</td>\n",
       "      <td>...</td>\n",
       "      <td>0.100000</td>\n",
       "      <td>3.130000</td>\n",
       "      <td>-3.340000</td>\n",
       "      <td>5771.250000</td>\n",
       "      <td>-2.437500</td>\n",
       "      <td>33.200000</td>\n",
       "      <td>10130.000000</td>\n",
       "      <td>-20.000000</td>\n",
       "      <td>0.000000</td>\n",
       "      <td>0.000000</td>\n",
       "    </tr>\n",
       "    <tr>\n",
       "      <th>50%</th>\n",
       "      <td>1.600000</td>\n",
       "      <td>1.500000</td>\n",
       "      <td>1.400000</td>\n",
       "      <td>1.400000</td>\n",
       "      <td>1.400000</td>\n",
       "      <td>1.400000</td>\n",
       "      <td>1.600000</td>\n",
       "      <td>2.047127</td>\n",
       "      <td>2.539037</td>\n",
       "      <td>2.847708</td>\n",
       "      <td>...</td>\n",
       "      <td>0.250000</td>\n",
       "      <td>9.872418</td>\n",
       "      <td>0.830116</td>\n",
       "      <td>5825.000000</td>\n",
       "      <td>13.000000</td>\n",
       "      <td>40.500000</td>\n",
       "      <td>10160.000000</td>\n",
       "      <td>-0.119949</td>\n",
       "      <td>0.000000</td>\n",
       "      <td>0.000000</td>\n",
       "    </tr>\n",
       "    <tr>\n",
       "      <th>75%</th>\n",
       "      <td>2.200000</td>\n",
       "      <td>2.100000</td>\n",
       "      <td>2.100000</td>\n",
       "      <td>2.075000</td>\n",
       "      <td>2.000000</td>\n",
       "      <td>2.000000</td>\n",
       "      <td>2.100000</td>\n",
       "      <td>2.600000</td>\n",
       "      <td>3.200000</td>\n",
       "      <td>3.500000</td>\n",
       "      <td>...</td>\n",
       "      <td>0.460000</td>\n",
       "      <td>16.097500</td>\n",
       "      <td>4.380000</td>\n",
       "      <td>5880.000000</td>\n",
       "      <td>27.737500</td>\n",
       "      <td>44.950000</td>\n",
       "      <td>10190.000000</td>\n",
       "      <td>15.000000</td>\n",
       "      <td>0.050000</td>\n",
       "      <td>0.000000</td>\n",
       "    </tr>\n",
       "    <tr>\n",
       "      <th>max</th>\n",
       "      <td>7.500000</td>\n",
       "      <td>7.700000</td>\n",
       "      <td>7.100000</td>\n",
       "      <td>7.300000</td>\n",
       "      <td>7.200000</td>\n",
       "      <td>7.400000</td>\n",
       "      <td>7.400000</td>\n",
       "      <td>7.500000</td>\n",
       "      <td>9.200000</td>\n",
       "      <td>8.500000</td>\n",
       "      <td>...</td>\n",
       "      <td>1.000000</td>\n",
       "      <td>42.360000</td>\n",
       "      <td>30.420000</td>\n",
       "      <td>5965.000000</td>\n",
       "      <td>42.050000</td>\n",
       "      <td>59.150000</td>\n",
       "      <td>10350.000000</td>\n",
       "      <td>140.000000</td>\n",
       "      <td>20.650000</td>\n",
       "      <td>1.000000</td>\n",
       "    </tr>\n",
       "  </tbody>\n",
       "</table>\n",
       "<p>8 rows × 73 columns</p>\n",
       "</div>"
      ],
      "text/plain": [
       "       remainder__V1  remainder__V2  remainder__V3  remainder__V4  \\\n",
       "count    2534.000000    2534.000000    2534.000000    2534.000000   \n",
       "mean        1.640179       1.586351       1.545580       1.526405   \n",
       "std         1.194568       1.191320       1.165651       1.133908   \n",
       "min         0.000000       0.000000       0.000000       0.000000   \n",
       "25%         0.800000       0.700000       0.700000       0.700000   \n",
       "50%         1.600000       1.500000       1.400000       1.400000   \n",
       "75%         2.200000       2.100000       2.100000       2.075000   \n",
       "max         7.500000       7.700000       7.100000       7.300000   \n",
       "\n",
       "       remainder__V5  remainder__V6  remainder__V7  remainder__V8  \\\n",
       "count    2534.000000    2534.000000    2534.000000    2534.000000   \n",
       "mean        1.522624       1.542417       1.637896       2.047127   \n",
       "std         1.127523       1.102557       1.092811       1.092315   \n",
       "min         0.000000       0.000000       0.000000       0.000000   \n",
       "25%         0.700000       0.700000       0.800000       1.300000   \n",
       "50%         1.400000       1.400000       1.600000       2.047127   \n",
       "75%         2.000000       2.000000       2.100000       2.600000   \n",
       "max         7.200000       7.400000       7.400000       7.500000   \n",
       "\n",
       "       remainder__V9  remainder__V10  ...  remainder__V64  remainder__V65  \\\n",
       "count    2534.000000     2534.000000  ...     2534.000000     2534.000000   \n",
       "mean        2.539037        2.847708  ...        0.304716        9.872418   \n",
       "std         1.115448        1.150067  ...        0.242858        9.127381   \n",
       "min         0.100000        0.100000  ...        0.010000      -14.920000   \n",
       "25%         1.800000        2.100000  ...        0.100000        3.130000   \n",
       "50%         2.539037        2.847708  ...        0.250000        9.872418   \n",
       "75%         3.200000        3.500000  ...        0.460000       16.097500   \n",
       "max         9.200000        8.500000  ...        1.000000       42.360000   \n",
       "\n",
       "       remainder__V66  remainder__V67  remainder__V68  remainder__V69  \\\n",
       "count     2534.000000     2534.000000     2534.000000     2534.000000   \n",
       "mean         0.830116     5818.821222       10.511051       37.388335   \n",
       "std          7.043762       77.410110       20.154266       10.949074   \n",
       "min        -25.990000     5480.000000      -56.700000      -10.100000   \n",
       "25%         -3.340000     5771.250000       -2.437500       33.200000   \n",
       "50%          0.830116     5825.000000       13.000000       40.500000   \n",
       "75%          4.380000     5880.000000       27.737500       44.950000   \n",
       "max         30.420000     5965.000000       42.050000       59.150000   \n",
       "\n",
       "       remainder__V70  remainder__V71  remainder__V72  remainder__Class  \n",
       "count     2534.000000     2534.000000     2534.000000       2534.000000  \n",
       "mean     10164.198442       -0.119949        0.372026          0.063141  \n",
       "std         51.428116       34.693349        1.317438          0.243265  \n",
       "min       9975.000000     -135.000000        0.000000          0.000000  \n",
       "25%      10130.000000      -20.000000        0.000000          0.000000  \n",
       "50%      10160.000000       -0.119949        0.000000          0.000000  \n",
       "75%      10190.000000       15.000000        0.050000          0.000000  \n",
       "max      10350.000000      140.000000       20.650000          1.000000  \n",
       "\n",
       "[8 rows x 73 columns]"
      ]
     },
     "execution_count": 252,
     "metadata": {},
     "output_type": "execute_result"
    }
   ],
   "source": [
    "dataset_name = \"ozone-eighthr\"\n",
    "df =  get_dataset_df(dataset_name)\n",
    "df.describe()"
   ]
  },
  {
   "cell_type": "code",
   "execution_count": 269,
   "id": "dce35086-1aca-40cd-b82f-e330471d1977",
   "metadata": {},
   "outputs": [
    {
     "data": {
      "application/vnd.jupyter.widget-view+json": {
       "model_id": "089ab208590d47d0a849da77ebc2f8e5",
       "version_major": 2,
       "version_minor": 0
      },
      "text/plain": [
       "interactive(children=(Select(description='Dataset:', options=('abalone-3class', 'artificial-characters', 'auto…"
      ]
     },
     "metadata": {},
     "output_type": "display_data"
    },
    {
     "data": {
      "text/plain": [
       "<function __main__.test_passive_svm(dataset_name)>"
      ]
     },
     "execution_count": 269,
     "metadata": {},
     "output_type": "execute_result"
    }
   ],
   "source": [
    "def test_passive_svm(dataset_name):\n",
    "    test_passive(get_dataset_df(dataset_name), SVC())\n",
    "    \n",
    "widgets.interact(test_passive_svm, dataset_name=widgets.Select(options=dataset_names, description=\"Dataset:\"))"
   ]
  },
  {
   "cell_type": "markdown",
   "id": "0f52bbcd-0cc4-464e-8976-b8fec73a968d",
   "metadata": {},
   "source": [
    "Dataset extremamente desbalanceado"
   ]
  },
  {
   "cell_type": "code",
   "execution_count": 226,
   "id": "bdfd9b71-a06b-40c4-a76c-984612113161",
   "metadata": {},
   "outputs": [
    {
     "data": {
      "text/plain": [
       "remainder__Class\n",
       "0    2374\n",
       "1     160\n",
       "Name: count, dtype: int64"
      ]
     },
     "execution_count": 226,
     "metadata": {},
     "output_type": "execute_result"
    }
   ],
   "source": []
  },
  {
   "cell_type": "markdown",
   "id": "b7cef86e-ad2c-4193-ae37-b46e016f1aac",
   "metadata": {},
   "source": [
    "## Analizando demais Datasets"
   ]
  },
  {
   "cell_type": "code",
   "execution_count": 46,
   "id": "5b137607-8b3a-4683-9d53-99d5b3ee8967",
   "metadata": {},
   "outputs": [],
   "source": [
    "dataset_names = ! cat $DATA_DIR/datasets.txt"
   ]
  },
  {
   "cell_type": "code",
   "execution_count": 160,
   "id": "7d1d60a0-b3b2-4ec0-9368-848e1f17960b",
   "metadata": {},
   "outputs": [],
   "source": [
    "def plot_results(dataset_name, learner, ax):\n",
    "    \n",
    "    ax.set_title(dataset_name)\n",
    "    \n",
    "    dataset_name+='#'\n",
    "    random_file, = !ls $RESULT_DIR | grep $dataset_name | grep $learner | grep 'random'\n",
    "    margin_file, = !ls $RESULT_DIR | grep $dataset_name | grep $learner | grep 'margin'\n",
    "\n",
    "    rand_df = pd.read_csv(os.path.join(RESULT_DIR,random_file), index_col=0)\n",
    "    margin_df = pd.read_csv(os.path.join(RESULT_DIR, margin_file), index_col=0)\n",
    "\n",
    "\n",
    "\n",
    "    ax.plot(rand_df.mean(axis=1), color=\"firebrick\")\n",
    "\n",
    "    for _, column in margin_df.items():\n",
    "        ax.plot(column, linestyle='--', alpha=0.2, color=\"steelblue\")\n",
    "    \n",
    "    ax.plot(margin_df.mean(axis=1), color=\"steelblue\")\n",
    "\n",
    "    ax.grid(True)\n",
    "    ax.set_ybound(-1,1)"
   ]
  },
  {
   "cell_type": "markdown",
   "id": "21808a48-3759-4170-87d4-49cb66ad366f",
   "metadata": {},
   "source": [
    "## Análise para SVM"
   ]
  },
  {
   "cell_type": "code",
   "execution_count": 161,
   "id": "ba3d01ad-91b6-49c4-893c-2fa8727048e3",
   "metadata": {},
   "outputs": [
    {
     "data": {
      "application/vnd.jupyter.widget-view+json": {
       "model_id": "b6cefb4be0e64602b9fafeb0d492a462",
       "version_major": 2,
       "version_minor": 0
      },
      "text/plain": [
       "interactive(children=(SelectionSlider(description='Dataset:', options=('abalone-3class', 'artificial-character…"
      ]
     },
     "metadata": {},
     "output_type": "display_data"
    },
    {
     "data": {
      "text/plain": [
       "<function __main__.plot_svm(dataset_name)>"
      ]
     },
     "execution_count": 161,
     "metadata": {},
     "output_type": "execute_result"
    }
   ],
   "source": [
    "def plot_svm(dataset_name):\n",
    "    fig, ax = plt.subplots()\n",
    "    plot_results(dataset_name, \"SVC\", ax)\n",
    "    \n",
    "widgets.interact(plot_svm,\n",
    "                 dataset_name=widgets.SelectionSlider(options=dataset_names,\n",
    "                                                      description=\"Dataset:\"),\n",
    "                ax=ax)"
   ]
  },
  {
   "cell_type": "markdown",
   "id": "9ee1932e-8ea2-4bd3-bf43-06c51e9f3ad7",
   "metadata": {},
   "source": [
    "## Análise Geral"
   ]
  },
  {
   "cell_type": "code",
   "execution_count": 220,
   "id": "a637e9b2-c8e1-4b0f-ab98-9f7e46253e00",
   "metadata": {},
   "outputs": [
    {
     "data": {
      "application/vnd.jupyter.widget-view+json": {
       "model_id": "7965f71ece2c4ddfa1496df8a1dc05cb",
       "version_major": 2,
       "version_minor": 0
      },
      "text/plain": [
       "interactive(children=(SelectionSlider(description='Dataset:', options=('abalone-3class', 'artificial-character…"
      ]
     },
     "metadata": {},
     "output_type": "display_data"
    },
    {
     "data": {
      "text/plain": [
       "<function __main__.plot_general(dataset_name)>"
      ]
     },
     "execution_count": 220,
     "metadata": {},
     "output_type": "execute_result"
    }
   ],
   "source": [
    "def plot_general(dataset_name):\n",
    "    fig, axs = plt.subplots(2, 2)\n",
    "    leaners = [\"SVC\", \"5NN\", \"DecisionTree\", \"GaussianNB\"]\n",
    "    \n",
    "    \n",
    "    for learner, ax in zip(leaners, axs.flatten()):\n",
    "        plot_results(dataset_name, learner, ax)\n",
    "        ax.set_title(learner)\n",
    "    \n",
    "    \n",
    "    df = pd.read_csv(os.path.join(DATA_DIR, 'csv', dataset_name + '.csv'))\n",
    "    df_classes = df.iloc[:, -1]\n",
    "    \n",
    "    ent = entropy(df_classes.value_counts()/len(df_classes))\n",
    "    n_labeled = (100/len(df_classes))\n",
    "    \n",
    "    fig.suptitle(f\"{dataset_name}\", y=1.02, fontweight=\"bold\") \n",
    "    fig.text(0.5, 0.95,f\"Entropia:{ent:.2f}, Porporção dados Anotados:{n_labeled:.2f}\", ha=\"center\")\n",
    "    fig.tight_layout()\n",
    "    \n",
    "widgets.interact(plot_general,\n",
    "                 dataset_name=widgets.SelectionSlider(options=dataset_names,\n",
    "                                                      description=\"Dataset:\"),\n",
    "                 ax=ax)\n"
   ]
  },
  {
   "cell_type": "code",
   "execution_count": 185,
   "id": "0c15dab2-ac5c-48a6-ae7c-59ca6016223a",
   "metadata": {},
   "outputs": [
    {
     "name": "stdout",
     "output_type": "stream",
     "text": [
      "0.023940627244433806\n"
     ]
    },
    {
     "data": {
      "text/plain": [
       "1.0979199138101299"
      ]
     },
     "execution_count": 185,
     "metadata": {},
     "output_type": "execute_result"
    }
   ],
   "source": [
    "df = pd.read_csv(os.path.join(DATA_DIR, 'csv', dataset_names[0] + '.csv'))\n",
    "y = df.iloc[:, -1]\n",
    "print(100/len(y))\n",
    "entropy(y.value_counts()/len(y))"
   ]
  },
  {
   "cell_type": "code",
   "execution_count": 185,
   "id": "45b98bbf-bb03-4eff-b487-e398c81fe935",
   "metadata": {},
   "outputs": [
    {
     "name": "stdout",
     "output_type": "stream",
     "text": [
      "0.023940627244433806\n"
     ]
    },
    {
     "data": {
      "text/plain": [
       "1.0979199138101299"
      ]
     },
     "execution_count": 185,
     "metadata": {},
     "output_type": "execute_result"
    }
   ],
   "source": [
    "df = pd.read_csv(os.path.join(DATA_DIR, 'csv', dataset_names[0] + '.csv'))\n"
   ]
  },
  {
   "cell_type": "code",
   "execution_count": 180,
   "id": "4a2c8548-cd5a-4faa-8bc3-7b94d7484fad",
   "metadata": {},
   "outputs": [],
   "source": [
    "from scipy.stats import entropy"
   ]
  }
 ],
 "metadata": {
  "kernelspec": {
   "display_name": "Python 3 (ipykernel)",
   "language": "python",
   "name": "python3"
  },
  "language_info": {
   "codemirror_mode": {
    "name": "ipython",
    "version": 3
   },
   "file_extension": ".py",
   "mimetype": "text/x-python",
   "name": "python",
   "nbconvert_exporter": "python",
   "pygments_lexer": "ipython3",
   "version": "3.10.12"
  }
 },
 "nbformat": 4,
 "nbformat_minor": 5
}
